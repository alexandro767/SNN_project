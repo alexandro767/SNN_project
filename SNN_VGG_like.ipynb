{
  "cells": [
    {
      "cell_type": "code",
      "execution_count": 1,
      "metadata": {
        "id": "5tn_wUlopkon",
        "pycharm": {
          "name": "#%%\n"
        },
        "colab": {
          "base_uri": "https://localhost:8080/"
        },
        "outputId": "06be087d-daa0-4984-9728-286a91e5daf3"
      },
      "outputs": [
        {
          "output_type": "stream",
          "name": "stdout",
          "text": [
            "\u001b[2K     \u001b[90m━━━━━━━━━━━━━━━━━━━━━━━━━━━━━━━━━━━━━━━━\u001b[0m \u001b[32m125.3/125.3 kB\u001b[0m \u001b[31m1.2 MB/s\u001b[0m eta \u001b[36m0:00:00\u001b[0m\n",
            "\u001b[2K     \u001b[90m━━━━━━━━━━━━━━━━━━━━━━━━━━━━━━━━━━━━━━━━\u001b[0m \u001b[32m21.3/21.3 MB\u001b[0m \u001b[31m48.8 MB/s\u001b[0m eta \u001b[36m0:00:00\u001b[0m\n",
            "\u001b[?25h"
          ]
        }
      ],
      "source": [
        "!pip install snntorch -q"
      ]
    },
    {
      "cell_type": "code",
      "execution_count": 2,
      "metadata": {
        "id": "QXZ6Tuqc9Q-l",
        "colab": {
          "base_uri": "https://localhost:8080/"
        },
        "outputId": "db658d3c-db2d-414a-d3cb-731d6355e88a"
      },
      "outputs": [
        {
          "output_type": "stream",
          "name": "stderr",
          "text": [
            "<ipython-input-2-bd886847109b>:4: DeprecationWarning: The module snntorch.backprop will be deprecated in  a future release. Writing out your own training loop will lead to substantially faster performance.\n",
            "  from snntorch import backprop\n"
          ]
        }
      ],
      "source": [
        "# imports\n",
        "import snntorch as snn\n",
        "from snntorch import surrogate\n",
        "from snntorch import backprop\n",
        "from snntorch import functional as SF\n",
        "from snntorch import utils\n",
        "from snntorch import spikeplot as splt\n",
        "\n",
        "import torch\n",
        "import torch.nn as nn\n",
        "from torch.utils.data import DataLoader\n",
        "from torchvision import datasets, transforms\n",
        "import torch.nn.functional as F\n",
        "\n",
        "import matplotlib.pyplot as plt\n",
        "import numpy as np\n",
        "import itertools\n",
        "\n",
        "from tqdm import tqdm"
      ]
    },
    {
      "cell_type": "markdown",
      "metadata": {
        "id": "Wgzf83HE2BeB"
      },
      "source": [
        "## Data and dataloaders"
      ]
    },
    {
      "cell_type": "code",
      "execution_count": 3,
      "metadata": {
        "id": "pxO32dntlOB2"
      },
      "outputs": [],
      "source": [
        "batch_size = 64\n",
        "data_path_c='/tmp/data/cifar10'\n",
        "data_path_m='/tmp/data/mnist'\n",
        "\n",
        "dtype = torch.float\n",
        "device = torch.device(\"cuda\") if torch.cuda.is_available() else torch.device(\"cpu\")"
      ]
    },
    {
      "cell_type": "code",
      "execution_count": 5,
      "metadata": {
        "id": "pE7eGTnulSBA",
        "colab": {
          "base_uri": "https://localhost:8080/"
        },
        "outputId": "f13d32c2-8772-4718-fa83-c775e258f4c2"
      },
      "outputs": [
        {
          "output_type": "stream",
          "name": "stdout",
          "text": [
            "Downloading https://www.cs.toronto.edu/~kriz/cifar-10-python.tar.gz to /tmp/data/cifar10/cifar-10-python.tar.gz\n"
          ]
        },
        {
          "output_type": "stream",
          "name": "stderr",
          "text": [
            "100%|██████████| 170498071/170498071 [00:02<00:00, 61387163.84it/s]\n"
          ]
        },
        {
          "output_type": "stream",
          "name": "stdout",
          "text": [
            "Extracting /tmp/data/cifar10/cifar-10-python.tar.gz to /tmp/data/cifar10\n",
            "Files already downloaded and verified\n"
          ]
        }
      ],
      "source": [
        "transform = transforms.Compose([\n",
        "                              #  transforms.Resize((28, 28)), # for MNIST\n",
        "                               transforms.Resize((32, 32)), # for CIFAR10\n",
        "                               transforms.Grayscale(),\n",
        "                               transforms.ToTensor(),\n",
        "                               transforms.Normalize((0), (1))\n",
        "                              ])\n",
        "\n",
        "\n",
        "# for MNIST\n",
        "\n",
        "# mnist_train = datasets.MNIST(data_path_m, train=True, download=True, transform=transform)\n",
        "# mnist_test = datasets.MNIST(data_path_m, train=False, download=True, transform=transform)\n",
        "\n",
        "# train_loader = DataLoader(mnist_train, batch_size=batch_size, shuffle=True, drop_last=True)\n",
        "# test_loader = DataLoader(mnist_test, batch_size=batch_size, shuffle=True, drop_last=True)\n",
        "\n",
        "\n",
        "# for CIFAR10\n",
        "\n",
        "cifar_train = datasets.CIFAR10(data_path_c, train=True, download=True, transform=transform)\n",
        "cifar_test = datasets.CIFAR10(data_path_c, train=False, download=True, transform=transform)\n",
        "\n",
        "train_loader = DataLoader(cifar_train, batch_size=batch_size, shuffle=True, drop_last=True)\n",
        "test_loader = DataLoader(cifar_test, batch_size=batch_size, shuffle=True, drop_last=True)"
      ]
    },
    {
      "cell_type": "markdown",
      "source": [
        "## Defining the network"
      ],
      "metadata": {
        "id": "fp5R1nKs03el"
      }
    },
    {
      "cell_type": "code",
      "execution_count": 7,
      "metadata": {
        "id": "AoYBY89angvp"
      },
      "outputs": [],
      "source": [
        "spike_grad = surrogate.fast_sigmoid(slope=25)\n",
        "beta = 0.5\n",
        "num_steps = 50\n",
        "\n",
        "net = nn.Sequential(nn.Conv2d(1, 32, 3),\n",
        "                    snn.Leaky(beta=beta, spike_grad=spike_grad, init_hidden=True),\n",
        "                    nn.Conv2d(32, 32, 3),\n",
        "                    snn.Leaky(beta=beta, spike_grad=spike_grad, init_hidden=True),\n",
        "                    nn.MaxPool2d(2),\n",
        "\n",
        "                    nn.Conv2d(32, 64, 3),\n",
        "                    snn.Leaky(beta=beta, spike_grad=spike_grad, init_hidden=True),\n",
        "                    nn.Conv2d(64, 64, 3),\n",
        "                    snn.Leaky(beta=beta, spike_grad=spike_grad, init_hidden=True),\n",
        "                    nn.MaxPool2d(2),\n",
        "\n",
        "                    nn.Flatten(),\n",
        "                    nn.Linear(1600, 10), # for CIFAR10\n",
        "                    # nn.Linear(1024, 10), # for MNIST\n",
        "                    snn.Leaky(beta=beta, spike_grad=spike_grad, init_hidden=True, output=True)\n",
        "\n",
        "                    ).to(device)"
      ]
    },
    {
      "cell_type": "markdown",
      "metadata": {
        "id": "A-bCSQmBstvd"
      },
      "source": [
        "## Forward pass"
      ]
    },
    {
      "cell_type": "code",
      "execution_count": 10,
      "metadata": {
        "id": "ykdnD3tRuHcs"
      },
      "outputs": [],
      "source": [
        "def forward_pass(net, num_steps, data):\n",
        "    mem_rec = []\n",
        "    spk_rec = []\n",
        "    utils.reset(net)  # resets hidden states for all LIF neurons in net\n",
        "\n",
        "    for step in range(num_steps):\n",
        "        spk_out, mem_out = net(data)\n",
        "        spk_rec.append(spk_out)\n",
        "        mem_rec.append(mem_out)\n",
        "\n",
        "    return torch.stack(spk_rec, dim=0), torch.stack(mem_rec, dim=0)\n",
        "\n",
        "spk_rec, mem_rec = forward_pass(net, num_steps, data)"
      ]
    },
    {
      "cell_type": "markdown",
      "source": [
        "## Batch accuracy function"
      ],
      "metadata": {
        "id": "9dN_yqjA085o"
      }
    },
    {
      "cell_type": "code",
      "execution_count": 11,
      "metadata": {
        "id": "IqxDKFvrdXuF"
      },
      "outputs": [],
      "source": [
        "def batch_accuracy(test_loader, net, num_steps):\n",
        "    with torch.no_grad():\n",
        "        total = 0\n",
        "        acc = 0\n",
        "        net.eval()\n",
        "\n",
        "        for data, targets in test_loader:\n",
        "            data = data.to(device)\n",
        "            targets = targets.to(device)\n",
        "            spk_rec, _ = forward_pass(net, num_steps, data)\n",
        "\n",
        "            acc += SF.accuracy_rate(spk_rec, targets) * spk_rec.size(1)\n",
        "            total += spk_rec.size(1)\n",
        "\n",
        "    return acc/total"
      ]
    },
    {
      "cell_type": "markdown",
      "metadata": {
        "id": "F1pzWXlsYoIu"
      },
      "source": [
        "## Training Loop"
      ]
    },
    {
      "cell_type": "code",
      "source": [
        "torch.cuda.empty_cache()\n",
        "\n",
        "optimizer = torch.optim.Adam(net.parameters(), lr=1e-3, betas=(0.9, 0.999))\n",
        "loss_fn = nn.CrossEntropyLoss()\n",
        "num_epochs = 5 # actually 16 epochs were trained iteratively\n",
        "loss_hist = []\n",
        "test_loss_hist = []\n",
        "test_acc_hist = []\n",
        "counter = 0\n",
        "\n",
        "for epoch in range(num_epochs):\n",
        "    iter_counter = 0\n",
        "\n",
        "    for data, targets in tqdm(iter(train_loader)):\n",
        "        data = data.to(device)\n",
        "        targets = targets.to(device)\n",
        "\n",
        "        net.train()\n",
        "        spk_rec, mem_rec = forward_pass(net, num_steps, data)\n",
        "\n",
        "        loss_val = torch.zeros((1), dtype=dtype, device=device)\n",
        "        for step in range(num_steps):\n",
        "            loss_val += loss_fn(mem_rec[step], targets)\n",
        "\n",
        "        optimizer.zero_grad()\n",
        "        loss_val.backward()\n",
        "        optimizer.step()\n",
        "\n",
        "        loss_hist.append(loss_val.item())\n",
        "\n",
        "    with torch.no_grad():\n",
        "        net.eval()\n",
        "        test_acc = batch_accuracy(test_loader, net, num_steps)\n",
        "        print(f\"Epoch {epoch} Test acc: {test_acc * 100:.2f}%\\n\")\n",
        "        test_acc_hist.append(test_acc.item())"
      ],
      "metadata": {
        "colab": {
          "base_uri": "https://localhost:8080/"
        },
        "id": "5zmD3T5trSWy",
        "outputId": "9db9bd08-447b-4659-d4ef-05c732dec5b5"
      },
      "execution_count": 14,
      "outputs": [
        {
          "output_type": "stream",
          "name": "stderr",
          "text": [
            "100%|██████████| 781/781 [04:24<00:00,  2.95it/s]\n"
          ]
        },
        {
          "output_type": "stream",
          "name": "stdout",
          "text": [
            "Epoch 0 Test acc: 33.56%\n",
            "\n"
          ]
        },
        {
          "output_type": "stream",
          "name": "stderr",
          "text": [
            "100%|██████████| 781/781 [04:23<00:00,  2.96it/s]\n"
          ]
        },
        {
          "output_type": "stream",
          "name": "stdout",
          "text": [
            "Epoch 1 Test acc: 43.78%\n",
            "\n"
          ]
        },
        {
          "output_type": "stream",
          "name": "stderr",
          "text": [
            "100%|██████████| 781/781 [04:23<00:00,  2.96it/s]\n"
          ]
        },
        {
          "output_type": "stream",
          "name": "stdout",
          "text": [
            "Epoch 2 Test acc: 53.46%\n",
            "\n"
          ]
        },
        {
          "output_type": "stream",
          "name": "stderr",
          "text": [
            "100%|██████████| 781/781 [04:24<00:00,  2.95it/s]\n"
          ]
        },
        {
          "output_type": "stream",
          "name": "stdout",
          "text": [
            "Epoch 3 Test acc: 57.12%\n",
            "\n"
          ]
        },
        {
          "output_type": "stream",
          "name": "stderr",
          "text": [
            "100%|██████████| 781/781 [04:23<00:00,  2.96it/s]\n"
          ]
        },
        {
          "output_type": "stream",
          "name": "stdout",
          "text": [
            "Epoch 4 Test acc: 60.42%\n",
            "\n"
          ]
        }
      ]
    },
    {
      "cell_type": "markdown",
      "source": [
        "## Saving the model"
      ],
      "metadata": {
        "id": "VM-PdzYR16QB"
      }
    },
    {
      "cell_type": "code",
      "source": [
        "torch.save(net.state_dict(), 'DL_model_16e.pth')"
      ],
      "metadata": {
        "id": "qtfZuPkmdDnD"
      },
      "execution_count": 27,
      "outputs": []
    },
    {
      "cell_type": "markdown",
      "source": [
        "## Plotting accuracy"
      ],
      "metadata": {
        "id": "ENmSPq7e18KR"
      }
    },
    {
      "cell_type": "code",
      "source": [
        "fig = plt.figure(facecolor=\"w\", figsize=(10, 5))\n",
        "plt.plot(test_acc_hist)\n",
        "plt.title(\"Test accuracy\")\n",
        "plt.xlabel(\"Iteration\")\n",
        "plt.ylabel(\"Accuracy\")\n",
        "plt.show()"
      ],
      "metadata": {
        "colab": {
          "base_uri": "https://localhost:8080/",
          "height": 487
        },
        "id": "E9vcf82l0nbQ",
        "outputId": "6aa45182-d36f-45f4-b678-78e978b4ed01"
      },
      "execution_count": 24,
      "outputs": [
        {
          "output_type": "display_data",
          "data": {
            "text/plain": [
              "<Figure size 1000x500 with 1 Axes>"
            ],
            "image/png": "[encoded data removed]"
          },
          "metadata": {}
        }
      ]
    }
  ],
  "metadata": {
    "accelerator": "GPU",
    "colab": {
      "provenance": []
    },
    "kernelspec": {
      "display_name": "Python 3",
      "language": "python",
      "name": "python3"
    },
    "language_info": {
      "codemirror_mode": {
        "name": "ipython",
        "version": 3
      },
      "file_extension": ".py",
      "mimetype": "text/x-python",
      "name": "python",
      "nbconvert_exporter": "python",
      "pygments_lexer": "ipython2",
      "version": "3.11.1 (v3.11.1:a7a450f84a, Dec  6 2022, 15:24:06) [Clang 13.0.0 (clang-1300.0.29.30)]"
    },
    "vscode": {
      "interpreter": {
        "hash": "aee8b7b246df8f9039afb4144a1f6fd8d2ca17a180786b69acc140d282b71a49"
      }
    }
  },
  "nbformat": 4,
  "nbformat_minor": 0
}