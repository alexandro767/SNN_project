{
  "cells": [
    {
      "cell_type": "markdown",
      "source": [
        "# Surrogate gradient descent for CNN-SNN"
      ],
      "metadata": {
        "id": "TSseIg5ZJEkP"
      }
    },
    {
      "cell_type": "code",
      "execution_count": null,
      "metadata": {
        "id": "5tn_wUlopkon",
        "pycharm": {
          "name": "#%%\n"
        },
        "outputId": "d871b651-0429-4c79-d9ae-28136f497942",
        "colab": {
          "base_uri": "https://localhost:8080/"
        }
      },
      "outputs": [
        {
          "output_type": "stream",
          "name": "stdout",
          "text": [
            "Collecting snntorch\n",
            "  Downloading snntorch-0.9.1-py2.py3-none-any.whl (125 kB)\n",
            "\u001b[?25l     \u001b[90m━━━━━━━━━━━━━━━━━━━━━━━━━━━━━━━━━━━━━━━━\u001b[0m \u001b[32m0.0/125.3 kB\u001b[0m \u001b[31m?\u001b[0m eta \u001b[36m-:--:--\u001b[0m\r\u001b[2K     \u001b[91m━━━━━━━━━━━━━━━━━━━━━━\u001b[0m\u001b[91m╸\u001b[0m\u001b[90m━━━━━━━━━━━━━━━━━\u001b[0m \u001b[32m71.7/125.3 kB\u001b[0m \u001b[31m2.1 MB/s\u001b[0m eta \u001b[36m0:00:01\u001b[0m\r\u001b[2K     \u001b[90m━━━━━━━━━━━━━━━━━━━━━━━━━━━━━━━━━━━━━━━━\u001b[0m \u001b[32m125.3/125.3 kB\u001b[0m \u001b[31m1.9 MB/s\u001b[0m eta \u001b[36m0:00:00\u001b[0m\n",
            "\u001b[?25hRequirement already satisfied: torch>=1.1.0 in /usr/local/lib/python3.10/dist-packages (from snntorch) (2.3.0+cu121)\n",
            "Requirement already satisfied: pandas in /usr/local/lib/python3.10/dist-packages (from snntorch) (2.0.3)\n",
            "Requirement already satisfied: matplotlib in /usr/local/lib/python3.10/dist-packages (from snntorch) (3.7.1)\n",
            "Requirement already satisfied: numpy>=1.17 in /usr/local/lib/python3.10/dist-packages (from snntorch) (1.25.2)\n",
            "Collecting nir (from snntorch)\n",
            "  Downloading nir-1.0.4-py3-none-any.whl (18 kB)\n",
            "Collecting nirtorch (from snntorch)\n",
            "  Downloading nirtorch-1.0-py3-none-any.whl (13 kB)\n",
            "Requirement already satisfied: filelock in /usr/local/lib/python3.10/dist-packages (from torch>=1.1.0->snntorch) (3.14.0)\n",
            "Requirement already satisfied: typing-extensions>=4.8.0 in /usr/local/lib/python3.10/dist-packages (from torch>=1.1.0->snntorch) (4.11.0)\n",
            "Requirement already satisfied: sympy in /usr/local/lib/python3.10/dist-packages (from torch>=1.1.0->snntorch) (1.12)\n",
            "Requirement already satisfied: networkx in /usr/local/lib/python3.10/dist-packages (from torch>=1.1.0->snntorch) (3.3)\n",
            "Requirement already satisfied: jinja2 in /usr/local/lib/python3.10/dist-packages (from torch>=1.1.0->snntorch) (3.1.4)\n",
            "Requirement already satisfied: fsspec in /usr/local/lib/python3.10/dist-packages (from torch>=1.1.0->snntorch) (2023.6.0)\n",
            "Collecting nvidia-cuda-nvrtc-cu12==12.1.105 (from torch>=1.1.0->snntorch)\n",
            "  Using cached nvidia_cuda_nvrtc_cu12-12.1.105-py3-none-manylinux1_x86_64.whl (23.7 MB)\n",
            "Collecting nvidia-cuda-runtime-cu12==12.1.105 (from torch>=1.1.0->snntorch)\n",
            "  Using cached nvidia_cuda_runtime_cu12-12.1.105-py3-none-manylinux1_x86_64.whl (823 kB)\n",
            "Collecting nvidia-cuda-cupti-cu12==12.1.105 (from torch>=1.1.0->snntorch)\n",
            "  Using cached nvidia_cuda_cupti_cu12-12.1.105-py3-none-manylinux1_x86_64.whl (14.1 MB)\n",
            "Collecting nvidia-cudnn-cu12==8.9.2.26 (from torch>=1.1.0->snntorch)\n",
            "  Using cached nvidia_cudnn_cu12-8.9.2.26-py3-none-manylinux1_x86_64.whl (731.7 MB)\n",
            "Collecting nvidia-cublas-cu12==12.1.3.1 (from torch>=1.1.0->snntorch)\n",
            "  Using cached nvidia_cublas_cu12-12.1.3.1-py3-none-manylinux1_x86_64.whl (410.6 MB)\n",
            "Collecting nvidia-cufft-cu12==11.0.2.54 (from torch>=1.1.0->snntorch)\n",
            "  Using cached nvidia_cufft_cu12-11.0.2.54-py3-none-manylinux1_x86_64.whl (121.6 MB)\n",
            "Collecting nvidia-curand-cu12==10.3.2.106 (from torch>=1.1.0->snntorch)\n",
            "  Using cached nvidia_curand_cu12-10.3.2.106-py3-none-manylinux1_x86_64.whl (56.5 MB)\n",
            "Collecting nvidia-cusolver-cu12==11.4.5.107 (from torch>=1.1.0->snntorch)\n",
            "  Using cached nvidia_cusolver_cu12-11.4.5.107-py3-none-manylinux1_x86_64.whl (124.2 MB)\n",
            "Collecting nvidia-cusparse-cu12==12.1.0.106 (from torch>=1.1.0->snntorch)\n",
            "  Using cached nvidia_cusparse_cu12-12.1.0.106-py3-none-manylinux1_x86_64.whl (196.0 MB)\n",
            "Collecting nvidia-nccl-cu12==2.20.5 (from torch>=1.1.0->snntorch)\n",
            "  Using cached nvidia_nccl_cu12-2.20.5-py3-none-manylinux2014_x86_64.whl (176.2 MB)\n",
            "Collecting nvidia-nvtx-cu12==12.1.105 (from torch>=1.1.0->snntorch)\n",
            "  Using cached nvidia_nvtx_cu12-12.1.105-py3-none-manylinux1_x86_64.whl (99 kB)\n",
            "Requirement already satisfied: triton==2.3.0 in /usr/local/lib/python3.10/dist-packages (from torch>=1.1.0->snntorch) (2.3.0)\n",
            "Collecting nvidia-nvjitlink-cu12 (from nvidia-cusolver-cu12==11.4.5.107->torch>=1.1.0->snntorch)\n",
            "  Downloading nvidia_nvjitlink_cu12-12.5.40-py3-none-manylinux2014_x86_64.whl (21.3 MB)\n",
            "\u001b[2K     \u001b[90m━━━━━━━━━━━━━━━━━━━━━━━━━━━━━━━━━━━━━━━━\u001b[0m \u001b[32m21.3/21.3 MB\u001b[0m \u001b[31m77.4 MB/s\u001b[0m eta \u001b[36m0:00:00\u001b[0m\n",
            "\u001b[?25hRequirement already satisfied: contourpy>=1.0.1 in /usr/local/lib/python3.10/dist-packages (from matplotlib->snntorch) (1.2.1)\n",
            "Requirement already satisfied: cycler>=0.10 in /usr/local/lib/python3.10/dist-packages (from matplotlib->snntorch) (0.12.1)\n",
            "Requirement already satisfied: fonttools>=4.22.0 in /usr/local/lib/python3.10/dist-packages (from matplotlib->snntorch) (4.51.0)\n",
            "Requirement already satisfied: kiwisolver>=1.0.1 in /usr/local/lib/python3.10/dist-packages (from matplotlib->snntorch) (1.4.5)\n",
            "Requirement already satisfied: packaging>=20.0 in /usr/local/lib/python3.10/dist-packages (from matplotlib->snntorch) (24.0)\n",
            "Requirement already satisfied: pillow>=6.2.0 in /usr/local/lib/python3.10/dist-packages (from matplotlib->snntorch) (9.4.0)\n",
            "Requirement already satisfied: pyparsing>=2.3.1 in /usr/local/lib/python3.10/dist-packages (from matplotlib->snntorch) (3.1.2)\n",
            "Requirement already satisfied: python-dateutil>=2.7 in /usr/local/lib/python3.10/dist-packages (from matplotlib->snntorch) (2.8.2)\n",
            "Requirement already satisfied: h5py in /usr/local/lib/python3.10/dist-packages (from nir->snntorch) (3.9.0)\n",
            "Requirement already satisfied: pytz>=2020.1 in /usr/local/lib/python3.10/dist-packages (from pandas->snntorch) (2023.4)\n",
            "Requirement already satisfied: tzdata>=2022.1 in /usr/local/lib/python3.10/dist-packages (from pandas->snntorch) (2024.1)\n",
            "Requirement already satisfied: six>=1.5 in /usr/local/lib/python3.10/dist-packages (from python-dateutil>=2.7->matplotlib->snntorch) (1.16.0)\n",
            "Requirement already satisfied: MarkupSafe>=2.0 in /usr/local/lib/python3.10/dist-packages (from jinja2->torch>=1.1.0->snntorch) (2.1.5)\n",
            "Requirement already satisfied: mpmath>=0.19 in /usr/local/lib/python3.10/dist-packages (from sympy->torch>=1.1.0->snntorch) (1.3.0)\n",
            "Installing collected packages: nvidia-nvtx-cu12, nvidia-nvjitlink-cu12, nvidia-nccl-cu12, nvidia-curand-cu12, nvidia-cufft-cu12, nvidia-cuda-runtime-cu12, nvidia-cuda-nvrtc-cu12, nvidia-cuda-cupti-cu12, nvidia-cublas-cu12, nvidia-cusparse-cu12, nvidia-cudnn-cu12, nir, nvidia-cusolver-cu12, nirtorch, snntorch\n",
            "Successfully installed nir-1.0.4 nirtorch-1.0 nvidia-cublas-cu12-12.1.3.1 nvidia-cuda-cupti-cu12-12.1.105 nvidia-cuda-nvrtc-cu12-12.1.105 nvidia-cuda-runtime-cu12-12.1.105 nvidia-cudnn-cu12-8.9.2.26 nvidia-cufft-cu12-11.0.2.54 nvidia-curand-cu12-10.3.2.106 nvidia-cusolver-cu12-11.4.5.107 nvidia-cusparse-cu12-12.1.0.106 nvidia-nccl-cu12-2.20.5 nvidia-nvjitlink-cu12-12.5.40 nvidia-nvtx-cu12-12.1.105 snntorch-0.9.1\n"
          ]
        }
      ],
      "source": [
        "!pip install snntorch"
      ]
    },
    {
      "cell_type": "code",
      "execution_count": null,
      "metadata": {
        "id": "QXZ6Tuqc9Q-l",
        "outputId": "09597992-1c97-4e8c-b807-afd62037c78b",
        "colab": {
          "base_uri": "https://localhost:8080/"
        }
      },
      "outputs": [
        {
          "output_type": "stream",
          "name": "stderr",
          "text": [
            "<ipython-input-2-bd886847109b>:4: DeprecationWarning: The module snntorch.backprop will be deprecated in  a future release. Writing out your own training loop will lead to substantially faster performance.\n",
            "  from snntorch import backprop\n"
          ]
        }
      ],
      "source": [
        "# imports\n",
        "import snntorch as snn\n",
        "from snntorch import surrogate\n",
        "from snntorch import backprop\n",
        "from snntorch import functional as SF\n",
        "from snntorch import utils\n",
        "from snntorch import spikeplot as splt\n",
        "\n",
        "import torch\n",
        "import torch.nn as nn\n",
        "from torch.utils.data import DataLoader\n",
        "from torchvision import datasets, transforms\n",
        "import torch.nn.functional as F\n",
        "\n",
        "import matplotlib.pyplot as plt\n",
        "import numpy as np\n",
        "import itertools"
      ]
    },
    {
      "cell_type": "markdown",
      "metadata": {
        "id": "gt2xMbLY9dVE"
      },
      "source": [
        "# 1. Surrogate Gradient Descent"
      ]
    },
    {
      "cell_type": "code",
      "execution_count": null,
      "metadata": {
        "id": "2dCWD_qajyLw"
      },
      "outputs": [],
      "source": [
        "spike_grad = surrogate.fast_sigmoid(slope=25)\n",
        "beta = 0.5\n",
        "\n",
        "lif1 = snn.Leaky(beta=beta, spike_grad=spike_grad)"
      ]
    },
    {
      "cell_type": "markdown",
      "metadata": {
        "id": "Wgzf83HE2BeB"
      },
      "source": [
        "# 2. Setting up the CSNN\n",
        "## 2.1 DataLoaders"
      ]
    },
    {
      "cell_type": "code",
      "execution_count": null,
      "metadata": {
        "id": "pxO32dntlOB2"
      },
      "outputs": [],
      "source": [
        "# dataloader arguments\n",
        "batch_size = 128\n",
        "data_path='/tmp/data/mnist'\n",
        "\n",
        "dtype = torch.float\n",
        "device = torch.device(\"cuda\") if torch.cuda.is_available() else torch.device(\"cpu\")"
      ]
    },
    {
      "cell_type": "code",
      "execution_count": null,
      "metadata": {
        "id": "pE7eGTnulSBA",
        "outputId": "8c9d7fdc-ca1b-4c90-9f87-5e11b1957629",
        "colab": {
          "base_uri": "https://localhost:8080/"
        }
      },
      "outputs": [
        {
          "output_type": "stream",
          "name": "stdout",
          "text": [
            "Downloading http://yann.lecun.com/exdb/mnist/train-images-idx3-ubyte.gz\n",
            "Failed to download (trying next):\n",
            "HTTP Error 403: Forbidden\n",
            "\n",
            "Downloading https://ossci-datasets.s3.amazonaws.com/mnist/train-images-idx3-ubyte.gz\n",
            "Downloading https://ossci-datasets.s3.amazonaws.com/mnist/train-images-idx3-ubyte.gz to /tmp/data/mnist/MNIST/raw/train-images-idx3-ubyte.gz\n"
          ]
        },
        {
          "output_type": "stream",
          "name": "stderr",
          "text": [
            "100%|██████████| 9912422/9912422 [00:02<00:00, 4588148.69it/s]\n"
          ]
        },
        {
          "output_type": "stream",
          "name": "stdout",
          "text": [
            "Extracting /tmp/data/mnist/MNIST/raw/train-images-idx3-ubyte.gz to /tmp/data/mnist/MNIST/raw\n",
            "\n",
            "Downloading http://yann.lecun.com/exdb/mnist/train-labels-idx1-ubyte.gz\n",
            "Failed to download (trying next):\n",
            "HTTP Error 403: Forbidden\n",
            "\n",
            "Downloading https://ossci-datasets.s3.amazonaws.com/mnist/train-labels-idx1-ubyte.gz\n",
            "Downloading https://ossci-datasets.s3.amazonaws.com/mnist/train-labels-idx1-ubyte.gz to /tmp/data/mnist/MNIST/raw/train-labels-idx1-ubyte.gz\n"
          ]
        },
        {
          "output_type": "stream",
          "name": "stderr",
          "text": [
            "100%|██████████| 28881/28881 [00:00<00:00, 131778.52it/s]\n"
          ]
        },
        {
          "output_type": "stream",
          "name": "stdout",
          "text": [
            "Extracting /tmp/data/mnist/MNIST/raw/train-labels-idx1-ubyte.gz to /tmp/data/mnist/MNIST/raw\n",
            "\n",
            "Downloading http://yann.lecun.com/exdb/mnist/t10k-images-idx3-ubyte.gz\n",
            "Failed to download (trying next):\n",
            "HTTP Error 403: Forbidden\n",
            "\n",
            "Downloading https://ossci-datasets.s3.amazonaws.com/mnist/t10k-images-idx3-ubyte.gz\n",
            "Downloading https://ossci-datasets.s3.amazonaws.com/mnist/t10k-images-idx3-ubyte.gz to /tmp/data/mnist/MNIST/raw/t10k-images-idx3-ubyte.gz\n"
          ]
        },
        {
          "output_type": "stream",
          "name": "stderr",
          "text": [
            "100%|██████████| 1648877/1648877 [00:01<00:00, 1089483.23it/s]\n"
          ]
        },
        {
          "output_type": "stream",
          "name": "stdout",
          "text": [
            "Extracting /tmp/data/mnist/MNIST/raw/t10k-images-idx3-ubyte.gz to /tmp/data/mnist/MNIST/raw\n",
            "\n",
            "Downloading http://yann.lecun.com/exdb/mnist/t10k-labels-idx1-ubyte.gz\n",
            "Failed to download (trying next):\n",
            "HTTP Error 403: Forbidden\n",
            "\n",
            "Downloading https://ossci-datasets.s3.amazonaws.com/mnist/t10k-labels-idx1-ubyte.gz\n",
            "Downloading https://ossci-datasets.s3.amazonaws.com/mnist/t10k-labels-idx1-ubyte.gz to /tmp/data/mnist/MNIST/raw/t10k-labels-idx1-ubyte.gz\n"
          ]
        },
        {
          "output_type": "stream",
          "name": "stderr",
          "text": [
            "100%|██████████| 4542/4542 [00:00<00:00, 9145717.12it/s]"
          ]
        },
        {
          "output_type": "stream",
          "name": "stdout",
          "text": [
            "Extracting /tmp/data/mnist/MNIST/raw/t10k-labels-idx1-ubyte.gz to /tmp/data/mnist/MNIST/raw\n",
            "\n"
          ]
        },
        {
          "output_type": "stream",
          "name": "stderr",
          "text": [
            "\n"
          ]
        }
      ],
      "source": [
        "# Define a transform\n",
        "transform = transforms.Compose([\n",
        "            transforms.Resize((28, 28)),\n",
        "            transforms.Grayscale(),\n",
        "            transforms.ToTensor(),\n",
        "            transforms.Normalize((0,), (1,))])\n",
        "\n",
        "mnist_train = datasets.MNIST(data_path, train=True, download=True, transform=transform)\n",
        "mnist_test = datasets.MNIST(data_path, train=False, download=True, transform=transform)\n",
        "\n",
        "# Create DataLoaders\n",
        "train_loader = DataLoader(mnist_train, batch_size=batch_size, shuffle=True, drop_last=True)\n",
        "test_loader = DataLoader(mnist_test, batch_size=batch_size, shuffle=True, drop_last=True)"
      ]
    },
    {
      "cell_type": "markdown",
      "metadata": {
        "id": "6v8fBXrVlY3f"
      },
      "source": [
        "## 2.2 Define the Network\n",
        "\n",
        "The convolutional network architecture to be used is: 12C5-MP2-64C5-MP2-1024FC10\n",
        "\n",
        "- 12C5 is a 5$\\times$5 convolutional kernel with 12 filters\n",
        "- MP2 is a 2$\\times$2 max-pooling function\n",
        "- 1024FC10 is a fully-connected layer that maps 1,024 neurons to 10 outputs"
      ]
    },
    {
      "cell_type": "code",
      "execution_count": null,
      "metadata": {
        "id": "foos_NlopDrb"
      },
      "outputs": [],
      "source": [
        "# neuron and simulation parameters\n",
        "spike_grad = surrogate.fast_sigmoid(slope=25)\n",
        "beta = 0.5\n",
        "num_steps = 50"
      ]
    },
    {
      "cell_type": "code",
      "execution_count": null,
      "metadata": {
        "id": "AoYBY89angvp"
      },
      "outputs": [],
      "source": [
        "#  Initialize Network\n",
        "net = nn.Sequential(nn.Conv2d(1, 12, 5),\n",
        "                    nn.MaxPool2d(2),\n",
        "                    snn.Leaky(beta=beta, spike_grad=spike_grad, init_hidden=True),\n",
        "                    nn.Conv2d(12, 64, 5),\n",
        "                    nn.MaxPool2d(2),\n",
        "                    snn.Leaky(beta=beta, spike_grad=spike_grad, init_hidden=True),\n",
        "                    nn.Flatten(),\n",
        "                    nn.Linear(64*4*4, 10),\n",
        "                    snn.Leaky(beta=beta, spike_grad=spike_grad, init_hidden=True, output=True)\n",
        "                    ).to(device)"
      ]
    },
    {
      "cell_type": "markdown",
      "metadata": {
        "id": "A-bCSQmBstvd"
      },
      "source": [
        "## 2.3 Forward-Pass\n"
      ]
    },
    {
      "cell_type": "code",
      "execution_count": null,
      "metadata": {
        "id": "IxPPMND-pMxE"
      },
      "outputs": [],
      "source": [
        "data, targets = next(iter(train_loader))\n",
        "data = data.to(device)\n",
        "targets = targets.to(device)\n",
        "\n",
        "for step in range(num_steps):\n",
        "    spk_out, mem_out = net(data)"
      ]
    },
    {
      "cell_type": "code",
      "execution_count": null,
      "metadata": {
        "id": "ykdnD3tRuHcs"
      },
      "outputs": [],
      "source": [
        "def forward_pass(net, num_steps, data):\n",
        "  mem_rec = []\n",
        "  spk_rec = []\n",
        "  utils.reset(net)  # resets hidden states for all LIF neurons in net\n",
        "\n",
        "  for step in range(num_steps):\n",
        "      spk_out, mem_out = net(data)\n",
        "      spk_rec.append(spk_out)\n",
        "      mem_rec.append(mem_out)\n",
        "\n",
        "  return torch.stack(spk_rec), torch.stack(mem_rec)"
      ]
    },
    {
      "cell_type": "code",
      "execution_count": null,
      "metadata": {
        "id": "unJrx3pXcXii"
      },
      "outputs": [],
      "source": [
        "spk_rec, mem_rec = forward_pass(net, num_steps, data)"
      ]
    },
    {
      "cell_type": "markdown",
      "metadata": {
        "id": "zqJdfllYbc16"
      },
      "source": [
        "# 3. Training Loop"
      ]
    },
    {
      "cell_type": "markdown",
      "metadata": {
        "id": "x-kquOWLY1Jo"
      },
      "source": [
        "## 3.1 Loss Using snn.Functional"
      ]
    },
    {
      "cell_type": "code",
      "execution_count": null,
      "metadata": {
        "id": "UZ2BM6d6a11l"
      },
      "outputs": [],
      "source": [
        "loss_fn = SF.ce_rate_loss()"
      ]
    },
    {
      "cell_type": "code",
      "execution_count": null,
      "metadata": {
        "id": "xEVzMvujcjsE",
        "outputId": "a8324903-6c20-41b0-c3a0-ea39db199ea8",
        "colab": {
          "base_uri": "https://localhost:8080/"
        }
      },
      "outputs": [
        {
          "output_type": "stream",
          "name": "stdout",
          "text": [
            "The loss from an untrained network is 2.303\n"
          ]
        }
      ],
      "source": [
        "loss_val = loss_fn(spk_rec, targets)\n",
        "\n",
        "print(f\"The loss from an untrained network is {loss_val.item():.3f}\")"
      ]
    },
    {
      "cell_type": "markdown",
      "metadata": {
        "id": "HS_zeb5mbqjw"
      },
      "source": [
        "## 3.2 Accuracy Using snn.Functional\n"
      ]
    },
    {
      "cell_type": "code",
      "execution_count": null,
      "metadata": {
        "id": "yq7_rly0c9b4",
        "outputId": "97093555-5dd5-433d-cdc1-8373ec73c925",
        "colab": {
          "base_uri": "https://localhost:8080/"
        }
      },
      "outputs": [
        {
          "output_type": "stream",
          "name": "stdout",
          "text": [
            "The accuracy of a single batch using an untrained network is 10.156%\n"
          ]
        }
      ],
      "source": [
        "acc = SF.accuracy_rate(spk_rec, targets)\n",
        "\n",
        "print(f\"The accuracy of a single batch using an untrained network is {acc*100:.3f}%\")"
      ]
    },
    {
      "cell_type": "code",
      "execution_count": null,
      "metadata": {
        "id": "IqxDKFvrdXuF"
      },
      "outputs": [],
      "source": [
        "def batch_accuracy(train_loader, net, num_steps):\n",
        "  with torch.no_grad():\n",
        "    total = 0\n",
        "    acc = 0\n",
        "    net.eval()\n",
        "\n",
        "    train_loader = iter(train_loader)\n",
        "    for data, targets in train_loader:\n",
        "      data = data.to(device)\n",
        "      targets = targets.to(device)\n",
        "      spk_rec, _ = forward_pass(net, num_steps, data)\n",
        "\n",
        "      acc += SF.accuracy_rate(spk_rec, targets) * spk_rec.size(1)\n",
        "      total += spk_rec.size(1)\n",
        "\n",
        "  return acc/total"
      ]
    },
    {
      "cell_type": "code",
      "execution_count": null,
      "metadata": {
        "id": "_u43hKAvefWM",
        "outputId": "91ee3de4-de42-4fcc-987c-d7ed03cf64ee",
        "colab": {
          "base_uri": "https://localhost:8080/"
        }
      },
      "outputs": [
        {
          "output_type": "stream",
          "name": "stdout",
          "text": [
            "The total accuracy on the test set is: 9.81%\n"
          ]
        }
      ],
      "source": [
        "test_acc = batch_accuracy(test_loader, net, num_steps)\n",
        "\n",
        "print(f\"The total accuracy on the test set is: {test_acc * 100:.2f}%\")"
      ]
    },
    {
      "cell_type": "markdown",
      "metadata": {
        "id": "F1pzWXlsYoIu"
      },
      "source": [
        "## 3.3 Training Loop"
      ]
    },
    {
      "cell_type": "code",
      "execution_count": null,
      "metadata": {
        "id": "y_VQ9es-gSO3",
        "outputId": "ddd283b7-65b6-48b0-9b5d-ab1501805f08",
        "colab": {
          "base_uri": "https://localhost:8080/"
        }
      },
      "outputs": [
        {
          "output_type": "stream",
          "name": "stdout",
          "text": [
            "Iteration 0, Test Acc: 97.19%\n",
            "\n",
            "Iteration 50, Test Acc: 97.14%\n",
            "\n",
            "Iteration 100, Test Acc: 96.50%\n",
            "\n",
            "Iteration 150, Test Acc: 96.94%\n",
            "\n",
            "Iteration 200, Test Acc: 97.51%\n",
            "\n",
            "Iteration 250, Test Acc: 97.81%\n",
            "\n",
            "Iteration 300, Test Acc: 98.01%\n",
            "\n",
            "Iteration 350, Test Acc: 97.19%\n",
            "\n",
            "Iteration 400, Test Acc: 96.94%\n",
            "\n",
            "Iteration 450, Test Acc: 97.95%\n",
            "\n",
            "Iteration 500, Test Acc: 97.01%\n",
            "\n",
            "Iteration 550, Test Acc: 98.14%\n",
            "\n",
            "Iteration 600, Test Acc: 98.07%\n",
            "\n",
            "Iteration 650, Test Acc: 97.98%\n",
            "\n",
            "Iteration 700, Test Acc: 98.15%\n",
            "\n",
            "Iteration 750, Test Acc: 97.44%\n",
            "\n",
            "Iteration 800, Test Acc: 97.84%\n",
            "\n",
            "Iteration 850, Test Acc: 97.54%\n",
            "\n",
            "Iteration 900, Test Acc: 97.87%\n",
            "\n",
            "Iteration 950, Test Acc: 97.78%\n",
            "\n",
            "Iteration 1000, Test Acc: 97.24%\n",
            "\n",
            "Iteration 1050, Test Acc: 98.00%\n",
            "\n",
            "Iteration 1100, Test Acc: 97.55%\n",
            "\n",
            "Iteration 1150, Test Acc: 97.86%\n",
            "\n",
            "Iteration 1200, Test Acc: 98.38%\n",
            "\n",
            "Iteration 1250, Test Acc: 98.08%\n",
            "\n",
            "Iteration 1300, Test Acc: 97.94%\n",
            "\n",
            "Iteration 1350, Test Acc: 98.34%\n",
            "\n",
            "Iteration 1400, Test Acc: 98.15%\n",
            "\n",
            "Iteration 1450, Test Acc: 98.09%\n",
            "\n",
            "Iteration 1500, Test Acc: 98.29%\n",
            "\n",
            "Iteration 1550, Test Acc: 97.81%\n",
            "\n",
            "Iteration 1600, Test Acc: 97.92%\n",
            "\n",
            "Iteration 1650, Test Acc: 97.92%\n",
            "\n",
            "Iteration 1700, Test Acc: 98.12%\n",
            "\n",
            "Iteration 1750, Test Acc: 98.19%\n",
            "\n",
            "Iteration 1800, Test Acc: 98.11%\n",
            "\n",
            "Iteration 1850, Test Acc: 98.09%\n",
            "\n",
            "Iteration 1900, Test Acc: 98.58%\n",
            "\n",
            "Iteration 1950, Test Acc: 98.40%\n",
            "\n",
            "Iteration 2000, Test Acc: 98.37%\n",
            "\n",
            "Iteration 2050, Test Acc: 98.32%\n",
            "\n",
            "Iteration 2100, Test Acc: 98.30%\n",
            "\n",
            "Iteration 2150, Test Acc: 98.25%\n",
            "\n",
            "Iteration 2200, Test Acc: 97.88%\n",
            "\n",
            "Iteration 2250, Test Acc: 98.25%\n",
            "\n",
            "Iteration 2300, Test Acc: 97.11%\n",
            "\n"
          ]
        }
      ],
      "source": [
        "optimizer = torch.optim.Adam(net.parameters(), lr=1e-2, betas=(0.9, 0.999))\n",
        "num_epochs = 5\n",
        "loss_hist = []\n",
        "test_acc_hist = []\n",
        "counter = 0\n",
        "\n",
        "\n",
        "for epoch in range(num_epochs):\n",
        "\n",
        "\n",
        "    for data, targets in iter(train_loader):\n",
        "        data = data.to(device)\n",
        "        targets = targets.to(device)\n",
        "\n",
        "        net.train()\n",
        "        spk_rec, _ = forward_pass(net, num_steps, data)\n",
        "\n",
        "\n",
        "        loss_val = loss_fn(spk_rec, targets)\n",
        "\n",
        "\n",
        "        optimizer.zero_grad()\n",
        "        loss_val.backward()\n",
        "        optimizer.step()\n",
        "\n",
        "\n",
        "        loss_hist.append(loss_val.item())\n",
        "\n",
        "\n",
        "        if counter % 50 == 0:\n",
        "          with torch.no_grad():\n",
        "              net.eval()\n",
        "\n",
        "\n",
        "              test_acc = batch_accuracy(test_loader, net, num_steps)\n",
        "              print(f\"Iteration {counter}, Test Acc: {test_acc * 100:.2f}%\\n\")\n",
        "              test_acc_hist.append(test_acc.item())\n",
        "\n",
        "        counter += 1"
      ]
    },
    {
      "cell_type": "markdown",
      "metadata": {
        "collapsed": false,
        "id": "HxU7P7xFpko3",
        "pycharm": {
          "name": "#%% md\n"
        }
      },
      "source": [
        "# 4. Results\n",
        "## 4.1 Plot Test Accuracy"
      ]
    },
    {
      "cell_type": "code",
      "execution_count": null,
      "metadata": {
        "id": "_Pk_EScnpkpj",
        "pycharm": {
          "name": "#%%\n"
        },
        "outputId": "a48d5a9c-6dc9-4e03-e952-cdc2f04c05a9",
        "colab": {
          "base_uri": "https://localhost:8080/",
          "height": 472
        }
      },
      "outputs": [
        {
          "output_type": "display_data",
          "data": {
            "text/plain": [
              "<Figure size 640x480 with 1 Axes>"
            ],
            "image/png": "[encoded data removed]"
          },
          "metadata": {}
        }
      ],
      "source": [
        "# Plot Loss\n",
        "fig = plt.figure(facecolor=\"w\")\n",
        "plt.plot(test_acc_hist)\n",
        "plt.title(\"Test Set Accuracy\")\n",
        "plt.xlabel(\"Epoch\")\n",
        "plt.ylabel(\"Accuracy\")\n",
        "plt.show()"
      ]
    },
    {
      "cell_type": "markdown",
      "metadata": {
        "id": "nYFamUJLkVY3"
      },
      "source": [
        "## 4.2 Spike Counter"
      ]
    },
    {
      "cell_type": "code",
      "execution_count": null,
      "metadata": {
        "id": "dqIjaw1kk4-6"
      },
      "outputs": [],
      "source": [
        "spk_rec, mem_rec = forward_pass(net, num_steps, data)"
      ]
    },
    {
      "cell_type": "code",
      "execution_count": null,
      "metadata": {
        "id": "4HcwxfC6kfy0",
        "outputId": "909188fe-85db-44fa-9ecc-58af650fe238",
        "colab": {
          "base_uri": "https://localhost:8080/",
          "height": 1000
        }
      },
      "outputs": [
        {
          "output_type": "stream",
          "name": "stdout",
          "text": [
            "The target label is: 8\n"
          ]
        },
        {
          "output_type": "execute_result",
          "data": {
            "text/plain": [
              "<IPython.core.display.HTML object>"
            ],
            "text/html": [
              "<video width=\"1200\" height=\"700\" controls autoplay loop>\n",
              "  <source type=\"video/mp4\" src=\"data:video/mp4;base64,AAAAIGZ0eXBNNFYgAAACAE00ViBpc29taXNvMmF2YzEAAAAIZnJlZQAAhQFtZGF0AAACrgYF//+q\n",
              "3EXpvebZSLeWLNgg2SPu73gyNjQgLSBjb3JlIDE2MyByMzA2MCA1ZGI2YWE2IC0gSC4yNjQvTVBF\n",
              "Ry00IEFWQyBjb2RlYyAtIENvcHlsZWZ0IDIwMDMtMjAyMSAtIGh0dHA6Ly93d3cudmlkZW9sYW4u\n",
              "b3JnL3gyNjQuaHRtbCAtIG9wdGlvbnM6IGNhYmFjPTEgcmVmPTMgZGVibG9jaz0xOjA6MCBhbmFs\n",
              "eXNlPTB4MzoweDExMyBtZT1oZXggc3VibWU9NyBwc3k9MSBwc3lfcmQ9MS4wMDowLjAwIG1peGVk\n",
              "X3JlZj0xIG1lX3JhbmdlPTE2IGNocm9tYV9tZT0xIHRyZWxsaXM9MSA4eDhkY3Q9MSBjcW09MCBk\n",
              "ZWFkem9uZT0yMSwxMSBmYXN0X3Bza2lwPTEgY2hyb21hX3FwX29mZnNldD0tMiB0aHJlYWRzPTMg\n",
              "bG9va2FoZWFkX3RocmVhZHM9MSBzbGljZWRfdGhyZWFkcz0wIG5yPTAgZGVjaW1hdGU9MSBpbnRl\n",
              "cmxhY2VkPTAgYmx1cmF5X2NvbXBhdD0wIGNvbnN0cmFpbmVkX2ludHJhPTAgYmZyYW1lcz0zIGJf\n",
              "cHlyYW1pZD0yIGJfYWRhcHQ9MSBiX2JpYXM9MCBkaXJlY3Q9MSB3ZWlnaHRiPTEgb3Blbl9nb3A9\n",
              "MCB3ZWlnaHRwPTIga2V5aW50PTI1MCBrZXlpbnRfbWluPTI1IHNjZW5lY3V0PTQwIGludHJhX3Jl\n",
              "ZnJlc2g9MCByY19sb29rYWhlYWQ9NDAgcmM9Y3JmIG1idHJlZT0xIGNyZj0yMy4wIHFjb21wPTAu\n",
              "NjAgcXBtaW49MCBxcG1heD02OSBxcHN0ZXA9NCBpcF9yYXRpbz0xLjQwIGFxPTE6MS4wMACAAAAQ\n",
              "lGWIhAAv//72rvzLK0cLlS4dWXuzUfLoSXL9iDB9aAAAAwAAAwAAAwAAAwGMR8kHRr9MkrqAAAAD\n",
              "AACUgAEnAAUMABvU/BWmewvKgDX3lAOK5fLk84TfXy0MGCXEyMKYyE2pKmvtYuu45ln1bEj+GUAf\n",
              "3t1Q6TkUXstRL5AoZLdH42b1d4Kujtr97TqL/lkuzBe0vwAAyRxpJbrPwlr4MhlWlvPA/jloLqAQ\n",
              "/8/ubZM+vO2qOcwnR8ODB+gQ5pdRTGYJBuv7K9fhNo9+qX978mGSAVM4nmaMySpRtYbcPjriDoZ/\n",
              "ufaaAeG2orD+wSNuKihvroF+ggaCtMpK93ERQAoxh84MBC8kNfPFjFfY0cA/wfeeFHdr1IzblDAo\n",
              "TOcjvLXtsY0zoqDbmTVfIhcVADryMezcPOdkAAOrWYAuONTpjCsmmBirAFrOmQp/RBKnvvh+WgyB\n",
              "ffg91Z6VIYYDIp+l4ByDdcX12IAAJ5S4bg/EluIordrhstru42GdxKsd2mEOKM8mtBzjq2v5+Le0\n",
              "Fne1JmOnOKCiKhQl3NCzDcoEydVXOJKZgV4mhfcpPAdmd+FmqwMAw5g+KRBXrfoBto3cUetThhRq\n",
              "SqZ4su+oqe3FUmv2DUkKXXILtbOAJBfwOijdiXy8ZTOy6QCIAF/AoAJBlhfxyAFKNmMoXe3eMLFh\n",
              "fdYEmpSIpc+raPIZG+tysbnlQAV2tTDCXbgKF4iEXsMzOFMp3LScUIzJEE4p5Akyr6vdc5WlKQO7\n",
              "EhjgBBjAaOjjs+/fLvT9jDI4kzaojU/pBWancqAAnP7RLyocnqandphgDTRwGAABNJ0n/n8VEbmA\n",
              "ABU0I7WWgmiayhSntmkRxwPKT7NIqL7vG7HxqHPIN4IY9ENkn6zw46MvAyaatfpvQ2YlVQ0guyUU\n",
              "WMwnxTI5U7AHMGL5/xiR4AATQjrKF4khzbUWzOMwEjvWPtBEn2UJznrkYejvEe6pfWhm9Bxlm4yz\n",
              "MM8BrLOP26b4O0fZbI6mfH7aFGGSakibz6ZSz9wSjmyTkasRoAAF55fu48knwucAAHMLfmeS4/0x\n",
              "JvLUwgACapzmNna8JuOMdeRWY3Om3Skaxm77RHPApmFBIFUF55QI6VtLUzJed0qeNJYEZdGY79UH\n",
              "7jrLPqPubuGCNQlNJTlXeFso2cuw2fKiV+E5Yzyw3NBXOiMbpstxd0e1OUMzqs0tM2rzsNBPxNMl\n",
              "IhUUQiCgHw2z9PvDr57D5tw+4aPCvORoMlCypFhM6mRVrpIefZOcYeYy/pXpn/u5ues4XVdlr0xH\n",
              "upJLOpoX5xwwpM5yYFMVdabKXIVTv1Psi+6TUv8wmnhG1+3w3KOj5IKCNDpMbIlKCHyOxZAhncmt\n",
              "f99B77Buo689RRCd8AADyQS8kpcHiGY7WK/8fNqYkSdX2RzFp973ZxFKitDrSIqSAbv/vXuA67lR\n",
              "FCyuXr4gaSR3uFsn/awd/tu1mHeQmS6/Qw0YKnGWuG+rDYxVu45KmawQhURMQoY+fYeMfc3SA5jV\n",
              "WQ7/6usRzm/ltiTN0tstCawWd8jbJbErVQ018NmEdL43+e2rfXZ/AbrQAAG+gJ482QitBti27mIR\n",
              "F8iTo9h3GLc+64EFTLwyjlPd88E2LsVjlPmTPLp+z+ID8L9qT1T9tW3Y9baFC0+BL+VNMgc/203a\n",
              "ZDIRIfzTg05Ilk7KdJI/fFRibddOYG81K8a7frXmK2g17mXieUr4h3djMv3MzRj7AoWlyJoAx6HZ\n",
              "/+OzcBCGO6gALZiTRCzNu08jXLDJ+3IiZmKaCPu2QwhMvAE3vh6u4B+WGpIvlBQNBXVG3IwfEoEJ\n",
              "05/H2ERe7INJGRhwDZTiJ8WJOceOfIcmKMUrgmc4PikhH65uRCy3nudFAViMkkaZE64lmfv7SJHX\n",
              "2rnqEys/qgxVOYQho10S3IdrXRbrKTr6Br2pY5BvJrXZf5IrcoMEakn+2Hu/4WvZ3HfIyvnshrkR\n",
              "desOApk5IRdNgKi9D/jNf4btlfr+CIHByJTlu7jobzt76juRhCUU1UKmgAVDjwbMKxNopWC6mHlU\n",
              "2YIsGp9XFnIWZpOkxeW6yT5e92iyPh+o0cNX1g9pZNKM8mfjfkTCW97QQGRXFKz0AEfEdICG3MzE\n",
              "7dI47YjUjH5KA6h3vc4WTL/pEWtqtIAABga3TXj8AjjLts7QAAAsgJyKYgEYKLvXrAMFzqKNBVD4\n",
              "se08idOEHMfQ5rW5RQuyN2BrskZTK0AAMGDy+tJqZuhmigC8iMxVXHN658qmo0P5vv2B7hwfSqiz\n",
              "hvzklppVwN4QX3FhPlUIgDTBFjNHrO/HI0VTd91GQTIXeRpjz3mBH/R9nuHFVhVywl037PgsDc+w\n",
              "P3br+vpVU130aAAG42o4AAZEAA91ntAAaCMto1hs5R0bDM9ZOjVxbdI5rDDqvwp2acU61sDLK2+K\n",
              "MPogBp+NPs6fs2EJxQndtzz3jPSOuzQgER0XFliVHl7eh+eHTQma3ZuEVM8561x2i9WMg7n9GvAc\n",
              "XZ9w83zJaIMSCzcCwgABE//nQE3qhwdlqu1cPUBk8jVIKwETeKh6fbpXYN6Cd3tSrdeiabetjrOH\n",
              "oIfU4cgxAAAqZKwxRDHxXyV4gABVtcfN8nbdujUQkCopolq+ZkfnbyoozwXJPGyc7knCcJlJBDHW\n",
              "ZekCDD6G6Ov/gqUAABNAubf5KypYq2VPvbcpVV7J3YAmQlW4wmJ+R6IIpp2OFRMqMleuvg1VgBBd\n",
              "EFqhCN0AbKwtSjHAE4w1AABubTh+xDDMikQAAUoAAKLaSTC9SXJR7NdgxLPLNp/GJcSLcDrDIOhM\n",
              "z42XHSnZMj6Iuqe4E6qlcYOZCsRapKRqr+v5TuQFTnvfS2s4iNgJwaxTlRyMYMzyP7e5iAAGFa1+\n",
              "lmT/SkpV+FWqXCpdmzXHtQ4R81YI/th3uM+JfcaoExMzFejYBbZaGV0Hrb13tQeIAAQPtwcjG9WC\n",
              "/0A2cR83ZRDyxNp4HkM99bftEis95Z5VA+fUeZGDeR7QRsB/GtDZJ1qKLe1zyGjvhe/97CFHGQAA\n",
              "llPx8/WbxhgDqD0zQuMygABskyNQiVlJzla+Bn71mDKAdLF5svddfg29R+KPPaqEg+VSpAdhQZcC\n",
              "Tfo0TqhJ8UrRJExBhFtSJ1Vjc4dM/hBQRnFflXjLX9+LJwE2URYvlCSutPtLgO2DeljZiknUCpST\n",
              "PMbzZ2WDs/02jFpBYX+hRMpOGmtZC/otIcxEs2XIeUAuEs9WwozA+Qpsp6MMZUqr9F26UAmIhh4B\n",
              "3Qi4qv9An5mNMhgDCXCsuM7+7NyLoYf3C4cHbqsXMsLspUPp9sSUci/T/GY4fb7j2co6KhZVd4Ye\n",
              "TJYeKUrjkRx2hdwGklGTXuVraO/4KVyvjb8sD06Op5Wp0ek2w+gZExYht/VGVAip/P+6siL/hJZW\n",
              "O70Xf/eL9ABYOYihqEQTuHhYjyvYMJvW/yB54Fdf6H6/O1zfGJdgVL+fDMivE3El8LoeFlcxfjJF\n",
              "HK51MmGpTzMdtODc62CgAq4Nq1mOLlE/HtgeSprS8P2twBWTstUNI8/a9BE2Bapv9S2RV8kZVnID\n",
              "PxKEt2Nz1tVBxuux0kr83IaIOsMlzllQiQxAAHDfXbNN9M/Z1NmVexMcZDpuS11xnrhkbuidKb9g\n",
              "pOUM5QTxv2/5l/AHT0+DBCuDML7iTAL08e+l4rRkBKENGl0Vh+4T2sDjLsxjKLVekcMVtl/VyD6q\n",
              "Xxfc2DbhDW7jZOp0VvfSOSgMq5uxVAAfOmWiar4NdmxasSmYc/lTAGRb47vStsHGV8v8zWTOLnzR\n",
              "y34lCe9vara5AKG6ix7TZIt7/Yw+rLPU70ehc1cq7VwpRJruU3oBaGA1uWqy/38nF2nza9P+89lX\n",
              "hFfNx9ENa6Yvu77NKMT0bh72puBmIlBYoPyQhzG6Gg6jvjqHwj4VBJg0ob+6d7ltnMYcviWnKTnR\n",
              "3km9as5vJ3KMS9TXMjyVAivihUW1YFNRlCK/J7XNAcd3dedlm8guKzWDb3WmfcSdyFrXu5vXER4X\n",
              "48b2pPQYEVzPr3hqddth2c7WzGUkzrLdBwXaQyxAgFYmRgnchnf6JAbr/6O8RgAqWADALGK+tnnx\n",
              "ii/4LSaAhFtRGdQBzyhLjyxwhu+5cn0EnIDURNgIIoxh73Thbcxw6+hDI6J1gn7l45R9k1OrVDKO\n",
              "8T3X/t8XCGZ47Rh2wsXGokcKXMUNu/LC+D9Uwnu/YgOoY4x5C9s5ahUOXxrW4Hp6VKzZBBSX4D6l\n",
              "Z3DkBANC8M+K/GJSdbEb8Pxr1ACVyvPXwwsV2lO3eMsplgnawsHk3Y25S1ifdHyJrPU7V7m70SEl\n",
              "YD/OdJKHyrfs9HCtIVm48iEM/Y10RK/8rjSnN2Nb7znHRsHUYksKqr80TV69+O4IfmAS0/VDjK/U\n",
              "nAI1AFZ7F3fs6r+EeXW2MlARZwmg8A3LPJAAAhQBuP41Mb1IHO1a88UXOpSc/XEH5EYoaGMCOkOn\n",
              "LLPFAmO4TQe28uQ+qXxonbnPmAigXGsyX4nwvHFi6ICq0zw15q9EWkh7M78FNwqTnk+mIDYAi3uc\n",
              "UyjKHRVk9j+jrf1zviUAJBzt45d3XJRg1KJNUaqMmw1UIFlADChyPOIZduQ9LCvGdg0Sgp3tg81z\n",
              "Y6CdlH6/QBFMka3DNcojkLoqiTLkdMjN+Bb//1UtiyDGZgc8RatOigkj/8fWPgIXvgLZP1HBMwP1\n",
              "ctRmxx21bRcixGGN51khf9Oyklg8ZWJROShoJD4M5eAqFB5WhlzO0DKgmZKe3/GAAIN4lt+japw2\n",
              "1NtI9LN1OqSHvq00IWaKatBZ+2db+psVvKhFcd7py9uxXcujkVO2lsWaP48NC4P0MxxLIIFrx2sp\n",
              "hbaCdTN4BUaCTtKFn6mF9hdBfZKEROm5u28+kKU7NyYFtSqPNSWxkZ8hz0pN2VnRPmofbEgQ8SZi\n",
              "6a+wkfrhaPZUEE8EDvhjeyJhEv1dSrm9nDW7mNDVCYST6rY5yevWaE7vN44bJtyLrT7N9XdBgi5o\n",
              "pDsuNz7SrHzyAt2TS24v+lcU/dRbdvHFS1uWnIKy3Klm1xp0G8dn+v/P767QCOKlXVahhUeTI1aV\n",
              "0uzzr26DOV1joGO+rFKEPzh2x8MSaRtv5/owRb8xXJrqQAKMBV4X15WQOp/lUQYKLXzvNIUIE38C\n",
              "IxpnMys82+QcfMfJsoOs7xN45kr/IF3DdkGwM9gmNp44ZjPy2vqWLnDWQx2tS36oB3tn5UdHP0me\n",
              "9Av7NRc+8yoPsULv6AE9xrs6KXEfd1bEKH7lsUs+noa91jWDDTOrhEBaRV2Tepi/CTwAF0eXA6NW\n",
              "c4BlcKOPoZkPYtM+06LcM11Rikve3yuXPazCYjMb9yQcyIh0mCyEtr4r62vboBd7pKqXUDU05O5z\n",
              "aRH1OwbW9H2H0urKgX7wPQvkNMEHMPVY6LLDMk4/dKCuTAh4Uzak3pZABFJ1vCv8wZDQyHLpiKB0\n",
              "VF4cBxZEr80Pb9pic0ByWpHnLmZk9g9WxN43mTsX1mV81OHClOWsq+al9SRhbpecz65XFZPuOpZG\n",
              "DvUrWR/B6EGQngvvd/egYEe/XzpQAbUFl/7XoNsGCM82bO/j07+4cce1LuMW+kzBkm0PgXk3zzHR\n",
              "ykNDt652BLoisbDMMqoB5BDtH+/KA+JNgAFXAAAC8kGaIWxC//6MsAAAZbWmaMi/GAABtQt5/+/1\n",
              "LsjdpHk1WpJT+NfHz84da9UprXqlyJk1iEQs8kX9qfTUaVd10TxHAn5XgRkTxuJLAibKQcgXyCfI\n",
              "mwMBbvaFnPNn0F15W1/dbLzDh3Qmj/Fvw1mc7ZgRA66EKVRQnadCdGxhCg3muZr1U+y8vPvVtgCO\n",
              "LLr5iZyjpiI8pCZhPMJ7bHAcahWALr/P90v3l8AllnFyUnDYdlFjbFK961pYNCWe5lqH6ZbfwDNU\n",
              "qsUDvj7RfTYoqqVO9Av5gqIyJn5riYtgbDHecekSkcJ/BM0ZWTF9zlgHh1b/jigLLS6ZXpYdnr7M\n",
              "LC5fRWd20K5XUxVZzqsDFdOx5g8Pr6vtK4gSG80EzSUgJ4Ojwo5s6Ay0elbbF8gS3vbvb4JrAapx\n",
              "TGxIIaupsrdYUUOOqDe8fbEOWL7m6sfrg3fU9soiWvzbV30Vy2tZWsWMqJRbsPG56X71wkMilIVj\n",
              "BgYtPFDowNZsOVx7vsq9XwQbRrnFW9S0tKB4OsIrDV8mIjE9iJ6+02BgXqCNNQSXQh0Hq+jsR3ta\n",
              "2GIVyLSItFkuFVJ5td+yzDFzEdOcqDzd69aMzuhHDlYlDZ9Ekw2QsjiEu+k35gfiSnAoK/F2da/g\n",
              "jZ/pY1X12tfU9CYjX0yFjhkV4r+9qbPUShgIDSzZ66Cj2jiZOD8cejsgavK+21Vy/ca38IxWLEJ5\n",
              "3AjgyDP7DhUZ0QXa/gaFXQxbB7NpbIlDFrOeBDxDhLE1qPYnoICE5xoQ9FHSvrs47D3RJE3zbvuA\n",
              "NWl39qEEKSDWpIkErzaYRNiNwmuJ/WhXoTwNCgxLdTGJT7jj0gD/thVY6rmnTCAub8wPoyrmrGjn\n",
              "FzqEwNO0PfFqa9BRzPtFuQo+THpadmE9pLqMhfmOdnL0TZNblHyQCb6w8o7dFEt5nqux3XJjftVE\n",
              "52OzB0bRgCrdh4r8TF1ah3Hm1gygCQU9UqPJrybWtUyMdxV13b10RmYUNFcAAAMqQZpCPCGTKYQv\n",
              "//6MsAAAZU81BgA5wW8mCt7cHs6dEe7rKB2+ZJtqLnPx6HEcIFV9E3z6nkpUSxeHZuzqdRHOpISo\n",
              "49MSuViHuc3ewOFOgNQPHmEPcfxBPnSp42K8gZtDISg73aTLFbtNpRhe0DMXC0iGg0fOf5bJbjcr\n",
              "DxASMlwa+gErjA180MIJESngO/2BOvgzyflQ76acFFh0xA6avUqlkV4zKoLYoJXA5hpi9OBs9WoG\n",
              "P65kQVPLlL3QS20MTIZmlecLGPts8oYgrogzjfxlrA4jocaDb85bTjJ4/8wswfLZYmcwi80hNCJh\n",
              "gkrLXccobTx/x/fR3Y4m72xJDB8lOU6HG0GzA89OCOzq7OpLR/bbbcF07Gr1rBJNKR3mUJYpQNY1\n",
              "uoBiv3GJuYrL5g0FpcNXRhnsO/VFgdPArZY/UtzbudBtcckVha9HKQCsaZ7ZjzTmQNZQu3tNVO57\n",
              "pOThxItrMIUBACWk1P9+DUY7Yrlqa1pZk3svTliHj2Yc11kNAQrsXW5XXrmqUxmQvrnhk3MKjcPw\n",
              "7Nf8pr5jFnuzSGLoO9iDhVm53gjAS6OlAo0LxMzv5GIL7rJMTon+ry0kwAn54bOyN4y96OiApIw8\n",
              "2A4AgKN1aLQC2XP6cueq0y9d92dYFNW46TGQ62yE1LCTvDtFW4ZY/q8C+WlkmVAJeoXcn2gSiDWY\n",
              "65Wra7sP45pDlYXutR/xjjSazdLw2HsmoMuiDCELfFJ4tRIuS8cbQNef72qvEWCocIT/4Hs59vI4\n",
              "3aPxPKHoP3ihg+m3DhOFGBeL42ii7SJDWq0R372p5mwEwnGJPn9C5xnc+m7NpsJGAlQeojM4RtlA\n",
              "GJ7c6AvCOve/Ztb7lluBKr+5/haiyjNIMhdYsOmhqNYJHz49Om5OfoHCNX0OzyMIa0aXNA28pqII\n",
              "pQMHnE040K9f21XuG29rO7MVBAj1r5bHFnQ2czflmUFnpVv7M79tXfIXCsCHn1q1++DgnNrX/cbk\n",
              "WnGbElex1uMEQDZHM6N4Nlz1lr9HKqYO+a7/znDnVEcwvdjRi6UeglYVWrW/IwRgWkM3rK7IqvGs\n",
              "NRbBAAACCkGaY0nhDyZTAhn//p4QAABknb1QgGqgCmBFT179zqfTLWwk7qBVPdQk/Z435oGuhJJv\n",
              "w+ShlC5MuzNXGDpNwftPPEKr+QQzTCqetloHZ5fJqyE+GrLAoH3Em6bx+thfG4zZytm/WFUSAfC0\n",
              "AMS/N+ihpE9Lj5FffpHGq0POdAn1/gDOmgueQ+I7CvEr/45vf8vp1V6cwgQTK7VBMMcb6wrYJyqx\n",
              "gU6HVRXLzJs4fEw+J36L4Oh9IxbVWpiYEE3/+v5USQSz+0Ev4PW7EZLEY9UL/BncDo46dH/s+qaa\n",
              "erPabd6yw57bRZjT4vv7+Sc5wI6XyzQam1WZsqYxfruhxAAXPlkX32AH7XZdPCiAShTsm76OfNvp\n",
              "PSIu+mJS0R61N8JhFoFqreDT8M03MKvixPvcOPH/5Oum1i1q08g9Ly96Cq8fpVhw3TB6eO7+rEy4\n",
              "t/TfvVLO638oupfejp+F7blHggOrOM3qIRAcNEm7vpmXDDSJjoHj+bUPy4HlSF92K0p9rX67oXJg\n",
              "m+g0VzDccxFqQhNIF8NBCx0DDTXyBPn1gtE+KjQJHzuwhsqtqDj8B5dqZs6Me8Z+Tc1oAaQoX8ZT\n",
              "GkOtQNy2wCebsvLM8XRfib9aaAYU71pbMQBU/v1Z+YaQQJDx0N1h3TX7clBhq52EdeFyXqcl2FH9\n",
              "S0yRQc123S7Ib9uu08iW/AAAAQNBmoVJ4Q8mUwURPDP//p4QAABh/9lp/SeoAbRPEKfiPvN5qpqp\n",
              "Xu9hf92pcKQvscb/VWi+bLljI/kCKzleHlY6KEX7/ALC04VedCYbwPPyxYuoCvGADOMsZmbzSmff\n",
              "y7pX5pVbXrZQj3fD/+vT9p8fyMOJMn49DP//xngBtFhawVKouhaX3Ypv6xBAee1k958UeWtLIR2A\n",
              "nOxU+CPY0hIKDMjvnH3Gb8+zzwB+BnAqmcMdFNjzqWvNOEusq5lHUTxmAcKVzJEmcl8vcCH3Vk/7\n",
              "E29bXssawvpKD5IJljY+xn+xn6GksC8DEdESyUjtETA9OqUAFCZX4t3YA4pwAE14ADuhAAAAigGe\n",
              "pGpCPwAAHwx23Ov3ApIHc9umCtcHm4ATNyrPvZzSA1E7i99x1i/H7aBV0n/hzztFabbi4Umc/aN9\n",
              "mFTlf5Af3aFcljJIZyhrz4jWdlMRUWPVuGwKnf2L0t7duZ0BP0Wmzu9zsDyLNAJRgB7T6SSzwvWb\n",
              "N+VgIWnLkZbvXLMj2GPnP9w24tam9QAAAORBmqhJ4Q8mUwIZ//6eEAAAYn8jihwic2znk7Gzwcv2\n",
              "WO/zv+PU2Scop3vzG8kgUyDCPsc0xrKLx9nGhXQkePx5eRwBsD68eVKfoNKP6R+noQZwLOkvz2mB\n",
              "pcTTs6OCyf6eb7ONkl53K5oRIDdtv6r/dKQMlHsTeWQ5tJRwFNY4N1SEZsO13JjSkCTR13y+07H2\n",
              "2+oLgHo4yUZ4uuPrb9SAmZtZhIbsGxGrbmJA/VXTr3aWZDmz0dyV5wJRyaJ9rOfHduafvwYEF7XZ\n",
              "flLK+byXPuZ2w7tF3705W2VxXdiHy1LADAkAAAF/QZ7GRRE8J/8AABpFNELTMChWeeu2FG3MGfHM\n",
              "P6YQRixAz6jyRV8Tc46bvOrJiVUqrteFXWQaIxa3/Jvch+QdHeyHvYMOWwh+odqkKO0URj50xw77\n",
              "wq5G7IBvpEdnhHmITWFQHR6J+JMOAvqso/oBPgGHLLLj4GzOUQJFpAo4UU88EgRzTyzdIorgYtVl\n",
              "apTHH3zEvPjoF62T54APntlthJngBE/LBcdOEt1Tc0pty0Ar3GngANyAsvltiWnN7lA/BMENiIsf\n",
              "aaXXFhWOX75JmpTXKSKvu3t/WZc4my/ue4zFHdE5szhMAJTxlxlCFyQssA8zp/eFSHCDemx5+Lk9\n",
              "wT5DSjyui8fD1NvJivCgDZhqgLXc3P8RBOjxX7pPFcoc8WGoYhpFx2ZumCWvGAx/eVq1GFCH9epy\n",
              "XHe3JEZXaMLIC8a9y1XzuPUtlSt5V8WJyFHCifnyi2/sRHP5yrXjAdxGhN7iJRUpmc53eJJmk+WE\n",
              "2JSXnYayaTcJc8RXK9kAAABrAZ7nakI/AAAfD+M44fNxL8xWigZGRrCZKdR5uS6apjdrIdZhHSJ/\n",
              "PRKUmhyKN5pwRXXgir+Uk7OOh48uLcnbCDp5LGdVJTFtclGAC1pjrB1XRyn6jx3B5M6WsaNa2w3t\n",
              "RBGZH5hPXOlsQsAAAAD5QZrsSahBaJlMCF///oywAABguE57srhjABarXA8FA61YxfUTBBYzwZbr\n",
              "/r4JBSa7A6fCEqDaGNBW3NyK31SNdct5VlS1N0uXo/We3D2Q5UZU9AV7ebgrfRrwpkSmzQz/9Nef\n",
              "nP5bS01y4GO0BVUIGCJwD9Z9OlsdcvcYiW7I22f88T4yGcwoXbYN7DfHWE9oUI4dcDsz5Ov8BIKK\n",
              "aHiMkBM6Ry1bbw74zqjavf44aDgDv/jI8VC9fz2kjxoMoaCb6J6kV8V77oSBUCpKEP4rZSXilSvk\n",
              "+xw19OLxOyv7K6rFHabRzmR1xAuwM6xz0E/p5UVUKIB4ANaAAAAAkkGfCkURLCf/AAAZwThLyjjQ\n",
              "cR9/WtebXqiFdRfdgPlzzBeNG39aFDfnf6vACYh2UiWl21UloWqwe6vIq/xtjoNu+u1lhy3CII8b\n",
              "7irSUsjQlYEIaV/F4vqwPnKygnu2HXGTZgJ43XoWYc7mXapAbyTqJc6+0FIJetMNE/SuSmfrxEIx\n",
              "MiZ1g3RDixtkwqBreN4xAAAAtAGfKXRCPwAAHmiHznR4htAAsANjKudODub5xG+64gTJDQft1DA5\n",
              "qC68JO/JnYIr0sKtzQK3MzIfPmYX06fhnAQsoGqpbi5aH2fZ9ZGKyx8iSJFVxnpJsSfWreQXuhH2\n",
              "pXx7mD+pmHrCh1NtM1xYd9+h1AlbBhlHEsCkQaCGShTCrrLG8LPZfmIwQLSjzcBpGkGsHwUCqObl\n",
              "kBVej3q+JcEvpAuqVRfnbg7j1TwcpOzndqnhSQAAAH8BnytqQj8AAB22+qad+ZD9A5fbxCu04Pke\n",
              "li+Ysgpz/+DutLQAe3c7sEhYfQj7Nblb2HQ7iguxM9AjGvz9SeptylYsLKupCUp5o5WSa5yMJPYf\n",
              "34DIx8siiR9W7F7maItFhrV8uIHrFPXOjoOALfu/VqbzPLi87P3QSt5lyKSAAAAAf0GbLUmoQWyZ\n",
              "TAhn//6eEAAAXXffw0sPYnxgtgOvzdIZWMTLoxg9lBVb3JCRoZ9hCva7m337Uk49wCX72UnVzn0d\n",
              "dZ7zE5eAfhrqADChVI6I5VWngIQYsaRtgUMMDUPHeEr2TruiJkFV4mPkni9PIYmD4YAzLibaPHDp\n",
              "AAmMjqkAAACEQZtQSeEKUmUwIZ/+nhAAAF193pRjRkk1L3GnTEE5EqS5o7fLjABfMVpvqnxL+Yxy\n",
              "a9rTdVOuCoxYzRFqpN0Yk4c8Qq3JMgdHdLRgwQY3ZkqIWjR9Sm6bIar24zF4U4CfhMszv5oLpgR1\n",
              "RRkzNnidDXOnG5Neqm3b6pKYBZDnbWUXW9jhAAAAe0GfbkU0TCf/AAAZITg8WMZ4vzpEbdD8GkzG\n",
              "lzyTppaJNhaOLgv+wQAakjRy03iAoXd9Kcdp6nYi0R3lYpJ6Qzhdf/zRoTBR+fKv1JUapw/iZ3yO\n",
              "bv++ejn8wVU56BeX24RvwoYIs9iC3MfTESY3qqFY5v/ioICfkLzCNwAAAH4Bn49qQj8AABz8dsDh\n",
              "y7ikUr2C0FMwKyfnH2AE0wIJzlmW371x5dQ7ifvSrOh3I4MooapZiS5CmkBsQhoihjoQBi3XA59A\n",
              "JO/p1PoRAJ5UozS1DzxGqWJeQJ+nzITrrd/LzhmP3aQBYBB3fhZh2izN8jyqGc7YlLev5074g4AA\n",
              "AABxQZuTSahBaJlMCGf//p4QAABbPd6UY0ZJNS9xp0xBORKkG+F4o5z6ClikIy+Nr+EewiTEQAF0\n",
              "B4veMFJLKh1Ub79FIr4WB8YwEYvfKOSQ/kYa9UBAf5ygXoW5W0AEkT/EryczX5f/8fJkHzApj8M3\n",
              "0CgAAAB6QZ+xRREsJ/8AABiBODxYxni7P02EYEzwC1CfRUX6fKB7SkQYZijwdUgA+OevGVZIqKA9\n",
              "GOsvzdOiP5rrR9oCTAoHvhhrFhDUS9H7DwDdcb6lNxdGamIh2hi9w3dLPmIDkRyN5Jemn8P9JNxo\n",
              "kL0nPXYHLDkAs4/dCkkAAAB2AZ/SakI/AAAcTHbA4cu4pFK9gtBS7Sak7xctqI9G1AATiqmd67tH\n",
              "NCqgO2t5Wjv4O53H6xSBp93eLfVd3JwRKDOQkZrH5z5CY8pNPMPVL0etfnBRdlbHPm5y17JQzDnW\n",
              "s8RPUBhQ5YWcVeUMHZdvyD3rwwYrYAAAAItBm9ZJqEFsmUwIZ//+nhAAAFj5l0ButyX328BNtKaI\n",
              "I95RpCfFYAeZ8RtDsVm+GkZPu8AgBCl5oFnToX07nFy/lR4xTcLkWjIhkCG1eYqLymDQNKDTrENG\n",
              "l+iVydTk8iI9z1cGVvMeWJPszEuzlDi+lzpiuD3n/1eyqlprtDZCX4RLOSKoMVa2AJGAAAAAcUGf\n",
              "9EUVLCf/AAAX4Tg8W5lYLbpvFB7IGTGAYKtX0DBJ1TruLo2P8+OtoIK+4B9ihYJ1QfV/h+7xvaJ5\n",
              "9K3WvnfW6YPGTI2YDzZ8YkVWTMPoHEE1HBPPY9fGneitrHuLPYUcEVyleuz7oAJcDlx2NTr/AAAA\n",
              "fwGeFWpCPwAAG59vOTXfjlYVR1hl6UC5VIAE6cEHMMhZDlATYhunQQqwv73Arzzp2mX6b6AF9Hqt\n",
              "wE+RDqqM3/X4NUHFCM7cDzpAl2ml6HCm+kg5yFvuTLWc/Qeapw4M1miVIbHV5YXOnf+SDQy2Mi6w\n",
              "q47M8wZdsKVbo01lJeAAAABPQZoaSahBbJlMCGf//p4QAABWvd6UeVuS6Kr3GnTEE5EqWh5iMQei\n",
              "bC697ut8emgyxi7vo6LzGSe83RiW4IalitrOrGILYnm0jnssCEkhZQAAAMRBnjhFFSwn/wAAF0ZS\n",
              "S8o40I0ZKI26H4NJmOOe4L4GWHAAQ/AsDYMqoiuKcdne4sECTjJpZ/EY7qUrICs1bTlhQFDIgy7s\n",
              "O9AlAmWfTCqUIwJvt9ZShRI500Mm8tu42HVxPncQD6vEWP6rsZpRmBGyCKr1DIgs3oABLljHfGuC\n",
              "HJlikVznHPHYrdwWcz5gMAUf2oJNbLQZm/gN4LH4fNOXAc8UppwUY9ymehLNHl0Y43Bf1FkLnXeq\n",
              "7rTAAQvpTswMI4l5AAAAmgGeV3RCPwAAG6mAo8bIfCYGfGiD+C8z5bHuKnohuQUEYgBLTduInTjb\n",
              "leqrMJdH4djCVQ7I4J1wdMmqP3XKRDNCqKeqjcePkh2dLyZEtli7w76dfsg2wc7/zuFm2vg4mAna\n",
              "Y0Ls7BbgKXCFRSltTAyhznNNUJ9IsMd7kcGkAUthznzfQaF5QNUWuOPC/Zg+rewkHtykTJW8J3QA\n",
              "AACTAZ5ZakI/AAAbCHaVjL1D9vfPouXlGfwtlI0AJvgo/paAR0c7STO4p3XsEZcFhuyWwMvtInQd\n",
              "CZ//iOO4qjwk5hFg4COS4urxXTfxJDIgqyoXI7N5ychm8nV6cNLetYZ/0cXSWxUiExbn/5oo7Ngx\n",
              "QNWtCZqVvS/xHH+GeJsLZl+zjS8QE8cazwmYrtDMQFl5DtaBAAAAfkGaXUmoQWyZTAhn//6eEAAA\n",
              "VH3elGNO99DQ0721noU0VXwXLeW3qZ/nQADsjLFoGO7NXkFVqd6g3N+KYl2cSVD25K6yYj1+JrJL\n",
              "2vOGSaWUummtZTXa8iytJNaQwMAM7Tn2ugln7D5eqGQySKTtSlLykROqwFrMOIFC3R3BQQAAAIxB\n",
              "nntFFSwn/wAAFrZSPGt4AVv6bc6ugffYAuGIul5CNFzgRLhcwYE6b1rmJR7rUkp+hfrJ0adWPup8\n",
              "TjGl77o1w2l/WO+lmRZRsGIYKM5JCFtzbQm01U5G3E8uzbMu9stXIvYTbOp7oDgyvAfucwWA+mib\n",
              "7Ho4Vy33YVeJ19NiWWC1qb9qtC6Obf9DwQAAAJ0BnpxqQj8AABpodp7PVA+HaLdIstAt7L4aWSMA\n",
              "J2LBQu7J9P88SyvHSaLQhx902yLCyzwh2j9djG2O3axeghLLTkqfFOeF1ckZ6UhqJRIqHyZf0Sxb\n",
              "g7bwJRnLr6DyNDj2pzzM/5WCPN4k0DKv56xD4sPWKtB2i3xiT8Nfxo8PjoseemNs6VFPexpIL+Rw\n",
              "rP6pgtDowSC8BRjP556RAAAArEGagEmoQWyZTAhn//6eEAAAUjmXOtZyP30ZZCkg7MRRcFou60IA\n",
              "kQHCdcCHTuV95L9nlqCc2gvsoB8lx25kcgSSqx6hjMk1ZRguptU4aeYauX/qx4l8IFvJQsgLEF1Q\n",
              "ocwZ1t2rh29p28b6+aG9CCxe79FrSMtoo3AFL0OONpOoDimsZdUfLpDalxpbvQ3FV+oSopXustAF\n",
              "djpik7F1onWsLSitCkQa6PUIGBAAAADTQZ6+RRUsJ/8AABYqmicoFDY5glX8VMPShZXxTYW7ZK5P\n",
              "CiWQU8ZRMpWO12Aa5QjUI4QTMCyidF4wx9xfJmIC45PU3T2Jo+tkcN09vwMU30ILbY2K/E7XQBav\n",
              "tZgNiiRe2Ju04+XiESxgABF1T4SgbID/tzKAe8znrOGjoFcDARcmye0GIfSxtdKDgbF/xRREuk4p\n",
              "iOUbPzA12eD1f99TW4wK6kmJxQStRHBbzmLd7OOQQWjbS0xMdBJYoaWFYM8xGTdCQShDwJdKc1cu\n",
              "WDY/QUR5JwAAAGQBnt9qQj8AABpidu1wKyQjERj40sgCZRa0ghkQDLbs1m0Hy8K0ZpVbYtDNjg3W\n",
              "f4zVkAmMb9szcnUTdctQ0wlKRckAluA01XLo24WwB2qfUoWcNfE0RuGQ2DBpdHKtLCfDv3O7AAAA\n",
              "aEGaxEmoQWyZTAhf//6MsAAAULmXHnlLtzak286WE16Ny2Cn9K9uG8z2wi1EZv+U//4uAyoIG+iy\n",
              "6HPOaOC/m29fg1Hik7kkHJBfjy1CAQJgloV7PwJbmJ17MX8KkmmJC8glAWfo6Y+/AAAAlkGe4kUV\n",
              "LCf/AAAVllJKut4AaH4avh/enhRtgC4Yi6XkI0XOBEofpj//onujqno8eVOj59EEMvVVw6c36HaE\n",
              "4P4koF5+/cL2U8eqWVKWN5x4JetBOL3Zw1JaI4y78EXcQB9FY/zSDZ5pxEZqKwuuk3uvhxiBy0WJ\n",
              "+SATAq1yhYnMU78kGLnUzLZscTIMV6mS2/AsWEOGpQAAAKMBnwF0Qj8AABnJdQ8bIfCYGfGhx+D4\n",
              "AACdOC6kjE+QsVvwmZlIfa3EIXELIpnMs4KFTwwTgMu4r8nDOj3Lo8WrzVq6kVbsyaHvjsRbn3Yu\n",
              "ifs24+EqNYRNLZO4qup6k7nUfznfYSuBhci1Q/X0jkzMFh+r+Ogk4Sw90/JHru4DlqcA7MJ92wRE\n",
              "4aj8rTgrKVfliyIYbt/n7N/2z8i/QA6zewMGAAAAcQGfA2pCPwAAGR9vOTXfjlYVR4p07Tpl+Arp\n",
              "UoXTA/K3/BcS0gASvXS+K11c4PVz7MdfObLcW0Ulbj6B0z2W25iKQbrkHnfSrUxhjl1IqQlEhvQy\n",
              "k+Z3BxhAMBV+GWN1G4wjmD2b+lWpsUxGB2+CIJeBAAAAgUGbBUmoQWyZTAhn//6eEAAATTihbGOm\n",
              "PiL35TXlYfQkJodIE0fQ5cT+EQsU5G8wQTLPL3/snL+l65YYIBToKant7XOU21So1IaIUrElHeyY\n",
              "9cknPauwrEbtBzfOv5BY+KwosWbrcg1xUTXR/ZNli5YddWZxLVZ6QtSO4gOrKkAFDQAAAL1BmyhJ\n",
              "4QpSZTAhn/6eEAAATb4rNGNN6w5sHXOYAWto2+k2tOdKxmFEPUH+xXpYtZ86Xaa+vT/zl0FJpkpQ\n",
              "EP2lZTHIthEMTOzKAC/zpU7X6gc8UI/jx5ADfzvhV+zfE4zFDqYba6rWqRpyTIeByz16uwG9YBiM\n",
              "frmlwhkXlGLsKKzqGaREXfG3h3KYTP+knvYX1dkkh3+yMQAx6Jd3mi4I/0U8FT1j6btQL4Shkclu\n",
              "GDy7rMP8udw/o0W8B6UAAAB0QZ9GRTRMJ/8AABUGWExT37QnYgRawM04vAUHQAAQuQ4vTjA2t0PE\n",
              "vdB5+/Y2fDwaxJDYIDzYvpbE1zPzUqcKRMtLtFsC3Wx8RLu9UJAc5OqqOhyHppz455spAkpjUSwq\n",
              "9S4z08hbjR0Csg5Njap4BhH4gTcAAAB6AZ9nakI/AAAYiHaVjL1D9vfPouXlGnCvYKKlpgATrCeu\n",
              "gqtILBbcnW+QjJ0WtvfGwBHmgg8sX0vaXrO5raSADowAfJS1sRwKPSk4ELB363pKCBV5bSIqjl57\n",
              "JNdpA20TmicslpO3alJZJq0cXeYaFznGI3fAHFM2dBwAAADbQZtqSahBaJlMFPDP/p4QAABLum9G\n",
              "3V+X2MQAiRf/yzuVlq5jnVLjhBqB88TUEQ4jwZFUoEC08d2Er+ix5/QOt24ULAPUsoUvfDNCGekF\n",
              "luXw6qGq111fbo71H2gLZL0lIQ1w962P0o0IWUvQYqDgY4MHVz4/hH1CiWUSqX0LcC8Nu3FZXcUS\n",
              "0koxXfWtkghJe+OSash1XtHQlRWjLIGBHGmHJIqb2GUa0aLYT+qyA/RMgswPGpq2GTJ5R9EP90L9\n",
              "rvJOvwYxMVdpRecmHlQKgScTV5mEH/sFAPSAAAAAgwGfiWpCPwAAGIJlOOHzcS/MVooGQ07HnfRA\n",
              "AXQK+BmFONSU6LwRo/GRFL0zi0BhwPN5St4WUT2RGC1ah1T2846Jqy5UVZfVZg91Y31AhUSdzPz6\n",
              "adI9EJ7giTaiUClpaM4vFi9WTCag/7tc7tvoXvltMiaIV+uFrfoTQpAJ+sL7wpeBAAAAzUGbjEnh\n",
              "ClJlMFLDP/6eEAAASVUOwiK/QBZQTD/Al9e3IH1bfvTE5u63e8/4JEAMU2CAmj/mSLsfdDxNRapG\n",
              "iSiT68ERTxNCkHBqMA8YFMLSiOUGtiGK7FEmRE16lz0sPvzdE33k3odVpYCJHGkrTKFxg8xd/U2u\n",
              "VTQKC0hOF4pGcJ7Qwo9ywLpfO/m9PpZqi/T8qxIC0dpnjaz16OA2B+mTU2xgiRsN7PQQOvC4JTpQ\n",
              "J7kmAKCebUWRGxzaWm4UOdzfYdTwdbcBh52IN6AAAAC7AZ+rakI/AAAX34RekAK2NCrtp3/+cJ/c\n",
              "ZOaSOUlGlra8D+Ks6R0CCgwsz6y7ZENYFTd2e5beTJ+4gu1ME+jEzBuHUhVDJ6gUUVHzjfYtbhga\n",
              "MYFyf+YpE1+TocMNaYoRD3FozciCFc3tRsuhS9DAohD+FWcsrnx5SR1p5iBM9HwRvTKXz2JFn3EF\n",
              "7Qrzj3tdkqig/7LfLpmmPTmqYW32HdN/sOv/SD0PUCcjlAvZ7gzlKlbAmZkzQYAGzAAAAHVBm7BJ\n",
              "4Q6JlMCGf/6eEAAAR757DT1c6Skjkj5CuzchH8SKw+lp/IqCQG8VF/yslbaVKzYgHqMsz5xJsVAv\n",
              "rpX5FYXH8Y8510QOI2SoPZfuFuqcRFs0Em6xdUaJ7/rt2CEFVRQK9mAAQBVGyO3oJiSI9B7gu4EA\n",
              "AACjQZ/ORRU8J/8AABNWtSxAAKqihQHr51L5r9nAj4PsDz/iqT4idBMTKVUmZ3sXi6sJ4c+DXkHL\n",
              "o91l/fhPimF/ekkr3PJ4C4qwIh6faRp5n7QZISmwhQZ0l1WM5HFfurBYSDeaOg84zZ3JsZ0xzxNi\n",
              "lpFOIWhbGJnCEOItxBJHbCEDZt0DakrmmWfl7YZwFiZBerJhdCjwMJ8itcdaXxjZPEARcQAAAIQB\n",
              "n+10Qj8AABdMNT2epxU0T2sOwfe5P+OLGXtcgAueAkk6kO381adr8MtWSV+JQciiRpBrtuJVasa6\n",
              "nqkt7Mp3OIzFR4rdbz/70ukaq/9rbZdExAbEKDv+Qe+tUbb2vdTy8XlL2rTYYi8uDUpTa8fPPW9k\n",
              "tkcqFZzDCQhrOyV01gAAbMEAAABkAZ/vakI/AAAXQi8I+pLW8JB98qPBcg1DbWH4Wo3VoKAA/UAI\n",
              "2SkbED/MkQPu7KQ+rj+kyZiGOzuiMkI12v35dbT2/QygxoelgkQDNVDizs8ns4cQflSpGiQqrck6\n",
              "88/MwADLgAAAAJpBm/RJqEFomUwIZ//+nhAAAEVVDsPLK2AGi4thV+Q1PdkXBp4xwHv7S+p6532k\n",
              "PFA1rHYp/GR7/rhIy7B7h4/NCeaYsnCEcSbNgYU7Rfky5pthL0syaS3ARJxN2kvH5FKBLoj3Anux\n",
              "GtvZi8HadQvyPD8w5XQj2cq4ueRvNDcb45+QAIRw0fI1QbQZXqendXTR/By+1udXuDAgAAAAXUGe\n",
              "EkURLCf/AAAS3Oamq4B6D/AZyVLt/N1WThfgirFx+4Iu92glHZlgBLpCpfu7iu8f7YBO/ELu+ikj\n",
              "+nRznUl1Na9CYvs/3Pl+k8FBy6VmzTwgpG7oZ+YPaAAYsQAAAJYBnjF0Qj8AABa8QMqwAlrc5Mla\n",
              "oGpdGqxxaM+AWbmHgfsjgwx0JCWYGMn3/DRVYYeMY6vsaOe3VJwExx5PLPRwEClPS1amCi8PiHcP\n",
              "g/S8M6+cD/Ge7rdGw/l/pBpBMEbbzeZw3ei3wzWpNLtRnQ4EC/qSCyMPqdnY0eh4Srqs8tOkmEXx\n",
              "jobXrvBCXE/GiPvPUmQAATcAAABkAZ4zakI/AAAWtTbtcDHUKMzB6VewYwsFYPKYTw7kD/FJeUOz\n",
              "n8AKFk8dpSD4/4x8neVMPD4hHRbZ8mhdBxgDGNLox3Aw7VaCsX5LFa8LSGVp5ZMY495Ay9DpNpAj\n",
              "N/0YkwAkYAAAAGxBmjhJqEFsmUwIZ//+nhAAAENVDsO7bUJooBfgL18UYm4mT6m3cAC6e/W7Rsk9\n",
              "Dr/BjdM6kQ0eQGq3B0bIdtPAY8g66j0YfHErM1AP4nIDiaJnfcHhIGLn2GUpMGBchY737SXfM2xr\n",
              "JSeFAiEAAABcQZ5WRRUsJ/8AABJWtSQ3XEPQrDoBsNyDGxANapp11izPJWlepoAFw/QE6Pk5chf2\n",
              "jAVcnHooYH3+RqV47TuWS0po8iZ5kFIJ2HCGAMXqI6KZxk7mvISTM+QAA44AAAB/AZ51dEI/AAAW\n",
              "LDUwNmYfi8yDu6aXnQdZ09AAXQNTrWKzp1Zty5vge8ueOXbcQX0rfmDBU4aoUQZix0jjsxFt3YEs\n",
              "BGUwmS3yTeLfdFjhAPDDsOV+LTZYaLqaE5pETA39oadmMXpocLYAjtFQBXVreHf8YebLUNCAmXBf\n",
              "ggCkgQAAAH0BnndqQj8AABYlJTjh83EvzFaKBj+FweF1wAA1wifTgRYLCpiXpHzKhlwcySF46epU\n",
              "VU7ZKSOW68keBHAv+dYfyRHoeZMMtA4gvXoPdHL4wHMq3UtIOkDpz0+w0zhj4kzUkcKjm/NZhwR+\n",
              "jr3jw64DX+tpm716K0Ht3gBlQQAAAF9BmnxJqEFsmUwIX//+jLAAAEJ+hF2F0EGAIpca3pzUZYwI\n",
              "ZNeQt//KmZJm5gJrNd7p530RlrexC6XjHiGP/kgHl3jeseyIbPwY4nBdX4DnFrze479RgvaIEujR\n",
              "2XPLwAAAAIBBnppFFSwn/wAAEdiJNotgAQX7vszsOBh9j592i6O+2d+rQ6TIs84jt9lap4ZMhhmD\n",
              "6nH4xlradrOgX/mh6zUXlwQyczqH9PtyTF2hfXox6sts3NT+FMeN+AIugfg6D55d1sOMw5v2KPIW\n",
              "TY+TAz29lpzoIC+PDRHMhF4UeAArYQAAAJwBnrl0Qj8AABWQl1SYxEp34VqekQcxpNDwAljnSyCy\n",
              "3UZ6V16k7VDzPuxSqGLS6X/+4k8p9aSIz9HX/gnSrKOvMXTdgwFVbMhDCR7NzcHv2PvT4se/Kpsi\n",
              "Ka4zLg79RK7AzXyycWz2P1ARo08i9WGg8KuBnGTnmxRH+bUei4Bh90wnVtf73yVXpOJWR8GEEZHl\n",
              "TrKYFtJmCBVACggAAABbAZ67akI/AAAVCzaez1QPh47pgjmrSAFOhjYig3NCF/gtEkwp1bL4tQy7\n",
              "YuI6RxBUr+1/z9dQl4blz1jNfElvskEZnKt4rhBX9/mwbR/6DJA02kU1XexrOAA6YQAAAINBmr1J\n",
              "qEFsmUwIZ//+nhAAAD9nPGjdyz8IVCZyWxjcw0TdrssABYVemUAaIKJuvwKD2IubRYr1UIgUTejn\n",
              "7JmS9CTotAwFipAiplbSJ5IT8ffnNWof2FtkAY8uC5yGEvQ9zQvXxp22fvXWnZpPB0TEYLaWtXpw\n",
              "ESofwMZd5w9J99wZ8QAAAF9BmsFJ4QpSZTAhn/6eEAAAP78GqWO6WpgeUwn8ZyTPpZXVcmLO8S76\n",
              "sABqwsNbICxf8YrSrQTfpIP12hd3juDdZzHuXn0smWbPl+FAL5Idsgp3UQFGEfaK402eZO02YAAA\n",
              "AHpBnv9FNEwn/wAAEViJNn28JoKZyW6+V1b8e03SdH1QcxenJ6AHBvOSeuoN7NjuPeC+6/sLXDyp\n",
              "7Eq0sZfg4l5IrrNjrIogsK3QX50ue02wN/NyAs8XB+Rr6tJd9qlfTSUG4fjxug2QqMKFTYfiC8AG\n",
              "722mqCDYawAFXAAAAGQBnx50Qj8AABUCTBVwEw8iZ1cTbZGWLAZeMO+RuaZwAr7eayH1XSuu2f84\n",
              "nwz97exc6ExKmwshvCq35hQYU9K1yNkAx0egzn3ul5oa08JQfxxtrOIOMuRbGMySaLynJDLIAAOP\n",
              "AAAAgQGfAGpCPwAAFHIu8QsdpdqQo4QYPXm0MAFz+p5LLVIGzVZ2DYTnKRtW5WZVGTfOpRzVnJ/E\n",
              "0Mft0oc9sT8f+2BKaC0PnL1dmqMh6SeWalF+5PTa1Yi82NeYnrJM6iz0sJ9y8vP8Ihv8YNpxY7P6\n",
              "sjbppI18i0u1vJNRRkU6nAAYsAAAAHBBmwRJqEFomUwIZ//+nhAAADyes4tc67Xi2qZIJSy+GdWO\n",
              "Fmcj9wLmhgAlqIMwY056n2VmKNfe7y3vxTd4UMW3UiUuqBnGdsNTlXHpMTWv0eKuCVLkTVlNT4Oe\n",
              "Mvp1FLJrioGD5hUe4AoA3p+6Jk+BAAAAbUGfIkURLCf/AAAQXNoaya7ycpXTuxBAPxPZn3jqWiHh\n",
              "OOAE6yYjK8CzWnxT4IVSI5Kg2k6RW27aBIvgc7Sl17ftTPi3ozncOFjtyOXPPmtbeTlhh8JdLtuH\n",
              "gwPKHMjWhRQoiDXiWnK3MWtABqQAAACbAZ9DakI/AAAT4i8JLky6NHaZoLcW+aGqgAF1WeafLjai\n",
              "NZoDAiX8bmC4uNz/5POiywBQb9h9ygJ/+VcPzIhPx7TSoC5LajxF/e8JyOYVmXx5du3Ke5psU1g4\n",
              "ZSvChUeRITGln3/NbxF1paDTbbuqBiUX8w8fGIwLv1dzyEVgSic1IEyE2B4y5qM3JVYC+nmFPeJJ\n",
              "xCOMs1gAHdEAAABOQZtISahBbJlMCGf//p4QAAA8/wajpw8r9Q/+CQSckz69EX9GZdhbV6VTz/cc\n",
              "/oXcvpddyW+QcRqyTq3emPN4GkEblh5zAqoHl2uGO5FNAAAAnEGfZkUVLCf/AAAQWJJLyjjQcR9/\n",
              "WtebXqiFdQ7zmhHSzKegBK9jwRq+sW74GHnNGvqpxkPWcN21XvG8YkCQYSNuuLOafi7HE4VUM99D\n",
              "oYXoS0AGjp+BIyttSz1MfhmzLpLABEUSYpr2WoJ8y2Xu3nzzNh1NMpWnVunqnlVKuyFY2dCRQ20h\n",
              "Q1i227B+Lf6NIMKFrqX0+DrEwACygQAAAHYBn4V0Qj8AABPiTCC8BMPImdXE22QjG993UX/oAReh\n",
              "MY7J2hVpmmou692pSDCb+4Gkv8LVj/++3bx+lEdF5wE1Q0mqIOzLuxMIidE5kMutJaL8vfM3r0fI\n",
              "PAL4OlMZeNq94RGIM9Hbb9kLgTolo5pJpf3yQBqxAAAApgGfh2pCPwAAE102lCPWuXo+BQyuw+Bc\n",
              "loeWlm5uRVzK4QAPhBC8A1yVzUUWS9AA7rttk5RF7zKFeSVEWDBHS9zgRVlLIYfi3TL1rI4stp5g\n",
              "BL5frG7Zs0vYk1yrlTCKqKyLTf5hx2L1ZlEY+W6oVUj0iT1uOpJfP3aGEKi9TvSuzH7qp/lPJPez\n",
              "sTO7EX4BiIl+x5U6ZkwylAwset6AfRCJmCgAA/wAAABJQZuMSahBbJlMCF///oywAAA6SLinS7nX\n",
              "P3H7Depvtmp1hBiczeuMoz7mzx2GIKeH5ifycfxpiWtmgxY4xR1kuLolLiBoEWByQAAAAIZBn6pF\n",
              "FSwn/wAAD4bXQ4wAb97rdm0r3X8oHIfs4EVa/oheDAgArMrd3zKXqoioBAT4E9SH6QZjjO/7MyaD\n",
              "0vwltJdb5guq/qoT5wqMdL4YkVVJgQbXpz6TVw1iU/yHtqbc/IDPDPFKxvCxWILILSTlM8s+HVbK\n",
              "5DY6RyLqTVwSzIT0yRQb0QAAAIUBn8l0Qj8AABLUu0Hmu7wge//zDyiNXqz0KjeAC6AxzD9nV/Zs\n",
              "mXUWQRo/HkZSNqeCx7NinvbI4xHXOHzRTm2Wp6kErMxljKzNxTgCZbzZDSyPmSCGf31LUHo0yPBE\n",
              "VeEQDSvaAq2Up5iHDjule8n0AKwmvDfMbASaNMfUjAdm2a7AgNmAAAAAaAGfy2pCPwAAEtfxEkCJ\n",
              "LdfmK0WuKhs8UdACtVBvqsR1/asxgXSwmatm+DOCZQYL49YC9vL9yI0j71FEuqbg97F2HDMc/aPd\n",
              "mFYCfRiqEGIigOxQnfXi1gLG950qnDfNcFv1mYByQDegAAAAd0GbzkmoQWyZTBRML//+jLAAADjc\n",
              "vo8B8spxCCKrZYRmvSQftwf5Z8468NUAEMgJTC2PO3ZkPEPTDiQpYPSbm5k8mD85HtzZNWVV6IB3\n",
              "2sQ4cfPQtPM8XBm29ibsaxTpbEfypyJHpI5EwN+6Wq+HpRqEvX4XcfI3AAAAggGf7WpCPwAAElXv\n",
              "trACNwMLPOZAnyWMeo2zyZaUyWprlzNwfgUdw8xzX8JmUzx/Ebk6O824VlCU2RWyfdubxH9DtXb1\n",
              "mhhr5j/mDA7Vvnl1Ekm/V12jCylJoReRxKZvKwCNtkp9p6xXd9zdCzNp7wFxFcEY7R85qdRhtKIH\n",
              "7wjAFJEAAAB7QZvvSeEKUmUwIX/+jLAAADk+9qB5a5tA9n9sYa8DiSW1LN7OagAIeIw0qTNzPWpR\n",
              "RS4bEowTX5H56kZQexmvxbdcuuvolmtbTjFZ7Y7N143NIQB1f9XCSicSk0tkEHG1AtJlw3P38+uh\n",
              "HN1mKMvkNX/ZltuUGb7gBBDxAAAAqkGaEEnhDomUwIX//oywAAA3sjjVJPgAcb//RJ4B70cerZ1w\n",
              "cyDwYGOB6SRsymj13wq+9GKUjmoBi21FApItkMkV19/y4nqqX3c38per0Fgk9nLCLiFRbF8xvSgN\n",
              "GjvxtX9a5H3xsXd3AAXngowXWBKzHHvF8qRrpcwSkCd7JeqTm8m+dgrDWhIO2b0wyHgYTIBjD/Cs\n",
              "m6JFeh7LQMHoFXKTr1/RWZtqlgk4AAAAnEGaMUnhDyZTAhn//p4QAAA3K73cYAEX6UPdgWugQK46\n",
              "jfyo6Ptbo7bD+6X9/LqN8aNrd9VSgWSm+2+QpV770eU/UgTD3nOk2oEsmTy5RoK+BrZP7nuBWYG3\n",
              "JffoACj7W5gpkI2TrJN1vIYqnUz+z/jJ7EDVsrqkc9xDDkqW36bAjjPl9q6yLuiPuaFd9ySUDYP8\n",
              "X1xXzdPHajQDugAAAKxBmlRJ4Q8mUwIZ//6eEAAAN0iNWIFr7WzRvCsSMh7q+pp8tMcYZRlIMAHh\n",
              "I8R76oYKhRIbonFLgzb5b2Aln4hSEOz34AM6LWTv9arNd1TdEOgChGm+Hamo9eYw9G3liGiokypz\n",
              "sqmtDw6VKCPJP48RI3KClUrsyJI7UYITMNgJ3OegtvGiEg5wX5mAdMRSR+dQ7mcXVpawwQXScOlw\n",
              "I1H11PeuukgFusL6EEXBAAAAiUGeckURPCf/AAAO2DKbUMz+9Z0jeA8MXrgxU4AOKHE7m600pUe+\n",
              "iyi61Edq7w72jILEfvAlOlezrgKQT8TULsCz6R32nFurZsGoDtxOmSK0327JO+CiAEfcNBYe4HUW\n",
              "jZrwGTsIwFtWAORdgOHR0kXZCck/SDJeVPpQGRTXZVeedmB7i7iwWAHrAAAAcQGek2pCPwAAEVXv\n",
              "trACNenOdWHFFPGyHKok/C1p5P/utsfv6iulTRgKTk1Arz6CpXVeMQFqrSz6XJdQQjlKc4tm57iA\n",
              "TvWfo/CHqOpeRppzS4+GiP8G1FMt/defN18u3UtrnxxfAkdgPraOBjrGAKCAAAAArkGalUmoQWiZ\n",
              "TAhn//6eEAAANeuwfq/LHGS+4J3UKk5wAXQak9g0XsUUQhg3XNhOl+BQeD3jBnGySZG5Cm81+Qk2\n",
              "TGwurFQtrpN7Gjh/+ocSyzTM9nzXjnbwMLQlRUpH1SXMLfgTafmRlBWp0gd+ObqTo4H44N3oDAo2\n",
              "B8DcqjeAi+hvYZY602/19B6ySHKDghkgc96srljOjGRkaprHHVIri6aGCcaXcw+tAaoCtwAAAKNB\n",
              "mrlJ4QpSZTAhn/6eEAAANj7HYPxFeD+KgBqpfudT6Za2EndUsiEIy+qXMJ/CZoYk8bCdGrEWEhOl\n",
              "zFGSaYsb0YbJlMVY25d/xSiVrprYfvWS4DthVTmmufEgkLfZqtg0dBBpiOKqDZwO/XQzbBD2gThc\n",
              "K4MPhUaa5JtkAEYNrJ3bI4GiAmqpyaXDrYp0WQGzeKvkA+0IPescBsGIXiqbjEJuAAAApUGe10U0\n",
              "TCf/AAAOgDjMp5j/Awt/WtebXqiFdRCbjgXkAOLA3PjIcVTufRiMRhKv3Blwy3ZmiQKn5vcpIczU\n",
              "XSr5W1rRqZb6v6C5A8/mmL6IhFUG7s8iJ9sOrD28mpEn5aIzKXkfN+EgavoB9KqbPyay00o9qfnV\n",
              "2vdDCmTjqhtGNyRDasJ7Ljd/ogUCNDGGdApFSwEKFTbEAaOBk6TbpP6OUgACtwAAAOwBnvZ0Qj8A\n",
              "ABFV7+gLgAF14k0c5XgAv42m1/7odncpAtnujNaDSzFlGl0X6Zyv4Dsy7cw0Nb95QV3qL2pvu44n\n",
              "KlLPxAiPX913MtPChCKHYzhWDwtZL5HrM2iaW69IyBHFCwr1ywndJ4/RZwsphbbH1m9XbxbdIFPV\n",
              "ucNmWzafl6HenAci9SKiFLbiIUMM4fwbhhlLr8gakGwmJCH+Irr0uJc/4HOhrTgMlQQdwpxIBwv4\n",
              "QU2hjD0iImnGaPFUshmy/aXJ2rA+XuHEEznLLHG45oPC2wsI6SrwQtJBoPBgOa1e0kqmQQ7PrIC4\n",
              "gQAAAIEBnvhqQj8AABDdNpQj1rl6PgUMrsSk3NLHqJQBADczHwLs3VpjTdU2sZJMxAE6IsnxqZpY\n",
              "/2DsdI5Cw+zc7DDea7Tv3sYerGpxZoU7DBGuaiOTfjM5OScC8hyWajtAx5swC4MkMYO8lx4I2yG9\n",
              "i3vcDUG/sSQjoPiMNnY18tQAYsAAAABTQZr9SahBaJlMCGf//p4QAAAzvCc611qP30ZZCkg7MRRc\n",
              "FpDyS8g2UqCub+WwJXYpHmdX+2zjLCzoXDRWNy78x6vG3gzo0LPZYhj8QY/4dRleCXkAAABpQZ8b\n",
              "RREsJ/8AAA3PppJpW73GABO1bhW2T5BjPolBZrGHKXiBK5v5L5mTYCbD78ofHUK3eYsK0cmeUZJF\n",
              "ACMbf3BJ3a+KoOMVQo9azw7fkiB2Q4bywoz4de2CBEuw9Qi7mwaRzYiWACLgAAAAeQGfOnRCPwAA\n",
              "EFSyGObr4Sewmj/NeQQ2AA/cwN+PTLcBRp11DzQ7OiKKYl34I7EWH03vLtamqHY3rwLqs5NWYdY7\n",
              "uac+64tv9N6/EEiqxkYA5XJTFg8czOIurv8p59ls0Lyx9qiTPFBJTV9pkWpNljkHWGMsmiQASsEA\n",
              "AACzAZ88akI/AAAQVeDL/wn/eEgxTh+Tk7ICAE1dJgc5ZkFDGuJ4fFBMM9pvf2J6rLwWbiAqaogf\n",
              "8JvFcng+ZYlKBuaAIz7GolVmBpYnPMCDv1/9wAaLuuvDH+Bo0foQDaH+3J3gGcf+KUGW6nd5MkLR\n",
              "4s32kNuRbiTnvXcKqlia04VD3uwFgJ4dtdsjSCRYBDyR6JZ2ffaA8wv0jXmlWJ9cnPyEfcNjbfyi\n",
              "QWSucrLxA3gAWUEAAABeQZshSahBbJlMCGf//p4QAAAyfsaNPvHpKfNk4AVnoU0VYWQmwZaLDF9N\n",
              "0IFSkXhR/+rqfhwZSCr3rqvNMuHWyKpaJLBxDy63sPCPt2bPjyuvTmq7mhJNvWARgUQDfgAAAOxB\n",
              "n19FFSwn/wAADYNF5HI1348FmclS7gT4ZB1xluMgVszPneADVKO9eilgcrq/SeTdH2kHZtUgj7PT\n",
              "2Djr+hqmG3QEgAZw549Ghgw32pARSxLw6hLBhlW6BDQsIaG44LDdsqgFpELlVpgYNLnN1An5pxJu\n",
              "/Jy/EfyXqZFCIfDiSCf86RPF7JpE9Yw9LK9LW2JoXSOPalKBk2itEKfPDLO2e/POTavHWAHMgqZ0\n",
              "FVR7BmgyloWaUOsjJ/jQjoxN50Ri6bHWhvDajVoZpmo0aJYLF/mhZZHnQG6CiDRIT8qTJXlqLltP\n",
              "eIveXlADugAAAHQBn350Qj8AAA/kQ+xmzOesXm6fd1k7zoOs2CAE1MD5snGsI0K+raU9Y0i0CecX\n",
              "sMUHpndWE2nvy0oPTYLupq3ixk2hQ6VuTEvJhL84eRwgpHpe/8yn5puuqXsKQ48gT65mI/o59QEI\n",
              "LkRa0Lyr+4FeAACggQAAAJUBn2BqQj8AAA/f+na4FZIRiIx8dQZNY/ZJ/67PVgU0AJzPAYDj/NLs\n",
              "nQi80qhraI0Fo5736IgfmvQmwtOwsg2vlP/9mIz8VfZeCBvMUodVgbBgwf1CfkbvePNHlKof9AHL\n",
              "HtRfuP4Q7X2WUxz5AbBxMT69wqNwGbJ+geV+Fo7E2t8ZKXQPvcwZX2pSDvF3otptQABDwAAAAIhB\n",
              "m2RJqEFsmUwIZ//+nhAAADE8JzrWcj99GWQpIOzEUXBaQ4E/xjJ7YBT9FPihmf084iT701KEQu55\n",
              "AN2idko0XDCkvIO3UDvTn+RiSfE5KTLfSW00f/f/5zLxcvUinFp3LnjBrkzn26Dg27kIihTxMRKN\n",
              "eyxPssJ2aOgkPtJQuIjkVpseREhpAAAAxkGfgkUVLCf/AAANMz4xQAB95zRCBFDl0SJ4lLKtqyaK\n",
              "xsTSVJ6cwzBBH9rP1lggFTZpWkC7cwwxpqLJhxV86RNb1ITDMvRN82GLx0UK0BXz4sO6y2/9oTxj\n",
              "owcgPRxrbDv3wL5Ubt2NR4fratlWYLvxt420yDxG1qQ7zxsvq1e2U197QHgwfwpD43hwZWqsPsC0\n",
              "JIGhn3umF0O0Zr4GtTG5+NOErAuj7kKOi51FFcbQHKFDjg9QfESgYQ4PbBpR0kucdlAGBAAAAHgB\n",
              "n6NqQj8AAA+LfYGQLHRoldXEDLWwEGnBPEWbJCWqU16mopBcHnMt+fZsHXYS3nIGNsVDlpHRGCLl\n",
              "O5TFLAMbzd33oikgP/6Jg/14rnQX8y+m6qKy/c8lphQm15MG/oGUOrcdC6v5/lAxTGGcDsIvuGvs\n",
              "cmIABQUAAACNQZuoSahBbJlMCGf//p4QAAAv/Cc+2EvOeSxlWsYFPBXC9+/kzS8J9ruwNfoANha3\n",
              "pkKaNnrq2S1MYatJheCRmnrdKuG1vSHXbTsKkOLSbOhQRvTU7RsfxANDuMbQUEJChdvMikDTY4eB\n",
              "bZxTr86HGVhqxz40aya8idTtOUCLpfpLE7H9i7vf5RQ67QGLAAAAcUGfxkUVLCf/AAAM40VcUAAq\n",
              "qVe4YVowNOaJIh4YgfRmAzDwfK4xrYGRt+MwkdsyTgkXchGrvgAJV3pbDpb/21UbiofRSWHE94nU\n",
              "zb/x/OVRkBch3lAXvI0+uySGzhSSzugQlpEI1GYU/LrDpXXqAAMDAAAAjgGf5XRCPwAADy1jsYkX\n",
              "QAxt+or/V/V1flYdrCADuMJqbxQV/CtGQDdpnKNr3YbbaiLx2vYFUs/98eOmx8bMUTYi8jkow9jn\n",
              "/KLAergyTUKMtR9fVr3cbOEWbLu3Z3krstH8sRSucoK8HwEaOJhe1+XdkvAEIuTRqgvKYOhsaMYD\n",
              "ACfDPiqYWM5IZ4AAMqEAAACGAZ/nakI/AAAPL/p8XgY6hRi5Y/jFO1w/f3nIABdAUPhsn15TxcjV\n",
              "nMaMDTpHX7wU6yKtGe9wYUAEYOtDZyWw3XGZFvFL6ijOxxgucjYaYudyecFEwcNRMypSWbi4sc8w\n",
              "7f+NskDh5BiUiy7A3QCKaoaIz828g9XOIjY8uoVtdZS8OWLABBwAAABUQZvsSahBbJlMCGf//p4Q\n",
              "AAAuvu9KO7Xe+hoad7az0KaKr4LGLv/fx8k0svjPC0ekifm5NbyuxyMPSH5OJZZIpbQmEkCUQIgT\n",
              "iBoJ3gvb1g0sTgnAAAAAdkGeCkUVLCf/AAAMkJ8nqIDla8nlic317PGB7nFG0y3YHReRAALhrwIk\n",
              "cnLKAeFfkd++YjPPIp+eDoXY3jvvn9jF44l9REa1LWOSUIvwRSP3c8+RT5ygps9VOL1q+QkHWhhN\n",
              "CeG/6f76O8m1xN2dKGZ6ZVgA44EAAACsAZ4pdEI/AAAO1Wm5AAC4Ws2K6x3J0F02wQSboSE/RSbI\n",
              "JPpCKjvA89BZEetnxL+E3Y/FRe29UODvce54J8xXmS/EI/t/WisRWUK89aN7EEnf4+4UU4GS8A18\n",
              "Q9IRykAlU6kMGTuzuXHnpc91rYv8vqb1Io2vQV8piJ2ciHqycNN/dVINRYJZ9DaOXfX0cu7/vNNb\n",
              "guY33nFHewMA4nAFeMh1flftrmNiHUAB0wAAAHUBnitqQj8AAA6DgXpkAKw/TlluvpSxNAgOXIto\n",
              "ta0a076GcqGrE1ZuJXZQfyX3KktTsZro3/krcEV/ZmQDgO8tF9goxniVBvDqgkhdZjd0Mr8xzCYm\n",
              "FYMzYnuJTlacnEubtNr+WclBgEaKI3Q2Ho/3+TwAKqAAAACKQZouSahBbJlMFEwz//6eEAAALZzL\n",
              "nWqGeeQBC/BW7cUdkersaqHxJ1QJ2pWDEeo/tcEI2P7vTXJl21eUJeYDS36N8JmGPfFZXzpWsSxh\n",
              "JrH0Ev+i/pQqbeZxWmdrS7dj71cBrNMc97dMy6/aKm+CBoaggUIJSQWC8VUMMgnjfRP3ijokBMsp\n",
              "ygM/AAAAYwGeTWpCPwAADoasicSsIwlImURWlcASX1AC2/Vz7AqyqpBjXaRs2L6ztJJbDF6+dgZn\n",
              "UZ4nS9so3K4SGHSU3/3/qjlSRhLHfUkh1sfgzvN13jJBn6Sm+bv31UO3SVFg7AAl4QAAAFtBmlJJ\n",
              "4QpSZTAhn/6eEAAALHzLnWutR++jLIUkHZiKLgtIeSXk2XADToVWFAnNCT795FABbEUBGH45RjTT\n",
              "QbBtiWvuwJYl/vC7EXt1dBX3GaorKnTHRH/QkMGBAAAAV0GecEU0TCf/AAAMQtOaE+3kUbyBNQ/X\n",
              "9GD1lrJriA4yhHoLmTkp380nJrBSSnTAFK66TlD0ktFknN31UdmPXRqP2Novz3r6EeDSFbc6tHFN\n",
              "d7DiAAAUEAAAAJgBno90Qj8AAA4labkAALq3ORZxT/XpjosiAo274iK+OB5c4vYCVtIUcqtzX5iV\n",
              "fnwLxT3vtJV/5cUkPrQVGM/U1wMTkG2nxVSICqQeVIWUKXqrLE31GmniHkZdEPF0LQviM/CPCUnl\n",
              "GMfxdLxbwJZMFL/RwMV+CrSo8V8Zg8Vce9oKAvYeEr221zrmtvcWJFaq+ZHwAADugAAAAHwBnpFq\n",
              "Qj8AAA4n+na4GOoUYuWP4xTthU0O8EB5QAfu5lGXWCiKURMYXSggisxWNgHpfZzrYq+h7Z2pZETl\n",
              "Ce0+U679PhCtpt3aVKn+NVOnFoejBrzcRjwzMhNNyN+qBtFW1TccbPY6SXPea+rUD/rgDSV57c1r\n",
              "HLD0AFBBAAAAZkGalkmoQWiZTAhf//6MsAAALf7mm8/8bNrbryCu5LNNx8Zmn4aPoXBLods5pdIy\n",
              "GzuDyaroPH0838eQRPsRZOYzFVhIFD/x0Q9BGR6SypDiiOOTuqxjgKlPaS++NHJPap+mnoASMAAA\n",
              "AE9BnrRFESwn/wAAC6I7pl9H9ln29zK4ZX2cP9DlN767+uIc4IbUW6HSPZzfHmG1lq9u/SbQVPda\n",
              "fUO0AIGfKBChz8/hPTiPPQBTZrXgAE3AAAAAgAGe03RCPwAADc7lsYga9SFDl/9S1+5lxUJ2/h0z\n",
              "9ACaJzFAyoTMNyDOksP+32oca75vJdRk1LHqD8GLlXsaVhzaOmK+JO5kTI4rzFK+xn83jKSb7b8r\n",
              "OU+pijaTE2tmDUxpemvIaXZsS+MHJvJ6YKhzq5KHGxaqOUM+DOpkAAQ9AAAAogGe1WpCPwAADdE7\n",
              "fG5IAS3iTRzleADoiQqfbFRtJpGJZMX80oWcKlJ0A0xZqaKnNW+hbbdLs0xWv7Kx+7WU7Z40wapc\n",
              "OeYnCdh5AFJ+K+sNTALXhQjVckX50jQRABbwf6RpuVJr7XHxO/XP1zpTASAoOqylCy9W7FU3mb1Y\n",
              "3NflQAEtFYB9kS5+jX/Mf3iW937c6ebhC4f1niLkoccz6ABlQAAAAIpBmtdJqEFsmUwIX//+jLAA\n",
              "ACpU/qz9m6Yx7LACL9wGy6tcv785zaIjZqoyyIeZ5J09r4u3SL3uImK/Pm2M22Kxd+hWADpLFHHs\n",
              "JNpk5scPalEBfDzOiLPvHQexietVbwm54VzXJX1peCZUQdtimSnDJtitxmf8mEjZLBx7yiVqoSeK\n",
              "8MkPqZUNwoMAAAC9QZr4SeEKUmUwIX/+jLAAACqcy5IT0FxigAtnvWPJD/MrcDaEFP5X5LCzqVOY\n",
              "Zg38jxrusH7bOJtllpqyyVvSm2Wt3IM/mGH6yoYUIEceyBOdhhc1FcCgBW8NOHg2rTnsDC15eP/r\n",
              "83RPvDvVgVGTdLstyw0z0cKxzWwf0Wy3Ys+X1OmmakirZ6hfFgDba4bhmU+tQiTswQxMb5h3DUwd\n",
              "0Fq6CfV1bklu4oQtgQKQjfZLjqaFwxy2S11PyAspAAAArkGbGUnhDomUwIX//oywAAApNQ9b6wAj\n",
              "IXFjFm2iqfuEqLkcP+TMPxsZv989jQSee+VBobX/vjCv8V4G7GsA1khQZxe4au3urVpXSeiSDmIO\n",
              "wbxwzK5FNAySTkvcLmrmy0NsSLWYISaMf9TQ3iG3FNWYSvD+el2WyoVIOyhg36x51HcBNtJOHSaa\n",
              "W/5HXAEWUGCJysx759Wa6w8rOIO+JqxQqVY9pVxMJyWFrHiqCAAAAJFBmzpJ4Q8mUwIZ//6eEAAA\n",
              "KNWzOykAImT/+zn/xoPOW5s0/ZsbT2YUPrA1FwECfKIZ+PRtLRIlLszfM49t7kGrPknWZ/zGA+br\n",
              "4NrPeTGw+T9BcNKNSrL3/Ck3Yzv1NVJxvVFtK9QSWWWtUf7zqCmd/r7FcfbnIDUjZ8i01akeLEMX\n",
              "mmEP2y/a3WiqnCObtlbBAAAAsUGbXUnhDyZTAhn//p4QAAApG+88OLJ8QKn///wc1os+YbXOR1SS\n",
              "hliSTgky1+rWVOkTQRc0vSNtzD5FzRV3vqEo+qIqDrU4heibKULUKj0EOSc3j6cacHYGW8F2Hy6R\n",
              "9m1CE/HE6EgXrHTKbnUHGVpSQTWM5vZbiDxgpxZ/qC2RzNDtPd0iSF+eTLgjxmrA6M+21Pl6am4w\n",
              "9sUjHQGMV3VAGZM3YoeqhyP43hc2GnQFJAAAAIZBn3tFETwn/wAACxMpHjW8AK9jN/bLecGrshcy\n",
              "a9BUpeObRcu6qj1BPm7S9fIXIHKCr/jaI+1a9xblazf4WgLPERhFmdM8tdF82/0XVImmST+Fwwq8\n",
              "OagP+dvhLOqkcZIVHG5N/NhRkdEZaRvIH/BN4tpvcqoLoVhkN/siAW5zPMGdE4AIGQAAAIMBn5xq\n",
              "Qj8AAAzft5ya78crCqPFLDUAEvQAXKuRxvXSHMdpta46H2uaf4W4oniromaI1E7lRk+/+hruH9P+\n",
              "vnmNheaLeWF9QPvvpyO2690QZCEZbdedLg9W6glNjubam8+IvLXvmnORPJdVvBWL487dbsZCLnIT\n",
              "zNkFIo32YCLI3oAm4QAAAKdBm4FJqEFomUwIZ//+nhAAACfA8GHllbAFUhC7KZlO4m6dHCK59WuD\n",
              "Ywcnjj3xdG75AaOXBO09ucUqpYXfbY2e7PAKczJYaYDq3uGw3G5/2yEW0JpEd7NQpVxxsMbxPctX\n",
              "/QG/XLD4WBHbQeamO/LgaO4R3lj4r8hqHQ6l/YEh4Fk58h4lUbLoYBRx7agd+X+4tNTSz/urOpsz\n",
              "lZqdipqYEDxp9+UB0wAAAF9Bn79FESwn/wAACsspJeVzKwW3TeKD2QL5vAE0ADiyP+ZfCttbKhli\n",
              "Ukz+FLbxOXn9tdBTZh+mYQhFkH54ggi6DX6CK56jb4P/fOb59PXvmhiVA3HesCvs/mdqUAAFbAAA\n",
              "AKkBn950Qj8AAAze66wNd6CXwgBaWHkmHOmusBbucRvuYn8Ws5JCLrR0bYIG3z6fUsxmOMMGlwhL\n",
              "6IoBucJQ0ozzY9IIUuQ9Gl4cFskOzH0ggroF9F8tCu7QbGAI93+2AVtdLvXQvXUBxHY5bbliddZE\n",
              "4ZLtGl3BBK0AUt5N+5frQJEPs2YsCJcmyjRRkujKV2qpxXFLZ2J4NSlTe3sqlZyiRxCn3hKfTgQd\n",
              "AAAAgwGfwGpCPwAADJQ7T2eqB8O0W6RZ9Lj2EoYAWyszMXVOP8m2JPrOSTboOQ0mFqr2+OosuTDt\n",
              "8IDT5CI3qxjKMJbnN1G3Lw2R3mmhpHOat0a0+GhDccCAdBTJ7R37thHz+j0sxegYV6wawGpDW1TX\n",
              "2iU0Z/POknK3fMLaZ8/h32dOkAKCAAAAsEGbxEmoQWyZTAhn//6eEAAAJt89sLMacb5t8yBKBUAU\n",
              "zz4UzBoKVG+Hgn4AJ28a1rtBJ0OH6resi/hRXHOXlo8WhJMQIh0Y4aCKeSHex+0re3iZ4HHfwJN6\n",
              "+jM760yDNFltf1MwO2qZ7yxoM2vv40BktFOPU76V2du+FCUwkNHOkUYPinpYK++jYe2GLX0PDFaW\n",
              "mO2Wkqhb7ZRrB8iLPAU6/oSvVXnK/OH2mQsElAd1AAAAbkGf4kUVLCf/AAAKgykeLc0xN+essLm0\n",
              "hFW4+b2ssBNUNQADYuuhBu2EcMBynMfEQfIobYVWn39BD3lwQ5laLnxhs/hU6CPTRTsczuGkZt5U\n",
              "YMPZ5aPDKEMPgWF2DusplODRQVFasCQT1DqYAA2YAAAAUwGeA2pCPwAADEQ7T901WtSNtU2oVyEu\n",
              "hNLP+YuVfspqx3N+yJHqtv471x3SxU53gfiCO22dW9Dg/4uKUBk8mqqb8eJXEi7j4T011rSPS7/B\n",
              "AEzBAAAAUUGaCEmoQWyZTAhn//6eEAAAJd89hp6tafDgM4/BdQI5GJBH0qyEq+odWV9NWmxNPNeH\n",
              "HiSY5guhyagzzqrZsgKOWKhk4M1sg40l142qVDvWWQAAAG5BniZFFSwn/wAACjskmz/dacUVuuUm\n",
              "L4Tpo5eOlxWYqYsvy00Hfr4AJemgn1Gmnj+Gh+aadDB+IgxdrgpayysDKG6jcJsv6pRARj2uW+lS\n",
              "doTYSRpjougZ6KYcFaDk1AquVZkeqn2nHKF8JAABjQAAAJABnkV0Qj8AAAxEuoeNkPhMDPjQ5/oe\n",
              "wAAudqViDfxaGZ1GxBNFPn5UivZ0YrdnXninFcvD38mJh5/FhG1Le9DP1tzdLWiQ+f5QXO+dnRsQ\n",
              "lz6MG3uId6nW/U/bAYfNVhvupDRHq4obNbKt88RNjg3udJF6KgEPC9nmDaaktRhzn8AEalbL/3pF\n",
              "ixYflUQADpkAAACCAZ5HakI/AAAL77ecmu6/nbOgNPfm4VkoTAALeqVudZgLB/KUNG1byrs05Wyb\n",
              "TOgUc9P07oKLNm1izL5Ur5Z2VaYTSikYfsDXwCX8CZ+IwUBCYulkAeLUocg5cEyNtej2U8y4cE7L\n",
              "OGhVAhMo6mHXTAVweJOpEn59IdxqC2ORiCACggAAAIFBmklJqEFsmUwIZ//+nhAAACTfPYZcf0lJ\n",
              "O+XICMDkOXu4VY4CpOrhwBHaMwZ+Xj4FQDWlnWzktDsLvBjJaLg8WCLe2wBjgy4JJheHlgJUYhlk\n",
              "F3Sm1q2rF9HAOzrVxTvpxTQJw2zooxzENNjO7wDpT+4+7y5cvOIqDHI6/v0INSAAAACdQZptSeEK\n",
              "UmUwIZ/+nhAAACPfPaErkchACMiI4np7sY7+0vAc+ilM4Hui2nLXKDyhcFp63BAlqzZGuZ3+okK9\n",
              "4rvRSNRUtsHRSTKDjD/in1IKmlUqckLhyAnZWROafOXISdv5TCO2RcrhOC6tMXlW56T+UI+Ch2si\n",
              "muorpRiUpZphIL1u8CFPpPloBwz+QEQvPnRgwTjlWEevZU0B/wAAAIhBnotFNEwn/wAACatbpmlb\n",
              "gTkQsmODvk8OUvTNae4+3GACV7HgjV9Yt2/hD4MY6oZDYkGTEFHL0hNv1PEXLiuG4mdrQJ8VhHi6\n",
              "UVO44cXu+bQktNuOow9KQQWIYoNuuozuUI9G0TgXPETfTJ2pc1rA70k9RFzbk9VB+nPsmXNnMlAt\n",
              "r7MoAAyoAAAAbgGeqnRCPwAAC6BFto1345WFUdH7uWgZnAAr4et1ZnXTZPefeRN1Xpko6nzYk7r0\n",
              "5aDJJgUpLDl/aVJF8Gi2MGYPtyoXTkAz01vb7DY71g8MBPhR6R3ho/qIZDzsOoHo+KrKhu6erz2W\n",
              "XvmxADPgAAAAhQGerGpCPwAAC6EiEiFjtLtSFHCDCdAYAOKL9GwBwfZRv6gHHG0hZR5ovyP3IVdO\n",
              "ZPvYI6tdWPmzTlRcrTvKpUm5bm3DsD+e/sY4Vnk1oUphFOcsMYptrZo6oYms0U2BSXI/DD71AQyo\n",
              "SHYnul81/0gCs4qMu5HC4J+OnpEl+jEqAqAAHXEAAABOQZqxSahBaJlMCGf//p4QAAAi3z2Gnq50\n",
              "lJcZ+AEB0YDECCyCaVw/tis68XyqsLrE8t4j8PqAaXpjLhLs5+dB5v5KCNSLP4uzCPb+oG/RAAAA\n",
              "UUGez0URLCf/AAAJa1qSG64h6FYdANh1mmmNjXrq/f/UCqhjRlJfUo+5D6MsPELNdgT9/EiTEnEb\n",
              "bMO6hE/oL49sPsTmL3ElSsWk5jAwAACygQAAAG0Bnu50Qj8AAAteGpgbMw/F5kHd00vOg6yswAtW\n",
              "Fm4gyuE2pg+cIVuqDzhi6TVN++hmoLFiIUlOEA5Qxn4Cv2pgOK0qRfueetg//TRkBrn6bkvKVBQP\n",
              "X83IoLhKrDziIepZNNm0bHr+YrKgAAWcAAAAeAGe8GpCPwAAC1qSnHD5uJfmK0UDJgytEcxEAF1F\n",
              "qQujbs9SrcrHrdpnmEmstuJ7iZoV00lpwSz/8x47qBEOt5RJLgJyTYcY5mX0uuV41S21DO3EhFer\n",
              "s5hP+SbJNJh7jotm6sO6i8wprnA+F7julocsH5zjKAAyoAAAAHFBmvVJqEFsmUwIZ//+nhAAACHf\n",
              "PaRY4gjFtUGvQu3v2nlhlLoBcFbRG8f6w4Z1br6rHX4394n5FwXyV8nrCqOsefDd0fcQwMICJc8m\n",
              "G4rg1kZUr2OoPbhrZnvWQ3OgYpWYS1A9hiwmObIXWFuIN6ApoQAAAI1BnxNFFSwn/wAACSxJJeVp\n",
              "7NnHqtwwG0VIe5VUyFYAA3l0WAugTylCuLt02m22q1XhAB0+aFrx4wGIm58KURwb5rR/5W5j7bIv\n",
              "CoAD761csIOVEPnYNfq0OsJHxXsryLNsM+8WLQq0cOjrNqWesgeGLkdsHqh2a4JI6UcP8Q5Y1zOU\n",
              "3Nw9vo/5LemADZgAAABvAZ8ydEI/AAALEEusYlZ1PAzQpKaEdy4H6enHsuWHVVWAV3AAJVyqurT5\n",
              "leiuje7YqVnohFOmuyVjtNPc21CKavP9IES2O6PWFZ6avT4u7utu89i++7b3YH++bHR9Go0N9LPj\n",
              "HjB5+Vb/XlFUZAFBAAAAawGfNGpCPwAACs2bUFeRrOXVRJfuZWv+PQ4HqT6ouOeQngRgYc3gAuXN\n",
              "ui8Ay1THs6ovtg3RNSiJtzvME7+btrKq6xw4aIXGA25Wjc92kFEP2rzBN1GqAy+bdERtS+pAQ2KF\n",
              "7v/RzxZEAKSBAAAAX0GbOUmoQWyZTAhf//6MsAAAIT9CBspcZLZ17IbF+3hnB94X5xs9gIGJvVei\n",
              "AazjA353qCaWaPlDk5pruZOOgwN8J3PpYbFm1MMAgqFJJwIZXXEyD8BSuoK2Bz68IOmAAAAAakGf\n",
              "V0UVLCf/AAAI7EklXW8AP/6bc6ugffYAuGIul5CNFzgnP0pPu1whQAMXxAzYbnte+tDha6FA89tH\n",
              "ZU3yl8ypk9mNdK0ly+CHggVf49D+lEJrLheSB++/Im53LKYz3JOQccA/ynKAFbEAAABmAZ92dEI/\n",
              "AAAKyEWpI8JTvwrU9IjodXwAXQCY9MFrZ/4QgXFwuHWn3I7xP10dmjn/h9TIn0sstjQXSy3x34+n\n",
              "oowcTsCp1Wl96QoAZ2i1G1277vwX8uTiJH04JQ5llXgCUXoQADAhAAAAhAGfeGpCPwAACoEXnJrv\n",
              "xysKo8UsNQAS9ABcyIaF9FuaQHTuGB4JQFhFexCEkN2wQSnlPqO916o+SN6scO49/Zslv4D+uLEo\n",
              "bUO/ebWAeIfYfvAOerjxpc415N129tqJmYVPxT2wdNJ6uoZgk2ct1h3w3xNlpm06vrTmqztb1wfZ\n",
              "w3QBdwAAAI9Bm3xJqEFsmUwIX//+jLAAACA/Qga9cZLZwOZyuJAwd5u9yj8V7eES6ADajaczX6wx\n",
              "3ZcihcynFp61aKkZ5jex+zPKwQKsMrdmDrYCbYcI4WCvVJ5W6MoDFh1QNkW12dAQev65bMltNiIL\n",
              "L58MKMBCMCMoG5NKJ3p5xXbGaDWA3p/78Icw5GifPb/y94Qd0QAAAHFBn5pFFSwn/wAACKxJHjW8\n",
              "AJe0TIbkf3GpjzqoCETBm0uaHzuwP2ApmX5XMgdVa5x/UWD2L8iAvFO9ljhbmvIZDORvsMy97C7G\n",
              "phghVVFlG38QO/Q08scUTWw10b0AIAfIBDB+TIpMOiJiGV+WlAABlQAAAFcBn7tqQj8AAAo5F5+P\n",
              "zt+sHbUTreldaOHpUhx2ijFBjGXYhQW8VoAkgQD1EjED8Vs46x3sng2frdo7DHp2bMDd5tHP+63O\n",
              "SBNvstlvM+zlEKrbYgAAYEEAAABkQZu9SahBbJlMCF///oywAAAfM+/j3V+WBTkYFbB52zA8pMcT\n",
              "CIAG3Au9lc7ZoyGyzIg7Rv8Wj1/AhsBX25X/sGZnLQRqKJRFvT2qXA2LrM6v6iQSXXlcaPJ5k7hN\n",
              "b7Nxm0EHpQAAAHBBm95J4QpSZTAhf/6MsAAAH197aoh0AktnXshsYa8DiSWtirLdqsisNUaI6B+f\n",
              "puADmikRyBHr6aUtLuhdtVPPkhXFdm/1Q27mLAvjnDCZJKho+4VnWNQqNWynrXJkxF7umh+L43j6\n",
              "9kRsH5oohcNSAAAAZ0Gb/0nhDomUwIZ//p4QAAAeTzksQAIU+Db4cCN50K0R2ZVTRtV5JcO0dr/w\n",
              "0Itf59Bg3BJT3Mq99abn3eZvbibrDEXSjGJ8d7lGCkaAvd9HisHu2/8sBBfPPZEsbb4i+xFJ/rjZ\n",
              "gwIAAACtQZoBSeEPJlMFETwz//6eEAAAHn1duloQ8rAyVTdpdhQlQ2hNw10gL7+SiWMsWFHIFE5m\n",
              "C/lZKd04AGC3lrHQKRksiDzjyoNsXAdFd75/4zL6dnx8g1OTahGaxyMIGi4nTZSNzI+kMo2GRQy/\n",
              "XU2u8yP3uH/m6+UZP6WfSgMtiDA80hCnCwFzkNugIhOAj4aWJKbNWg+LKH/bxNX0c3hwHsdXu1WK\n",
              "nnvr6LC5QcEAAADYAZ4gakI/AABBeTS2D39wALZ92N1G2zZJWr1TsYvjZps6UZs0KWeNJ8pizdJp\n",
              "OSXzOGRnA16zz0m3f4SnSX5tFbuJGZARCdpYn95FVWXxLRRyA2cV3+5N7TiBBqp/k/O5e9sqQnu0\n",
              "Y7HZePzus8XBBRQr3kDtnw5GATJd6FbI1wF81+nV6isYsyS30epG0m3Ef/KnLvJUVgfjhgsZgSDb\n",
              "quj7sP/KBb8Uey0bbyNLPqj/G23bf48RDhVD8IYI42+t5p9NJwahr6yFLYDXcQx4zuzeAtWMgBcQ\n",
              "AAAAlkGaI0nhDyZTBTwz//6eEAAAzvsd+jh8Y1KpAEX6V+8CqOWzVEUbubNVTTfpkxnYL/Ghd8//\n",
              "KpPhl3llVVu0ZQWlBu7nsXOH86BEeowPuptf1IxlE0rb+dY5ifPMJapJ1vf0O7VfgrZQqBZd8CTB\n",
              "kLRT9ba4YJlg0DZUFivHqjhuGOlQwFStwT0E+JxyiY/iekl4EjBiwQAAAHEBnkJqQj8AAEFgQLXS\n",
              "GVisxK1fyri6zSABOsCCc5ZlbQ4QtPdiWpXc3ekF3W1a/YLdXYCKeoZm7ICV83HM9p6eShskb50X\n",
              "yVC9zLSsE6j9/wkom3H3vxfDDqhX1lThz9EzsEwLr84r0ICzKG2OBdgCbgAAAMhBmkVJ4Q8mUwU8\n",
              "M//+nhAAAB3OE57hWoy8ABSMrkPuKOyPV2NVD4k6uxlmjxzgawwVpddOgVzg3XYNZ6F9ABjECPBV\n",
              "8MOgv02MfgxrPYIU0ZKay1IsdM2yuOIML8gMnDt3yhDRL7lo9qifghYAdWn9Qjc5sIhFtXj5XSDJ\n",
              "3PrtLURYHpJp+cRpUT2gvubz6HSeWKn8OOFeys8PdItAKDQN1BnzP3V7tUOsxuVzBwyb9CM/avMU\n",
              "UdEN8wfDqUjqRq6PIZz9LgjK4wAAALkBnmRqQj8AAAmq8F32WJNDXVHCDB6+XfuAC5kQ+k5Whyme\n",
              "hZVoEUT2So797mT5BR7XZjvmXyVcQ4wfUPZsjsU3wUQwqVKMnzIVKb/q3qLjo0t92zYNv6H3oPV3\n",
              "tvuSVSUJXAl624aPQUprPxu9TrbOdwFBrrC/Q/Y1kS753R+Kox6OLC6uKbN3iqMLXwO9FcoalC1J\n",
              "14kS7lF5BrNO1168EMEEw1wTfk6Wz7nviRc1ZmQUXJCxfBAC2wAAAJ1BmmlJ4Q8mUwIZ//6eEAAA\n",
              "HR4TnWu4pyADVUWwrAEnfkPPxvoIofcvWNy3b0Q5e/a4TyaWvq9Z1TMhR7vV+yP7ZHLWl8xAGkkn\n",
              "Igno9JQAV3vmb8/sEG0pu772in4ANNlcmBjDsyZe8tk7HIzNziMjN2ZfY+p/9aAa9z3s/oEtSqwR\n",
              "o3gUFHthFtEEe0Mw//qH0C+lsrBA9C6249BxAAAAkEGeh0URPCf/AAAHxaLyORrvx4LM5Kl3Anwy\n",
              "DrjgzwABKxrzbVPd0z8n4t1+rQSjJoQCuMLjdCfNj6PYub49X2vduojeWcX+XiI/dPY5Ly5aMHBj\n",
              "6ewkMywkgwGaITLHE/LOyc4/rs0OTRQL6XC09lKD0sQd23S+oB587MlzSxa6oAFrHFkOFdJeCYtF\n",
              "sGIB8wAAALMBnqZ0Qj8AAAlvIGVYAS1ucizioBDpq/gg7pYtK52o6YMMdCQlmBjJ98cyK3jUaAqa\n",
              "IBfiErLWxUwr2ZpS9KkJ/8BbxnAAuJ/HvDYHlw7c2b4BSMZlp9ATLFgcZKIOMtdwgwVPNJWf//S6\n",
              "GOQQJ8Gm2ngDkpCKEUul9oHGnxr6B2zUIThrOGpK1/zfqcaTKxXMCf0RmOv3PPLAkOwMPvCS7wTZ\n",
              "yhaTPPaAwHqWuEd9LgBbQAAAAKYBnqhqQj8AAAlr/z9jWltM4Zey6tHpJB/RgfmLQAmrqJo3pQmC\n",
              "/1/0F09liJHF/geikxn0Mo/JHX56lfDBuqqz58GL92LDmXtsZmoeOXi8H56VT13xwURp+TJ7ccCZ\n",
              "9UZx1lbOBCmkNTEyoUPwfrqXZUtNZ7THj1vgWhRm+oJbT4O/X2luhJAZG5Yn9B+c0MOAZz8EG2o8\n",
              "MLIMhxwJUNLEfC0IQAkYAAAAYkGarUmoQWiZTAhn//6eEAAAHEVgcL8Z5MooBfgL18UYm4mWeapX\n",
              "1w9bn12mLhNABqvaUhWt9uyJwwhbYNHEKK0xDeXhMOARoLoM0eR1pbG72VxC5Gdm7STbqwgkDh8S\n",
              "WQEnAAAAWEGey0URLCf/AAAHmuByJ27cEjInNvFr9ROgqY6+fOCXV4kq9P/EMhyAKIOwRiiVx89w\n",
              "LjWhpxCJJxPtcxvtME2wlWOQhfNOnz882+tARHrMN2luhnAAXcAAAAB5AZ7qdEI/AAAJKlkHSBr1\n",
              "IUOX/1LX65HtBUeGXgINB1jYAS16SIT4FMyOAn5m3/Po63YJKGjwig7u5ysnLBgsBTGdA1qZm9Lz\n",
              "BEIi2KlpLBoeI6ZQ6uH7szDwuTTcTL547ij8G7f6aCGNHAlNRFwJHRW1+FojigAXcAAAAIUBnuxq\n",
              "Qj8AAAkr+IkgRJbr8xWigZMGVomKJEAE51T6g18RTw8N9JK7EB3M14vO4sLjgkz6QJa3SkVlhZkZ\n",
              "oWB5bLwkMXGd5rt5J7sJR8BL+hkwl1F+alk9eRbpzRQgeP5jwyXB+jvcTFxLzm3UgcXE/R6fEgDi\n",
              "MZSwI/CQVK0l7o05YANrAAAAXUGa8UmoQWyZTAhn//6eEAAAG79jUN7zUmCDNKMr1+qUrgrdP8gU\n",
              "oSODLpq8eAABnHQJtmxluS/4UbgYSTFQr0FEEAFaLIhh+q1YOWwo8zkVnJlvN1URGjO/h80CpwAA\n",
              "AHdBnw9FFSwn/wAAB2wcZlQHIhhY1cE5zfSfySY+LFcHXs8wACX06b6M/pG4NJxhemnJN0aGrYuE\n",
              "YQVjBzpF1kn4HMJRsHigJGKGMbWVwjhTZ2EuLrcUP3dFOlb5En4WFtAWcTb9AQamiNQyKQbna8Y1\n",
              "cDCKXAANSQAAAG4Bny50Qj8AAAjqXZ4e4C7W65CnpERRYZoAE6wIJzlmYQ1aeRBLVnR53Gmtt5cb\n",
              "uENT8GuSyT/TuTnSHsipJnC8wRfB/VXqkzBujhtLGsziG7pFWEvNyK2244qutEugwAwFOSk59m/Y\n",
              "A7qotUBswAAAAIkBnzBqQj8AAAium09nqgfDtFukWWgW9l8NLJGAE7FgoXdk+nk20RuZzwtY7ASF\n",
              "J/eGglnWp2G5Fr5JIhPkRoQ3DuYSaGUsg/mcRbiOfcLOUhFWFCcR9F9MKLk+TUSTatj2oIrpnb0i\n",
              "V3FnbASHV5hydWsJBump3tamAjsIbOwQSCJipC2vNAC7gAAAAJlBmzRJqEFsmUwIZ//+nhAAABse\n",
              "E58Vbkvvt4CbaU0QR7yjRy+CxXTVsD3rZQAhTyX7PLUE5psZ5unCpU6IEJo9Y3LK0z2265mp4eDd\n",
              "S6phgxR11SaV0TaClURQDbudfbPz9czmyQgJEwC+ku6Axc6E8cot8cTLRgrOIWDkirS0D4Yg2zbe\n",
              "xFj9ZQ4qEzrEr0YByzgylDcEI+EAAAC7QZ9SRRUsJ/8AAAdBnxigCNWveG6eWsHIJK3LG7nWZvCl\n",
              "xi13iZxcy3CXbAuX0m8jICIoT6sYL6QcjFW6ygcQXGx6iurOImMfglyo3MeIuORXSLMZ6hhOlrz5\n",
              "dMizDAn5P6lTMBX0TBH0vQuaXC/AjIHft502m4Ptp4op49nIWx5bXrGeux7bx/et2qbaGVY1uiGc\n",
              "/irkbqkLyp1oEbgwxOkd6k+PdDRNFHZj9QGGqJ5YjLs4XM+6XcAFbAAAAIEBn3NqQj8AAAir+JfI\n",
              "kAJbxJo5yvABfSWH903IQ0g5ofrfnE1kC7vF93EYatsZHRdwCeikvoT+Vpu7n7+7oEsldG9bJPxd\n",
              "Sbn1HyLMSVDc6CasdWMDRFo0MoXbkhC4lMvXAVtud4znXPvBlQU7vI7dG/8KZ8kNXyJbGyoMBoYA\n",
              "N6AAAACTQZt4SahBbJlMCF///oywAAAarhOhhlQvDsIfqA3AKlhEm6gZXJbuRmcfrW73gBY2BzfN\n",
              "JQWJO5daOf4CJUoZxXw502999Ge8Jg36K0TgcAo/uDxidVbd7ks+Y1wnLDziC8kky66C+OBQoDnV\n",
              "e0eAGIAYAFyDyDEHuXJ6PmZ83WaGAoMdX2YBxISFZxrHufngyTgJAAAAZUGflkUVLCf/AAAHFBlN\n",
              "p7WgcDPkw8+Ky5KP2PhHvtCnqsQLx7CWuh+foQAECJWKbbl663hsbEelFjnn7T3yFZsxS4yjRjyh\n",
              "M9obq5ldD4/Wk25OGVou7yJv1ksechDeKRMGgCXgAAAAnwGftXRCPwAACGpZAHLC7W65CnpEghJV\n",
              "/99ACaOCB5WjfWOsUpH3tr7PqGyjTMeiWjv7XbzXIjAV/GytI+XOBiNpyicRWDCj60/w5O+comiL\n",
              "i7Ka5vXv73iYS/RVGen6VHUaWQ7KV/gRTmyvnvfEa1gicVFzKwEZ7hVC6m/r3vv7AFLNvAnqG6Jn\n",
              "GBkwAX58e/3p1Ti9R+IaoyyErgAHzQAAAHcBn7dqQj8AAAgxIGTWnCtmCUHalKb97AJQV4IpnS3/\n",
              "BxZf0AJO+vTx+Hjc4d9L8aM7r/yDUN10Zeh74vzDKGaeJOSRKJrWeb77wc1yJ6ZjyGzANlhWIftQ\n",
              "GW5FdVnJCww2aPSdEnQJxycoRvJ9SvKXpmJ7DAAFpQAAAGZBm7lJqEFsmUwIZ//+nhAAABm59dsm\n",
              "3OMUlhfvYgZfY4uIWX/qAFZu+Pq2WfssuPcocYFHqzUdWicFYyBlwEwe2p2VDtSawfo6C6M9etqa\n",
              "pb88xRO5CsWCKpTuMcRiI/iuoUqgW0AAAAB9QZvcSeEKUmUwIZ/+nhAAABnfY0aWfacawzkVJ/Hi\n",
              "61Kk8HgFAre64jrFgxm8vzSx0S/mMcsQvdXI2XpRFCPh2ltePZF2UQ0opjVCohEwOrp/TJntG5i5\n",
              "6wxheTD5uRUSQjeY4+MKIUkHlFlfl0Nad5BbrJvg9Y19auxsRSUAAABcQZ/6RTRMJ/8AAAboTg8W\n",
              "MZ4vzpEbdD8GkzGjmghEL4yanA06qITuVfoz8YpOXrvJ/fwoiuVuWGFk2M2xukvtrzXAbVuf7DTe\n",
              "ASvEIfLR3D2YzccvhAxbXoAARsAAAAB3AZ4bakI/AAAH7x2wOHLuKRSvYLQUzArKDI32AE0wIJzl\n",
              "mW5xt3DNQ7ifvSrOnK+6Numqn3+KyqxCd+opVa+J71to1xJKxWtvEaT1+YbdNfD3uRHf7V4nSrzN\n",
              "IQQte8kHn0/sJA3Upo8PR3I8ONZvZbskiB0ALuEAAABrQZofSahBaJlMCF///oywAAAZb1syvxzz\n",
              "lBrENUdnCaMUHMNkein4SRNb6ACmcLOSoatUc1eUK+ixDmKxIQlG5Evyas8XSfJfS8vVCE7Pa2yz\n",
              "3ziTxVzEnqfEqY/zGVVMirb1mreSeX1MQrkAAABkQZ49RREsJ/8AAAbATg8WMZ4uz9NhGBM8Avai\n",
              "gBuE6NByK6hzQWkndA8jok7xyopjgW0+tOuqcRkX9t0AucVIM17TLgMtQ+mtc8BsMl+Fosi2mfcI\n",
              "+JmXVUCH+o17kn8W+oADZgAAAGUBnl5qQj8AAAfDHbA4cu4pFK9gtBS7Sak94HN3HES004w4lJhM\n",
              "v0lZ3eUnYzNTisF31jhO8UzvxQm7/SS3D2IoOJy4PPIP6QXQcxrc5F3J+pZkzDREoz2Hpo+6c3uC\n",
              "E/R89AD5gAAAAIVBmkJJqEFsmUwIX//+jLAAABjOE57r8mkt/Dv6kAJS8R/J7iZYncZLTrKWM+h7\n",
              "lQ8IDRexhhlDPt2L5finpZFDHvbwS6/M5TD0RWAORiFk1dGnpFSlvskv28xSBpyJj0GlQz5kzo/1\n",
              "ju3xW/fQAOVz9q/C4FxyyWIelYt97s+1fbJv8EKDAAAAWEGeYEUVLCf/AAAGmEvNn+59026RvAeG\n",
              "L+Hz9rmSEl/HD0TqrNO54WMnI5+4mCkFzhwewZkIKcLQgtvNlfd9CykZ23xNTpQWNXPCm/VuL2Gb\n",
              "4IL8eWdAAScAAAByAZ6BakI/AAAHmb6sn+Othonl6MlItsAcHbKN4AJ04IHnuDMIuILL1g87NZ7H\n",
              "30yJf7x36vrPeEz8B6CLmuQQMBAn3pDjAAmNXW9CRITBj6zoXVJ7VvHGuE9xvS5DABR3ITCbhL5Q\n",
              "5J3sU+iqViAWAAD/AAAAikGahkmoQWyZTAhP//3xAAADAON6acxZQRAnkpCjtcA7dza/WFIsYCWb\n",
              "XuDls+1+DK9gAJlUZgg21zVAvB1odDAcUd0ovjYDo2sSC98n+Vxuk2JeSHCpSvsrCkw9DHf45pG6\n",
              "ETIOlZ5r3JM4zXe3qKuwuWWHP/0r+HVwPv3tkdI1Y4+yVzD92oX7xAAAAElBnqRFFSwn/wAABnBP\n",
              "k809+0J2IEWsDNOLxbR8Odwv7wOtBKrtUrVTNzjdsnB7RFcULkrXrUQO0aGU3zDlSMiQ9MMMEsV3\n",
              "AGtBAAAATwGew3RCPwAAB5ax1JHhKd+FanpGExp9nnbIXycQqA4dckAHeweK8WUS3KgWTNkxl7AL\n",
              "CL3xM9IGzJvf7X/fE7Jb2lMhfKEqmLSsgmkAA6cAAACfAZ7FakI/AAAHayO5AAC6tzkW5/qd0kw+\n",
              "FDQ/nVM+u+iMucSjSx/6Rs2rDLD6TRtNSMeq/sNNjeKfyREe3TSAzXuxIXPQHodDbtXLDlOPCBxr\n",
              "U4jM2VcqoU5BKScBXy56+s6K7K/o5oHmvjlIFIujBJ39opFnPBBvlToAFt90LO3rTuK8bRRw7VXS\n",
              "TvyCCtlcmZIgMYay2xvYD9zf0B4xAAAAXEGax0moQWyZTAhH//3hAAADAWP1qS/CzPv+TKaWaaWR\n",
              "WzociZ3TtJUNvvfYs9WnDQftjtKSDluvPTIE2VAtUKP9bEPb/tg+BPDGKxGEaZord02odTsdex7u\n",
              "QHhBAAALu21vb3YAAABsbXZoZAAAAAAAAAAAAAAAAAAAA+gAABOIAAEAAAEAAAAAAAAAAAAAAAAB\n",
              "AAAAAAAAAAAAAAAAAAAAAQAAAAAAAAAAAAAAAAAAQAAAAAAAAAAAAAAAAAAAAAAAAAAAAAAAAAAA\n",
              "AAAAAAIAAArldHJhawAAAFx0a2hkAAAAAwAAAAAAAAAAAAAAAQAAAAAAABOIAAAAAAAAAAAAAAAA\n",
              "AAAAAAABAAAAAAAAAAAAAAAAAAAAAQAAAAAAAAAAAAAAAAAAQAAAAASwAAACvAAAAAAAJGVkdHMA\n",
              "AAAcZWxzdAAAAAAAAAABAAATiAAAAgAAAQAAAAAKXW1kaWEAAAAgbWRoZAAAAAAAAAAAAAAAAAAA\n",
              "KAAAAMgAVcQAAAAAAC1oZGxyAAAAAAAAAAB2aWRlAAAAAAAAAAAAAAAAVmlkZW9IYW5kbGVyAAAA\n",
              "CghtaW5mAAAAFHZtaGQAAAABAAAAAAAAAAAAAAAkZGluZgAAABxkcmVmAAAAAAAAAAEAAAAMdXJs\n",
              "IAAAAAEAAAnIc3RibAAAALhzdHNkAAAAAAAAAAEAAACoYXZjMQAAAAAAAAABAAAAAAAAAAAAAAAA\n",
              "AAAAAASwArwASAAAAEgAAAAAAAAAAQAAAAAAAAAAAAAAAAAAAAAAAAAAAAAAAAAAAAAAAAAAABj/\n",
              "/wAAADZhdmNDAWQAIP/hABlnZAAgrNlASwWfuEAAAAMAQAAAFAPGDGWAAQAGaOvjyyLA/fj4AAAA\n",
              "ABx1dWlka2hA8l8kT8W6OaUbzwMj8wAAAAAAAAAYc3R0cwAAAAAAAAABAAAAyAAAAQAAAAAUc3Rz\n",
              "cwAAAAAAAAABAAAAAQAABXhjdHRzAAAAAAAAAK0AAAAEAAACAAAAAAEAAAMAAAAAAQAAAQAAAAAB\n",
              "AAAEAAAAAAIAAAEAAAAAAQAABQAAAAABAAACAAAAAAEAAAAAAAAAAQAAAQAAAAABAAACAAAAAAEA\n",
              "AAQAAAAAAgAAAQAAAAABAAAEAAAAAAIAAAEAAAAAAQAABAAAAAACAAABAAAAAAEAAAUAAAAAAQAA\n",
              "AgAAAAABAAAAAAAAAAEAAAEAAAAAAQAABAAAAAACAAABAAAAAAEAAAQAAAAAAgAAAQAAAAABAAAF\n",
              "AAAAAAEAAAIAAAAAAQAAAAAAAAABAAABAAAAAAEAAAIAAAAAAQAABAAAAAACAAABAAAAAAEAAAMA\n",
              "AAAAAQAAAQAAAAABAAADAAAAAAEAAAEAAAAAAQAABQAAAAABAAACAAAAAAEAAAAAAAAAAQAAAQAA\n",
              "AAABAAAFAAAAAAEAAAIAAAAAAQAAAAAAAAABAAABAAAAAAEAAAUAAAAAAQAAAgAAAAABAAAAAAAA\n",
              "AAEAAAEAAAAAAQAABQAAAAABAAACAAAAAAEAAAAAAAAAAQAAAQAAAAABAAACAAAAAAEAAAUAAAAA\n",
              "AQAAAgAAAAABAAAAAAAAAAEAAAEAAAAAAQAABAAAAAACAAABAAAAAAEAAAUAAAAAAQAAAgAAAAAB\n",
              "AAAAAAAAAAEAAAEAAAAAAQAABQAAAAABAAACAAAAAAEAAAAAAAAAAQAAAQAAAAABAAADAAAAAAEA\n",
              "AAEAAAAAAwAAAgAAAAABAAAEAAAAAAIAAAEAAAAAAQAAAgAAAAABAAAFAAAAAAEAAAIAAAAAAQAA\n",
              "AAAAAAABAAABAAAAAAEAAAUAAAAAAQAAAgAAAAABAAAAAAAAAAEAAAEAAAAAAQAABQAAAAABAAAC\n",
              "AAAAAAEAAAAAAAAAAQAAAQAAAAABAAAEAAAAAAIAAAEAAAAAAQAABQAAAAABAAACAAAAAAEAAAAA\n",
              "AAAAAQAAAQAAAAABAAAFAAAAAAEAAAIAAAAAAQAAAAAAAAABAAABAAAAAAEAAAMAAAAAAQAAAQAA\n",
              "AAABAAAFAAAAAAEAAAIAAAAAAQAAAAAAAAABAAABAAAAAAEAAAUAAAAAAQAAAgAAAAABAAAAAAAA\n",
              "AAEAAAEAAAAABAAAAgAAAAABAAAEAAAAAAIAAAEAAAAAAQAABQAAAAABAAACAAAAAAEAAAAAAAAA\n",
              "AQAAAQAAAAABAAAEAAAAAAIAAAEAAAAAAQAABQAAAAABAAACAAAAAAEAAAAAAAAAAQAAAQAAAAAB\n",
              "AAACAAAAAAEAAAUAAAAAAQAAAgAAAAABAAAAAAAAAAEAAAEAAAAAAQAABQAAAAABAAACAAAAAAEA\n",
              "AAAAAAAAAQAAAQAAAAABAAAFAAAAAAEAAAIAAAAAAQAAAAAAAAABAAABAAAAAAEAAAUAAAAAAQAA\n",
              "AgAAAAABAAAAAAAAAAEAAAEAAAAAAQAABAAAAAACAAABAAAAAAMAAAIAAAAAAQAAAwAAAAABAAAB\n",
              "AAAAAAEAAAMAAAAAAQAAAQAAAAABAAADAAAAAAEAAAEAAAAAAQAABQAAAAABAAACAAAAAAEAAAAA\n",
              "AAAAAQAAAQAAAAABAAAFAAAAAAEAAAIAAAAAAQAAAAAAAAABAAABAAAAAAEAAAUAAAAAAQAAAgAA\n",
              "AAABAAAAAAAAAAEAAAEAAAAAAQAABAAAAAACAAABAAAAAAEAAAUAAAAAAQAAAgAAAAABAAAAAAAA\n",
              "AAEAAAEAAAAAAQAAAgAAAAABAAAEAAAAAAIAAAEAAAAAAQAABAAAAAACAAABAAAAAAEAAAQAAAAA\n",
              "AgAAAQAAAAABAAAFAAAAAAEAAAIAAAAAAQAAAAAAAAABAAABAAAAAAEAAAIAAAAAHHN0c2MAAAAA\n",
              "AAAAAQAAAAEAAADIAAAAAQAAAzRzdHN6AAAAAAAAAAAAAADIAAATSgAAAvYAAAMuAAACDgAAAQcA\n",
              "AACOAAAA6AAAAYMAAABvAAAA/QAAAJYAAAC4AAAAgwAAAIMAAACIAAAAfwAAAIIAAAB1AAAAfgAA\n",
              "AHoAAACPAAAAdQAAAIMAAABTAAAAyAAAAJ4AAACXAAAAggAAAJAAAAChAAAAsAAAANcAAABoAAAA\n",
              "bAAAAJoAAACnAAAAdQAAAIUAAADBAAAAeAAAAH4AAADfAAAAhwAAANEAAAC/AAAAeQAAAKcAAACI\n",
              "AAAAaAAAAJ4AAABhAAAAmgAAAGgAAABwAAAAYAAAAIMAAACBAAAAYwAAAIQAAACgAAAAXwAAAIcA\n",
              "AABjAAAAfgAAAGgAAACFAAAAdAAAAHEAAACfAAAAUgAAAKAAAAB6AAAAqgAAAE0AAACKAAAAiQAA\n",
              "AGwAAAB7AAAAhgAAAH8AAACuAAAAoAAAALAAAACNAAAAdQAAALIAAACnAAAAqQAAAPAAAACFAAAA\n",
              "VwAAAG0AAAB9AAAAtwAAAGIAAADwAAAAeAAAAJkAAACMAAAAygAAAHwAAACRAAAAdQAAAJIAAACK\n",
              "AAAAWAAAAHoAAACwAAAAeQAAAI4AAABnAAAAXwAAAFsAAACcAAAAgAAAAGoAAABTAAAAhAAAAKYA\n",
              "AACOAAAAwQAAALIAAACVAAAAtQAAAIoAAACHAAAAqwAAAGMAAACtAAAAhwAAALQAAAByAAAAVwAA\n",
              "AFUAAAByAAAAlAAAAIYAAACFAAAAoQAAAIwAAAByAAAAiQAAAFIAAABVAAAAcQAAAHwAAAB1AAAA\n",
              "kQAAAHMAAABvAAAAYwAAAG4AAABqAAAAiAAAAJMAAAB1AAAAWwAAAGgAAAB0AAAAawAAALEAAADc\n",
              "AAAAmgAAAHUAAADMAAAAvQAAAKEAAACUAAAAtwAAAKoAAABmAAAAXAAAAH0AAACJAAAAYQAAAHsA\n",
              "AAByAAAAjQAAAJ0AAAC/AAAAhQAAAJcAAABpAAAAowAAAHsAAABqAAAAgQAAAGAAAAB7AAAAbwAA\n",
              "AGgAAABpAAAAiQAAAFwAAAB2AAAAjgAAAE0AAABTAAAAowAAAGAAAAAUc3RjbwAAAAAAAAABAAAA\n",
              "MAAAAGJ1ZHRhAAAAWm1ldGEAAAAAAAAAIWhkbHIAAAAAAAAAAG1kaXJhcHBsAAAAAAAAAAAAAAAA\n",
              "LWlsc3QAAAAlqXRvbwAAAB1kYXRhAAAAAQAAAABMYXZmNTguNzYuMTAw\n",
              "\">\n",
              "  Your browser does not support the video tag.\n",
              "</video>"
            ]
          },
          "metadata": {},
          "execution_count": 23
        },
        {
          "output_type": "display_data",
          "data": {
            "text/plain": [
              "<Figure size 1200x700 with 1 Axes>"
            ],
            "image/png": "[encoded data removed]"
          },
          "metadata": {}
        }
      ],
      "source": [
        "from IPython.display import HTML\n",
        "\n",
        "idx = 0\n",
        "\n",
        "fig, ax = plt.subplots(facecolor='w', figsize=(12, 7))\n",
        "labels=['0', '1', '2', '3', '4', '5', '6', '7', '8','9']\n",
        "print(f\"The target label is: {targets[idx]}\")\n",
        "\n",
        "\n",
        "\n",
        "\n",
        "anim = splt.spike_count(spk_rec[:, idx].detach().cpu(), fig, ax, labels=labels,\n",
        "                        animate=True, interpolate=4)\n",
        "\n",
        "HTML(anim.to_html5_video())\n",
        "# anim.save(\"spike_bar.mp4\")"
      ]
    },
    {
      "cell_type": "code",
      "source": [],
      "metadata": {
        "id": "Mdn_MClcNZsG"
      },
      "execution_count": null,
      "outputs": []
    }
  ],
  "metadata": {
    "accelerator": "GPU",
    "colab": {
      "provenance": []
    },
    "kernelspec": {
      "display_name": "Python 3",
      "language": "python",
      "name": "python3"
    },
    "language_info": {
      "codemirror_mode": {
        "name": "ipython",
        "version": 3
      },
      "file_extension": ".py",
      "mimetype": "text/x-python",
      "name": "python",
      "nbconvert_exporter": "python",
      "pygments_lexer": "ipython2",
      "version": "3.11.1 (v3.11.1:a7a450f84a, Dec  6 2022, 15:24:06) [Clang 13.0.0 (clang-1300.0.29.30)]"
    },
    "vscode": {
      "interpreter": {
        "hash": "aee8b7b246df8f9039afb4144a1f6fd8d2ca17a180786b69acc140d282b71a49"
      }
    }
  },
  "nbformat": 4,
  "nbformat_minor": 0
}