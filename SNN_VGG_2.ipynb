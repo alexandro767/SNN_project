{
  "cells": [
    {
      "cell_type": "markdown",
      "source": [
        "##SNNTorch is a torch-module fror Spiking Neural Networks"
      ],
      "metadata": {
        "id": "lPoo-62UCcw4"
      }
    },
    {
      "cell_type": "code",
      "execution_count": null,
      "metadata": {
        "id": "jnpo_j80BmDK",
        "outputId": "253f6859-1b0e-4434-df0f-4198708c0806"
      },
      "outputs": [
        {
          "name": "stderr",
          "output_type": "stream",
          "text": [
            "/tmp/ipykernel_412234/3748532884.py:4: DeprecationWarning: The module snntorch.backprop will be deprecated in  a future release. Writing out your own training loop will lead to substantially faster performance.\n",
            "  from snntorch import backprop\n"
          ]
        }
      ],
      "source": [
        "# imports\n",
        "import snntorch as snn\n",
        "from snntorch import surrogate\n",
        "from snntorch import backprop\n",
        "from snntorch import functional as SF\n",
        "from snntorch import utils\n",
        "from snntorch import spikeplot as splt\n",
        "from snntorch import spikegen\n",
        "\n",
        "import torch\n",
        "import torch.nn as nn\n",
        "from torch.utils.data import DataLoader\n",
        "from torchvision import datasets, transforms\n",
        "import torch.nn.functional as F\n",
        "\n",
        "import matplotlib.pyplot as plt\n",
        "import numpy as np\n",
        "import itertools"
      ]
    },
    {
      "cell_type": "code",
      "execution_count": null,
      "metadata": {
        "id": "vFjWaOpzBmDM"
      },
      "outputs": [],
      "source": [
        "# dataloader arguments\n",
        "batch_size = 128\n",
        "data_path = \"/tmp/data/cifar10\"\n",
        "\n",
        "dtype = torch.float\n",
        "device = torch.device(\"cuda\") if torch.cuda.is_available() else torch.device(\"cpu\")"
      ]
    },
    {
      "cell_type": "code",
      "source": [],
      "metadata": {
        "id": "my50IaDvB7Jt"
      },
      "execution_count": null,
      "outputs": []
    },
    {
      "cell_type": "markdown",
      "source": [
        "#Downloading CIFAR-10"
      ],
      "metadata": {
        "id": "WyrMhUWhB_W0"
      }
    },
    {
      "cell_type": "code",
      "execution_count": null,
      "metadata": {
        "id": "AaM-JbKIBmDO",
        "outputId": "0ad5abac-47ce-4d60-8bc5-51ecdb452da5"
      },
      "outputs": [
        {
          "name": "stdout",
          "output_type": "stream",
          "text": [
            "Files already downloaded and verified\n",
            "Files already downloaded and verified\n",
            "50000 10000\n"
          ]
        },
        {
          "data": {
            "text/plain": [
              "torch.Size([3, 32, 32])"
            ]
          },
          "execution_count": 3,
          "metadata": {},
          "output_type": "execute_result"
        }
      ],
      "source": [
        "# Define a transform\n",
        "transform = transforms.Compose(\n",
        "    [\n",
        "        transforms.Resize((32, 32)),\n",
        "        # transforms.Grayscale(),\n",
        "        transforms.ToTensor(),\n",
        "        transforms.Normalize((0,), (1,)),\n",
        "    ]\n",
        ")\n",
        "\n",
        "cifar_train = datasets.CIFAR10(\n",
        "    data_path, train=True, download=True, transform=transform\n",
        ")\n",
        "cifar_test = datasets.CIFAR10(\n",
        "    data_path, train=False, download=True, transform=transform\n",
        ")\n",
        "\n",
        "# Create DataLoaders\n",
        "train_loader = DataLoader(\n",
        "    cifar_train, batch_size=batch_size, shuffle=True, drop_last=True\n",
        ")\n",
        "test_loader = DataLoader(\n",
        "    cifar_test, batch_size=batch_size, shuffle=True, drop_last=True\n",
        ")\n",
        "\n",
        "print(len(cifar_train), len(cifar_test))\n",
        "cifar_test[0][0].shape"
      ]
    },
    {
      "cell_type": "markdown",
      "source": [
        "#Define network"
      ],
      "metadata": {
        "id": "dGHfj9rSB23H"
      }
    },
    {
      "cell_type": "code",
      "execution_count": null,
      "metadata": {
        "id": "GtxIaU_2BmDQ"
      },
      "outputs": [],
      "source": [
        "# neuron and simulation parameters\n",
        "spike_grad = surrogate.fast_sigmoid(slope=25)\n",
        "beta = 0.5\n",
        "num_steps = 50"
      ]
    },
    {
      "cell_type": "code",
      "execution_count": null,
      "metadata": {
        "id": "KnfR3AjFBmDQ",
        "outputId": "02140041-735b-49f5-e833-0762c9327175"
      },
      "outputs": [
        {
          "name": "stdout",
          "output_type": "stream",
          "text": [
            "torch.Size([128, 3, 32, 32])\n"
          ]
        }
      ],
      "source": [
        "# #  Initialize Network\n",
        "learn_beta = False\n",
        "learn_threshold = False\n",
        "hidden_channels = 16\n",
        "\n",
        "\n",
        "net = nn.Sequential(\n",
        "    nn.Conv2d(3, hidden_channels, 3, padding=\"same\"),\n",
        "    nn.BatchNorm2d(num_features=hidden_channels),\n",
        "    nn.Conv2d(hidden_channels, hidden_channels, 3, padding=\"same\"),\n",
        "    nn.BatchNorm2d(num_features=hidden_channels),\n",
        "    nn.MaxPool2d(2),\n",
        "    snn.Leaky(beta=beta, spike_grad=spike_grad, init_hidden=True,\n",
        "              learn_beta=learn_beta, learn_threshold=learn_threshold),\n",
        "\n",
        "    nn.Conv2d(hidden_channels, hidden_channels*2, 3, padding=\"same\"),\n",
        "    nn.BatchNorm2d(num_features=hidden_channels*2),\n",
        "    nn.Conv2d(hidden_channels*2, hidden_channels*2, 3, padding=\"same\"),\n",
        "    nn.BatchNorm2d(num_features=hidden_channels*2),\n",
        "    nn.MaxPool2d(2),\n",
        "    snn.Leaky(beta=beta, spike_grad=spike_grad, init_hidden=True,\n",
        "              learn_beta=learn_beta, learn_threshold=learn_threshold),  # 42% 15 epochs\n",
        "\n",
        "    nn.Conv2d(hidden_channels*2, hidden_channels*4, 3, padding=\"same\"),\n",
        "    nn.BatchNorm2d(num_features=hidden_channels*4),\n",
        "    nn.Conv2d(hidden_channels*4, hidden_channels*4, 3, padding=\"same\"),\n",
        "    nn.BatchNorm2d(num_features=hidden_channels*4),\n",
        "    nn.MaxPool2d(2),\n",
        "    snn.Leaky(beta=beta, spike_grad=spike_grad, init_hidden=True,\n",
        "              learn_beta=learn_beta, learn_threshold=learn_threshold),  # 48.13%\n",
        "\n",
        "    nn.Conv2d(hidden_channels*4, hidden_channels*8, 3, padding=\"same\"),\n",
        "    nn.BatchNorm2d(num_features=hidden_channels*8),\n",
        "    nn.Conv2d(hidden_channels*8, hidden_channels*8, 3, padding=\"same\"),\n",
        "    nn.BatchNorm2d(num_features=hidden_channels*8),\n",
        "    nn.MaxPool2d(2),\n",
        "    snn.Leaky(beta=beta, spike_grad=spike_grad, init_hidden=True,\n",
        "              learn_beta=learn_beta, learn_threshold=learn_threshold),\n",
        "\n",
        "    nn.Flatten(),\n",
        "    nn.Linear(512, 10),\n",
        "    snn.Leaky(beta=beta, spike_grad=spike_grad, init_hidden=True,\n",
        "              learn_beta=learn_beta, learn_threshold=learn_threshold, output=False)\n",
        ").to(device)\n",
        "\n",
        "# test input-output\n",
        "\n",
        "data, targets = next(iter(train_loader))\n",
        "print(data.shape)\n",
        "data = data.to(device)\n",
        "targets = targets.to(device)\n",
        "\n",
        "for step in range(num_steps):\n",
        "    spk_out = net(data)"
      ]
    },
    {
      "cell_type": "code",
      "execution_count": null,
      "metadata": {
        "id": "8MbSD90jBmDS",
        "outputId": "da689181-3f68-45ee-a85f-9b76d4258d2a"
      },
      "outputs": [
        {
          "name": "stdout",
          "output_type": "stream",
          "text": [
            "torch.Size([128, 3, 32, 32])\n"
          ]
        }
      ],
      "source": [
        "def forward_pass(net, num_steps, data):\n",
        "    mem_rec = []\n",
        "    spk_rec = []\n",
        "    utils.reset(net)  # resets hidden states for all LIF neurons in net\n",
        "\n",
        "    spike_data = spikegen.rate(\n",
        "        data.to(device), num_steps=num_steps, gain=0.5).to(device)\n",
        "\n",
        "    for step in range(num_steps):\n",
        "        spk_out = net(spike_data[step].squeeze(0))\n",
        "        spk_rec.append(spk_out)\n",
        "\n",
        "    return torch.stack(spk_rec)\n",
        "\n",
        "# test input-output\n",
        "\n",
        "\n",
        "data, targets = next(iter(train_loader))\n",
        "print(data.shape)\n",
        "data = data.to(device)\n",
        "targets = targets.to(device)\n",
        "\n",
        "for step in range(num_steps):\n",
        "    spk_out = net(data)\n",
        "\n",
        "spk_rec = forward_pass(net, num_steps, data)"
      ]
    },
    {
      "cell_type": "code",
      "execution_count": null,
      "metadata": {
        "id": "5RrOi72KBmDT",
        "outputId": "1ec2da5b-0cbc-4382-ed50-f1a836317286"
      },
      "outputs": [
        {
          "name": "stdout",
          "output_type": "stream",
          "text": [
            "The loss from an untrained network is 2.304\n"
          ]
        },
        {
          "name": "stdout",
          "output_type": "stream",
          "text": [
            "The total accuracy on the test set is: 10.00%\n"
          ]
        }
      ],
      "source": [
        "loss_fn = SF.ce_rate_loss()\n",
        "\n",
        "loss_val = loss_fn(spk_rec, targets)\n",
        "\n",
        "print(f\"The loss from an untrained network is {loss_val.item():.3f}\")\n",
        "\n",
        "acc = SF.accuracy_rate(spk_rec, targets)\n",
        "\n",
        "\n",
        "def batch_accuracy(train_loader, net, num_steps):\n",
        "    with torch.no_grad():\n",
        "        total = 0\n",
        "        acc = 0\n",
        "        net.eval()\n",
        "\n",
        "        train_loader = iter(train_loader)\n",
        "        for data, targets in train_loader:\n",
        "            data = data.to(device)\n",
        "            targets = targets.to(device)\n",
        "            spk_rec = forward_pass(net, num_steps, data)\n",
        "\n",
        "            acc += SF.accuracy_rate(spk_rec, targets) * spk_rec.size(1)\n",
        "            total += spk_rec.size(1)\n",
        "\n",
        "    return acc/total\n",
        "\n",
        "\n",
        "test_acc = batch_accuracy(test_loader, net, num_steps)\n",
        "\n",
        "print(f\"The total accuracy on the test set is: {test_acc * 100:.2f}%\")"
      ]
    },
    {
      "cell_type": "markdown",
      "source": [
        "#Define Schedulers"
      ],
      "metadata": {
        "id": "hOO1a37RCG-6"
      }
    },
    {
      "cell_type": "code",
      "execution_count": null,
      "metadata": {
        "id": "tB60OvIqBmDT",
        "outputId": "a93fb744-747e-41ca-9da0-5ab7918d42e5"
      },
      "outputs": [
        {
          "data": {
            "image/png": "[encoded data removed]",
            "text/plain": [
              "<Figure size 640x480 with 1 Axes>"
            ]
          },
          "metadata": {},
          "output_type": "display_data"
        }
      ],
      "source": [
        "%matplotlib inline\n",
        "import copy\n",
        "import math\n",
        "\n",
        "import numpy as np\n",
        "import matplotlib.pyplot as plt\n",
        "def plot_schedule(schedule_fn, iterations=500):\n",
        "    # Iteration count starting at 1\n",
        "    iterations = [i+1 for i in range(iterations)]\n",
        "    lrs = [schedule_fn(i) for i in iterations]\n",
        "    plt.scatter(iterations, lrs)\n",
        "    plt.xlabel(\"Iteration\")\n",
        "    plt.ylabel(\"Learning Rate\")\n",
        "    plt.show()\n",
        "\n",
        "class TriangularSchedule():\n",
        "    def __init__(self, min_lr, max_lr, cycle_length, inc_fraction=0.3):\n",
        "        \"\"\"\n",
        "        min_lr: lower bound for learning rate (float)\n",
        "        max_lr: upper bound for learning rate (float)\n",
        "        cycle_length: iterations between start and finish (int)\n",
        "        inc_fraction: fraction of iterations spent in increasing stage (float)\n",
        "        \"\"\"\n",
        "        self.min_lr = min_lr\n",
        "        self.max_lr = max_lr\n",
        "        self.cycle_length = cycle_length\n",
        "        self.inc_fraction = inc_fraction\n",
        "\n",
        "    def __call__(self, iteration):\n",
        "        if iteration <= self.cycle_length*self.inc_fraction:\n",
        "            unit_cycle = iteration * 1 / (self.cycle_length * self.inc_fraction)\n",
        "        elif iteration <= self.cycle_length:\n",
        "            unit_cycle = (self.cycle_length - iteration) * 1 / (self.cycle_length * (1 - self.inc_fraction))\n",
        "        else:\n",
        "            unit_cycle = 0\n",
        "        adjusted_cycle = (unit_cycle * (self.max_lr - self.min_lr)) + self.min_lr\n",
        "        return adjusted_cycle\n",
        "\n",
        "\n",
        "class CyclicalSchedule():\n",
        "    def __init__(self, schedule_class, cycle_length, cycle_length_decay=1, cycle_magnitude_decay=1, **kwargs):\n",
        "        \"\"\"\n",
        "        schedule_class: class of schedule, expected to take `cycle_length` argument\n",
        "        cycle_length: iterations used for initial cycle (int)\n",
        "        cycle_length_decay: factor multiplied to cycle_length each cycle (float)\n",
        "        cycle_magnitude_decay: factor multiplied learning rate magnitudes each cycle (float)\n",
        "        kwargs: passed to the schedule_class\n",
        "        \"\"\"\n",
        "        self.schedule_class = schedule_class\n",
        "        self.length = cycle_length\n",
        "        self.length_decay = cycle_length_decay\n",
        "        self.magnitude_decay = cycle_magnitude_decay\n",
        "        self.kwargs = kwargs\n",
        "\n",
        "    def __call__(self, iteration):\n",
        "        cycle_idx = 0\n",
        "        cycle_length = self.length\n",
        "        idx = self.length\n",
        "        while idx <= iteration:\n",
        "            cycle_length = math.ceil(cycle_length * self.length_decay)\n",
        "            cycle_idx += 1\n",
        "            idx += cycle_length\n",
        "        cycle_offset = iteration - idx + cycle_length\n",
        "\n",
        "        schedule = self.schedule_class(cycle_length=cycle_length, **self.kwargs)\n",
        "        return schedule(cycle_offset) * self.magnitude_decay**cycle_idx\n",
        "\n",
        "schedule = CyclicalSchedule(TriangularSchedule, min_lr=0.01, max_lr=0.1, cycle_length=100, cycle_magnitude_decay=0.5)\n",
        "plot_schedule(schedule)"
      ]
    },
    {
      "cell_type": "code",
      "source": [],
      "metadata": {
        "id": "tS0AcHEtCTJn"
      },
      "execution_count": null,
      "outputs": []
    },
    {
      "cell_type": "markdown",
      "source": [
        "#Training"
      ],
      "metadata": {
        "id": "TLXxtM4ACTxT"
      }
    },
    {
      "cell_type": "code",
      "execution_count": null,
      "metadata": {
        "id": "QRHnqr-cBmDU",
        "outputId": "c22d85ef-befe-497e-f505-fb177a1d120e"
      },
      "outputs": [
        {
          "name": "stdout",
          "output_type": "stream",
          "text": [
            "Epoch 0, Iteration 20096, Test Acc: 27.50%\n",
            "\n",
            "Epoch 0, Iteration 40064, Test Acc: 33.45%\n",
            "\n",
            "Epoch 1, Iteration 20096, Test Acc: 36.22%\n",
            "\n",
            "Epoch 1, Iteration 40064, Test Acc: 39.30%\n",
            "\n",
            "Epoch 2, Iteration 20096, Test Acc: 41.60%\n",
            "\n",
            "Epoch 2, Iteration 40064, Test Acc: 42.18%\n",
            "\n",
            "Epoch 3, Iteration 20096, Test Acc: 45.16%\n",
            "\n",
            "Epoch 3, Iteration 40064, Test Acc: 45.21%\n",
            "\n",
            "Epoch 4, Iteration 20096, Test Acc: 45.30%\n",
            "\n",
            "Epoch 4, Iteration 40064, Test Acc: 44.39%\n",
            "\n",
            "Epoch 5, Iteration 20096, Test Acc: 46.38%\n",
            "\n",
            "Epoch 5, Iteration 40064, Test Acc: 46.60%\n",
            "\n",
            "Epoch 6, Iteration 20096, Test Acc: 48.39%\n",
            "\n",
            "Epoch 6, Iteration 40064, Test Acc: 48.65%\n",
            "\n",
            "Epoch 7, Iteration 20096, Test Acc: 46.69%\n",
            "\n",
            "Epoch 7, Iteration 40064, Test Acc: 47.39%\n",
            "\n",
            "Epoch 8, Iteration 20096, Test Acc: 49.27%\n",
            "\n",
            "Epoch 8, Iteration 40064, Test Acc: 48.60%\n",
            "\n",
            "Epoch 9, Iteration 20096, Test Acc: 49.99%\n",
            "\n",
            "Epoch 9, Iteration 40064, Test Acc: 50.06%\n",
            "\n"
          ]
        }
      ],
      "source": [
        "from torch.optim.lr_scheduler import LambdaLR\n",
        "from torch.cuda.amp import GradScaler\n",
        "from tqdm import trange\n",
        "optimizer = torch.optim.Adam(net.parameters(), lr=1e-2, betas=(0.9, 0.999))\n",
        "num_epochs = 10\n",
        "loss_hist = []\n",
        "test_acc_hist = []\n",
        "counter_global = 0\n",
        "counter_local = 0\n",
        "\n",
        "\n",
        "schedule = CyclicalSchedule(\n",
        "    TriangularSchedule,\n",
        "    min_lr=0.01,\n",
        "    max_lr=0.1,\n",
        "    cycle_length=3,\n",
        "    cycle_magnitude_decay=0.7,\n",
        ")\n",
        "def lambda_schedule(iteration): return schedule(iteration)\n",
        "\n",
        "\n",
        "scheduler = LambdaLR(optimizer, lr_lambda=lambda_schedule)\n",
        "\n",
        "\n",
        "# Outer training loop\n",
        "for epoch in range(num_epochs):\n",
        "    counter_global = 0\n",
        "    counter_local = 0\n",
        "    # Training loop\n",
        "    for data, targets in iter(train_loader):\n",
        "        data = data.to(device)\n",
        "        targets = targets.to(device)\n",
        "\n",
        "        # forward pass\n",
        "        net.train()\n",
        "        spk_rec = forward_pass(net, num_steps, data)\n",
        "\n",
        "        # initialize the loss & sum over time\n",
        "        loss_val = loss_fn(spk_rec, targets)\n",
        "\n",
        "        # Gradient calculation + weight update\n",
        "        optimizer.zero_grad()\n",
        "        loss_val.backward()\n",
        "        optimizer.step()\n",
        "\n",
        "        # Store loss history for future plotting\n",
        "        loss_hist.append(loss_val.item())\n",
        "\n",
        "        # Test set\n",
        "        if counter_local // 20000 != 0:\n",
        "            counter_local = counter_local % 20000\n",
        "            with torch.no_grad():\n",
        "                net.eval()\n",
        "\n",
        "                # Test set forward pass\n",
        "                test_acc = batch_accuracy(test_loader, net, num_steps)\n",
        "                print(\n",
        "                    f\"Epoch {epoch}, Iteration {counter_global}, Test Acc: {test_acc * 100:.2f}%\\n\")\n",
        "                test_acc_hist.append(test_acc.item())\n",
        "\n",
        "        counter_global += len(targets)\n",
        "        counter_local += len(targets)\n",
        "    scheduler.step()"
      ]
    },
    {
      "cell_type": "code",
      "execution_count": null,
      "metadata": {
        "id": "JljlhI8eBmDV",
        "outputId": "829c70af-e2e6-4945-ee4c-f0169404858c"
      },
      "outputs": [
        {
          "name": "stdout",
          "output_type": "stream",
          "text": [
            "Epoch 10, Iteration 20096, Test Acc: 50.36%\n",
            "\n",
            "Epoch 10, Iteration 40064, Test Acc: 50.27%\n",
            "\n",
            "Epoch 11, Iteration 20096, Test Acc: 47.56%\n",
            "\n",
            "Epoch 11, Iteration 40064, Test Acc: 46.57%\n",
            "\n",
            "Epoch 12, Iteration 20096, Test Acc: 48.72%\n",
            "\n",
            "Epoch 12, Iteration 40064, Test Acc: 49.61%\n",
            "\n",
            "Epoch 13, Iteration 20096, Test Acc: 51.02%\n",
            "\n",
            "Epoch 13, Iteration 40064, Test Acc: 50.95%\n",
            "\n",
            "Epoch 14, Iteration 20096, Test Acc: 49.78%\n",
            "\n",
            "Epoch 14, Iteration 40064, Test Acc: 48.70%\n",
            "\n",
            "Epoch 15, Iteration 20096, Test Acc: 50.69%\n",
            "\n",
            "Epoch 15, Iteration 40064, Test Acc: 51.38%\n",
            "\n",
            "Epoch 16, Iteration 20096, Test Acc: 52.33%\n",
            "\n",
            "Epoch 16, Iteration 40064, Test Acc: 52.53%\n",
            "\n",
            "Epoch 17, Iteration 20096, Test Acc: 51.18%\n",
            "\n",
            "Epoch 17, Iteration 40064, Test Acc: 50.85%\n",
            "\n",
            "Epoch 18, Iteration 20096, Test Acc: 52.61%\n",
            "\n",
            "Epoch 18, Iteration 40064, Test Acc: 53.29%\n",
            "\n",
            "Epoch 19, Iteration 20096, Test Acc: 53.19%\n",
            "\n",
            "Epoch 19, Iteration 40064, Test Acc: 53.60%\n",
            "\n"
          ]
        }
      ],
      "source": [
        "from torch.optim.lr_scheduler import LambdaLR\n",
        "from torch.cuda.amp import GradScaler\n",
        "from tqdm import trange\n",
        "optimizer = torch.optim.Adam(net.parameters(), lr=1e-2, betas=(0.9, 0.999))\n",
        "num_epochs = 20\n",
        "loss_hist = []\n",
        "test_acc_hist = []\n",
        "counter_global = 0\n",
        "counter_local = 0\n",
        "epoch = 10\n",
        "\n",
        "\n",
        "schedule = CyclicalSchedule(\n",
        "    TriangularSchedule,\n",
        "    min_lr=0.01,\n",
        "    max_lr=0.1,\n",
        "    cycle_length=3,\n",
        "    cycle_magnitude_decay=0.7,\n",
        ")\n",
        "def lambda_schedule(iteration): return schedule(iteration)\n",
        "\n",
        "\n",
        "scheduler = LambdaLR(optimizer, lr_lambda=lambda_schedule)\n",
        "\n",
        "\n",
        "# Outer training loop\n",
        "for epoch in range(epoch, num_epochs):\n",
        "    counter_global = 0\n",
        "    counter_local = 0\n",
        "    # Training loop\n",
        "    for data, targets in iter(train_loader):\n",
        "        data = data.to(device)\n",
        "        targets = targets.to(device)\n",
        "\n",
        "        # forward pass\n",
        "        net.train()\n",
        "        spk_rec = forward_pass(net, num_steps, data)\n",
        "\n",
        "        # initialize the loss & sum over time\n",
        "        loss_val = loss_fn(spk_rec, targets)\n",
        "\n",
        "        # Gradient calculation + weight update\n",
        "        optimizer.zero_grad()\n",
        "        loss_val.backward()\n",
        "        optimizer.step()\n",
        "\n",
        "        # Store loss history for future plotting\n",
        "        loss_hist.append(loss_val.item())\n",
        "\n",
        "        # Test set\n",
        "        if counter_local // 20000 != 0:\n",
        "            counter_local = counter_local % 20000\n",
        "            with torch.no_grad():\n",
        "                net.eval()\n",
        "\n",
        "                # Test set forward pass\n",
        "                test_acc = batch_accuracy(test_loader, net, num_steps)\n",
        "                print(\n",
        "                    f\"Epoch {epoch}, Iteration {counter_global}, Test Acc: {test_acc * 100:.2f}%\\n\")\n",
        "                test_acc_hist.append(test_acc.item())\n",
        "\n",
        "        counter_global += len(targets)\n",
        "        counter_local += len(targets)\n",
        "    scheduler.step()"
      ]
    },
    {
      "cell_type": "code",
      "execution_count": null,
      "metadata": {
        "id": "8RITQKEGBmDX",
        "outputId": "ff1ed091-05af-45e2-c051-4a954bdeb42b"
      },
      "outputs": [
        {
          "name": "stdout",
          "output_type": "stream",
          "text": [
            "Epoch 20, Iteration 20096, Test Acc: 54.01%\n",
            "\n",
            "Epoch 20, Iteration 40064, Test Acc: 54.05%\n",
            "\n",
            "Epoch 21, Iteration 20096, Test Acc: 50.62%\n",
            "\n",
            "Epoch 21, Iteration 40064, Test Acc: 50.12%\n",
            "\n",
            "Epoch 22, Iteration 20096, Test Acc: 52.26%\n",
            "\n",
            "Epoch 22, Iteration 40064, Test Acc: 52.78%\n",
            "\n",
            "Epoch 23, Iteration 20096, Test Acc: 53.54%\n",
            "\n",
            "Epoch 23, Iteration 40064, Test Acc: 53.98%\n",
            "\n",
            "Epoch 24, Iteration 20096, Test Acc: 51.27%\n",
            "\n",
            "Epoch 24, Iteration 40064, Test Acc: 52.70%\n",
            "\n",
            "Epoch 25, Iteration 20096, Test Acc: 53.36%\n",
            "\n",
            "Epoch 25, Iteration 40064, Test Acc: 53.66%\n",
            "\n",
            "Epoch 26, Iteration 20096, Test Acc: 54.50%\n",
            "\n",
            "Epoch 26, Iteration 40064, Test Acc: 54.57%\n",
            "\n",
            "Epoch 27, Iteration 20096, Test Acc: 53.91%\n",
            "\n",
            "Epoch 27, Iteration 40064, Test Acc: 53.06%\n",
            "\n",
            "Epoch 28, Iteration 20096, Test Acc: 54.72%\n",
            "\n",
            "Epoch 28, Iteration 40064, Test Acc: 53.48%\n",
            "\n",
            "Epoch 29, Iteration 20096, Test Acc: 54.96%\n",
            "\n",
            "Epoch 29, Iteration 40064, Test Acc: 54.77%\n",
            "\n",
            "Epoch 30, Iteration 20096, Test Acc: 54.47%\n",
            "\n",
            "Epoch 30, Iteration 40064, Test Acc: 54.42%\n",
            "\n",
            "Epoch 31, Iteration 20096, Test Acc: 54.35%\n",
            "\n",
            "Epoch 31, Iteration 40064, Test Acc: 56.05%\n",
            "\n",
            "Epoch 32, Iteration 20096, Test Acc: 56.35%\n",
            "\n",
            "Epoch 32, Iteration 40064, Test Acc: 56.29%\n",
            "\n",
            "Epoch 33, Iteration 20096, Test Acc: 55.93%\n",
            "\n",
            "Epoch 33, Iteration 40064, Test Acc: 54.93%\n",
            "\n",
            "Epoch 34, Iteration 20096, Test Acc: 56.35%\n",
            "\n",
            "Epoch 34, Iteration 40064, Test Acc: 56.25%\n",
            "\n",
            "Epoch 35, Iteration 20096, Test Acc: 56.17%\n",
            "\n",
            "Epoch 35, Iteration 40064, Test Acc: 56.52%\n",
            "\n",
            "Epoch 36, Iteration 20096, Test Acc: 56.58%\n",
            "\n",
            "Epoch 36, Iteration 40064, Test Acc: 55.75%\n",
            "\n",
            "Epoch 37, Iteration 20096, Test Acc: 56.90%\n",
            "\n",
            "Epoch 37, Iteration 40064, Test Acc: 56.68%\n",
            "\n",
            "Epoch 38, Iteration 20096, Test Acc: 56.85%\n",
            "\n",
            "Epoch 38, Iteration 40064, Test Acc: 56.00%\n",
            "\n",
            "Epoch 39, Iteration 20096, Test Acc: 56.76%\n",
            "\n",
            "Epoch 39, Iteration 40064, Test Acc: 56.46%\n",
            "\n",
            "Epoch 40, Iteration 20096, Test Acc: 56.06%\n",
            "\n",
            "Epoch 40, Iteration 40064, Test Acc: 56.04%\n",
            "\n",
            "Epoch 41, Iteration 20096, Test Acc: 56.28%\n",
            "\n",
            "Epoch 41, Iteration 40064, Test Acc: 56.86%\n",
            "\n",
            "Epoch 42, Iteration 20096, Test Acc: 56.55%\n",
            "\n",
            "Epoch 42, Iteration 40064, Test Acc: 57.11%\n",
            "\n",
            "Epoch 43, Iteration 20096, Test Acc: 56.74%\n",
            "\n",
            "Epoch 43, Iteration 40064, Test Acc: 57.36%\n",
            "\n",
            "Epoch 44, Iteration 20096, Test Acc: 56.68%\n",
            "\n",
            "Epoch 44, Iteration 40064, Test Acc: 56.53%\n",
            "\n",
            "Epoch 45, Iteration 20096, Test Acc: 56.31%\n",
            "\n",
            "Epoch 45, Iteration 40064, Test Acc: 56.72%\n",
            "\n",
            "Epoch 46, Iteration 20096, Test Acc: 57.03%\n",
            "\n",
            "Epoch 46, Iteration 40064, Test Acc: 56.93%\n",
            "\n",
            "Epoch 47, Iteration 20096, Test Acc: 56.72%\n",
            "\n",
            "Epoch 47, Iteration 40064, Test Acc: 56.89%\n",
            "\n",
            "Epoch 48, Iteration 20096, Test Acc: 56.76%\n",
            "\n",
            "Epoch 48, Iteration 40064, Test Acc: 56.97%\n",
            "\n",
            "Epoch 49, Iteration 20096, Test Acc: 56.83%\n",
            "\n",
            "Epoch 49, Iteration 40064, Test Acc: 57.22%\n",
            "\n",
            "Epoch 50, Iteration 20096, Test Acc: 57.21%\n",
            "\n",
            "Epoch 50, Iteration 40064, Test Acc: 57.14%\n",
            "\n",
            "Epoch 51, Iteration 20096, Test Acc: 56.79%\n",
            "\n",
            "Epoch 51, Iteration 40064, Test Acc: 57.11%\n",
            "\n",
            "Epoch 52, Iteration 20096, Test Acc: 57.23%\n",
            "\n",
            "Epoch 52, Iteration 40064, Test Acc: 57.12%\n",
            "\n",
            "Epoch 53, Iteration 20096, Test Acc: 57.19%\n",
            "\n",
            "Epoch 53, Iteration 40064, Test Acc: 57.16%\n",
            "\n",
            "Epoch 54, Iteration 20096, Test Acc: 57.13%\n",
            "\n",
            "Epoch 54, Iteration 40064, Test Acc: 56.94%\n",
            "\n",
            "Epoch 55, Iteration 20096, Test Acc: 57.14%\n",
            "\n",
            "Epoch 55, Iteration 40064, Test Acc: 57.53%\n",
            "\n",
            "Epoch 56, Iteration 20096, Test Acc: 57.63%\n",
            "\n",
            "Epoch 56, Iteration 40064, Test Acc: 57.35%\n",
            "\n",
            "Epoch 57, Iteration 20096, Test Acc: 57.72%\n",
            "\n",
            "Epoch 57, Iteration 40064, Test Acc: 57.68%\n",
            "\n",
            "Epoch 58, Iteration 20096, Test Acc: 57.54%\n",
            "\n",
            "Epoch 58, Iteration 40064, Test Acc: 57.43%\n",
            "\n",
            "Epoch 59, Iteration 20096, Test Acc: 57.44%\n",
            "\n",
            "Epoch 59, Iteration 40064, Test Acc: 57.38%\n",
            "\n"
          ]
        }
      ],
      "source": [
        "from torch.optim.lr_scheduler import LambdaLR\n",
        "from torch.cuda.amp import GradScaler\n",
        "from tqdm import trange\n",
        "optimizer = torch.optim.Adam(net.parameters(), lr=1e-2, betas=(0.9, 0.999))\n",
        "num_epochs = 60\n",
        "loss_hist = []\n",
        "test_acc_hist = []\n",
        "counter_global = 0\n",
        "counter_local = 0\n",
        "epoch = 20\n",
        "\n",
        "\n",
        "schedule = CyclicalSchedule(\n",
        "    TriangularSchedule,\n",
        "    min_lr=0.01,\n",
        "    max_lr=0.1,\n",
        "    cycle_length=3,\n",
        "    cycle_magnitude_decay=0.7,\n",
        ")\n",
        "def lambda_schedule(iteration): return schedule(iteration)\n",
        "\n",
        "\n",
        "scheduler = LambdaLR(optimizer, lr_lambda=lambda_schedule)\n",
        "\n",
        "\n",
        "# Outer training loop\n",
        "for epoch in range(epoch, num_epochs):\n",
        "    counter_global = 0\n",
        "    counter_local = 0\n",
        "    # Training loop\n",
        "    for data, targets in iter(train_loader):\n",
        "        data = data.to(device)\n",
        "        targets = targets.to(device)\n",
        "\n",
        "        # forward pass\n",
        "        net.train()\n",
        "        spk_rec = forward_pass(net, num_steps, data)\n",
        "\n",
        "        # initialize the loss & sum over time\n",
        "        loss_val = loss_fn(spk_rec, targets)\n",
        "\n",
        "        # Gradient calculation + weight update\n",
        "        optimizer.zero_grad()\n",
        "        loss_val.backward()\n",
        "        optimizer.step()\n",
        "\n",
        "        # Store loss history for future plotting\n",
        "        loss_hist.append(loss_val.item())\n",
        "\n",
        "        # Test set\n",
        "        if counter_local // 20000 != 0:\n",
        "            counter_local = counter_local % 20000\n",
        "            with torch.no_grad():\n",
        "                net.eval()\n",
        "\n",
        "                # Test set forward pass\n",
        "                test_acc = batch_accuracy(test_loader, net, num_steps)\n",
        "                print(\n",
        "                    f\"Epoch {epoch}, Iteration {counter_global}, Test Acc: {test_acc * 100:.2f}%\\n\")\n",
        "                test_acc_hist.append(test_acc.item())\n",
        "\n",
        "        counter_global += len(targets)\n",
        "        counter_local += len(targets)\n",
        "    scheduler.step()"
      ]
    },
    {
      "cell_type": "markdown",
      "source": [
        "#Results"
      ],
      "metadata": {
        "id": "muZlJ1fNCX8R"
      }
    },
    {
      "cell_type": "code",
      "execution_count": null,
      "metadata": {
        "id": "xfocPNyMBmDY",
        "outputId": "7d3e0951-3f11-44a1-ca04-5da0c5beef02"
      },
      "outputs": [
        {
          "name": "stdout",
          "output_type": "stream",
          "text": [
            "The total accuracy on the test set is: 57.26%\n"
          ]
        }
      ],
      "source": [
        "test_acc = batch_accuracy(test_loader, net, num_steps)\n",
        "\n",
        "print(f\"The total accuracy on the test set is: {test_acc * 100:.2f}%\")"
      ]
    },
    {
      "cell_type": "code",
      "execution_count": null,
      "metadata": {
        "id": "ctxPKkwsBmDY",
        "outputId": "dfd7c4b4-20e4-4625-b389-39b6120c68d3"
      },
      "outputs": [
        {
          "name": "stdout",
          "output_type": "stream",
          "text": [
            "7952400384\n",
            "_CudaDeviceProperties(name='NVIDIA L4', major=8, minor=9, total_memory=22699MB, multi_processor_count=58)\n"
          ]
        },
        {
          "data": {
            "text/plain": [
              "0.3319636861298796"
            ]
          },
          "execution_count": 11,
          "metadata": {},
          "output_type": "execute_result"
        }
      ],
      "source": [
        "import torch\n",
        "import time\n",
        "import gc\n",
        "\n",
        "COLAB = True\n",
        "\n",
        "DEVICE = \"cuda\"\n",
        "\n",
        "\n",
        "def cache_clear():  # In colab to clear GPU cache you need to wait some time after deleting tensor\n",
        "    if COLAB:\n",
        "        time.sleep(0.08)\n",
        "    torch.cuda.empty_cache()\n",
        "\n",
        "\n",
        "def gpu_util():  # To monitor how much more can we load GPU with data\n",
        "    if DEVICE == \"cuda\":\n",
        "        return (\n",
        "            torch.cuda.memory_allocated(DEVICE)\n",
        "            / torch.cuda.get_device_properties(DEVICE).total_memory\n",
        "        )\n",
        "    if DEVICE == \"cpu\":\n",
        "        return 0\n",
        "\n",
        "\n",
        "cache_clear()\n",
        "print(torch.cuda.memory_reserved(DEVICE))\n",
        "print(torch.cuda.get_device_properties(DEVICE))\n",
        "\n",
        "gc.collect()\n",
        "gpu_util()"
      ]
    }
  ],
  "metadata": {
    "kernelspec": {
      "display_name": "cloudspace",
      "language": "python",
      "name": "python3"
    },
    "language_info": {
      "codemirror_mode": {
        "name": "ipython",
        "version": 3
      },
      "file_extension": ".py",
      "mimetype": "text/x-python",
      "name": "python",
      "nbconvert_exporter": "python",
      "pygments_lexer": "ipython3",
      "version": "3.10.10"
    },
    "colab": {
      "provenance": []
    }
  },
  "nbformat": 4,
  "nbformat_minor": 0
}